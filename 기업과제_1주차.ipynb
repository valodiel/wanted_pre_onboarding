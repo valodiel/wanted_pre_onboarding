{
  "nbformat": 4,
  "nbformat_minor": 0,
  "metadata": {
    "colab": {
      "name": "8팀_음승구_기업과제_1주차.ipynb",
      "provenance": [],
      "collapsed_sections": []
    },
    "kernelspec": {
      "name": "python3",
      "display_name": "Python 3"
    },
    "language_info": {
      "name": "python"
    }
  },
  "cells": [
    {
      "cell_type": "code",
      "execution_count": null,
      "metadata": {
        "colab": {
          "base_uri": "https://localhost:8080/"
        },
        "id": "zyrTXorwIEZQ",
        "outputId": "438f6900-9809-455a-fcbd-cc148bcb8ab9"
      },
      "outputs": [
        {
          "name": "stdout",
          "output_type": "stream",
          "text": [
            "9\n",
            "aaa\n",
            "aaaabb\n",
            "aabbcc\n",
            "abb\n",
            "bcc\n",
            "bbcc\n",
            "aabbccdd\n",
            "aaabb\n",
            "cccd\n",
            "1\n",
            "aaaabbaabbccdd\n"
          ]
        }
      ],
      "source": [
        "import re\n",
        "\n",
        "# 첫째 줄에 집합 S의 크기 N이 주어진다. (1 <= N <= 1,000)\n",
        "N = int(input()) \n",
        "\n",
        "# 다음 N개 줄에 집합 S의 원소들이 주어진다. 이 문자열의 길이는 100을 넘지 않는다.\n",
        "S = []\n",
        "for i in range(N):\n",
        "    word = input()\n",
        "    S.append(word)\n",
        "\n",
        "# 다음 줄에 답을 판별해야 하는 문자열의 개수 Q가 주어진다. (1 <= Q <= 1,000)\n",
        "Q = int(input())\n",
        "\n",
        "# 다음 Q개 줄에 답을 판별해야 하는 문자열이 주어진다. 이 문자열의 길이는 10,000을 넘지 않는다.\n",
        "R = []\n",
        "for i in range(Q):\n",
        "    R_word = input()\n",
        "    R.append(R_word)"
      ]
    },
    {
      "cell_type": "markdown",
      "source": [
        "# KMP 알고리즘을 이용한 풀이 (Q1, Q2, Q3 모두 가능)"
      ],
      "metadata": {
        "id": "FnFgG9fuIWAD"
      }
    },
    {
      "cell_type": "code",
      "source": [
        "def KMPSearch(S, R):\n",
        "    M = len(S)\n",
        "    N = len(R)\n",
        "    cnt = 0 #cnt = 0이면, 부분 문자열 아님. cnt=1 이상이면, 부분 문자열임.\n",
        "\n",
        "    lps = [0]*M\n",
        "\n",
        "    # LPS 계산 함수\n",
        "    computeLPS(S, lps)\n",
        "\n",
        "    i = 0  # R[]의 index (판별해야하는 문자열)\n",
        "    j = 0  # S[]의 index (문자열 집합)\n",
        "    while i < N:\n",
        "        # 문자열이 같으면, 양쪽 인덱스를 모두 증가시킴\n",
        "        if S[j] == R[i]:\n",
        "            i += 1\n",
        "            j += 1\n",
        "        # Subset을 찾지 못한 경우\n",
        "        elif S[j] != R[i]:\n",
        "            # j!=0인 경우는 짧은 lps에 대해 재검사\n",
        "            if j != 0:\n",
        "                j = lps[j-1]\n",
        "            # j==0이면 일치하는 부분이 없으므로 index 증가\n",
        "            else:\n",
        "                i += 1\n",
        "\n",
        "        # 부분 문자열을 찾은 경우\n",
        "        if j == M:\n",
        "            print(\"#Pos = \" + str(i-j) + ', pattern = ' + S)\n",
        "            # 이전 인덱스의 lps값을 참조하여 계속 검색\n",
        "            j = lps[j-1]\n",
        "            cnt += 1 # 부분 문자열을 찾았으니 카운트 증가 \n",
        "    \n",
        "    return cnt\n",
        "\n",
        "def computeLPS(S, lps):\n",
        "    leng = 0  # length of the previous longest prefix suffix\n",
        "\n",
        "    # 항상 lps[0]==0이므로 while문은 i==1부터 시작한다.\n",
        "    i = 1\n",
        "    while i < len(S):\n",
        "        # 이전 인덱스에서 같았다면 다음 인덱스만 비교하면 된다.\n",
        "        if S[i] == S[leng]:\n",
        "            leng += 1\n",
        "            lps[i] = leng\n",
        "            i += 1\n",
        "        else:\n",
        "            # 일치하지 않는 경우\n",
        "            if leng != 0:\n",
        "                # 이전 인덱스에서는 같았으므로 leng을 줄여서 다시 검사\n",
        "                leng = lps[leng-1]\n",
        "                # 다시 검사해야 하므로 i는 증가하지 않음\n",
        "            else:\n",
        "                # 이전 인덱스에서도 같지 않았다면 lps[i]는 0 이고 i는 1 증가\n",
        "                lps[i] = 0\n",
        "                i += 1\n",
        "\n",
        "for i in range(len(R)):\n",
        "    for j in range(len(S)):\n",
        "        if KMPSearch(S[j], R[i]) == 0:\n",
        "            print(S[j] + ': NO')\n",
        "        else:\n",
        "            print(S[j] + ': YES')"
      ],
      "metadata": {
        "colab": {
          "base_uri": "https://localhost:8080/"
        },
        "id": "nWh69UfVIZmJ",
        "outputId": "ac30b4ec-dc17-4fc2-ab96-fbb79bb0931b"
      },
      "execution_count": null,
      "outputs": [
        {
          "output_type": "stream",
          "name": "stdout",
          "text": [
            "#Pos = 0, pattern = aaa\n",
            "#Pos = 1, pattern = aaa\n",
            "aaa: YES\n",
            "#Pos = 0, pattern = aaaabb\n",
            "aaaabb: YES\n",
            "#Pos = 6, pattern = aabbcc\n",
            "aabbcc: YES\n",
            "#Pos = 3, pattern = abb\n",
            "#Pos = 7, pattern = abb\n",
            "abb: YES\n",
            "#Pos = 9, pattern = bcc\n",
            "bcc: YES\n",
            "#Pos = 8, pattern = bbcc\n",
            "bbcc: YES\n",
            "#Pos = 6, pattern = aabbccdd\n",
            "aabbccdd: YES\n",
            "#Pos = 1, pattern = aaabb\n",
            "aaabb: YES\n",
            "cccd: NO\n"
          ]
        }
      ]
    },
    {
      "cell_type": "markdown",
      "source": [
        "# 정규 표현식을 이용한 풀이 (Q1, Q2만 가능)"
      ],
      "metadata": {
        "id": "ua46iL2vIRsm"
      }
    },
    {
      "cell_type": "code",
      "source": [
        "for i in range(Q):\n",
        "    for j in range(N):\n",
        "        pattern = re.compile(S[j])\n",
        "        if pattern.search(R[i]):\n",
        "            print('Yes')\n",
        "            result = pattern.search(R[i])\n",
        "            print('#pos =', result.start(), 'pattern =', result.group())\n",
        "        else:\n",
        "            print('No')"
      ],
      "metadata": {
        "colab": {
          "base_uri": "https://localhost:8080/"
        },
        "id": "OB22sdxEIQo9",
        "outputId": "f9f60db0-fb4d-48e7-a16e-cb10d9056957"
      },
      "execution_count": null,
      "outputs": [
        {
          "output_type": "stream",
          "name": "stdout",
          "text": [
            "Yes\n",
            "#pos = 0 pattern = aaa\n",
            "Yes\n",
            "#pos = 0 pattern = aaaabb\n",
            "Yes\n",
            "#pos = 6 pattern = aabbcc\n",
            "Yes\n",
            "#pos = 3 pattern = abb\n",
            "Yes\n",
            "#pos = 9 pattern = bcc\n",
            "Yes\n",
            "#pos = 8 pattern = bbcc\n",
            "Yes\n",
            "#pos = 6 pattern = aabbccdd\n",
            "Yes\n",
            "#pos = 1 pattern = aaabb\n",
            "No\n"
          ]
        }
      ]
    }
  ]
}