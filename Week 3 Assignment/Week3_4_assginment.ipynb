{
  "cells": [
    {
      "cell_type": "markdown",
      "metadata": {
        "id": "592U6lXs3d2t"
      },
      "source": [
        "# Week3_4 Assignment\n",
        "\n",
        "## [BASIC](#Basic) \n",
        "- Encoder & Decoder Layer 코드를 직접 필사하고 각 함수에 주석을 달 수 있다. \n",
        "\n",
        "## [CHALLENGE](#Challenge)\n",
        "- 텐서의 크기(shape)를 계산할 수 있다. \n",
        "\n",
        "## [ADVANCED](#Advanced)\n",
        "- 완성된 transformer 모델의 모든 학습 가능한 파라미터 이름과 크기(shape)를 출력할 수 있다.\n",
        "\n",
        "### Informs\n",
        "이번 과제에서는 \"[Annotated Transformer](https://nlp.seas.harvard.edu/2018/04/03/attention.html)\"의 코드를 필사해본다.   \n",
        "\"Annotated Transformer\"는 \"Attention is all you need\" 논문에서 제안한 transformer 모델을 pytorch 라이브러리로 직접 구현한다.   \n",
        "코드 필사를 통해 다음을 배울 수 있다.    \n",
        "- Encoder, Decoder 구조\n",
        "- Attention Mechanism\n",
        "- \"residual connection\", \"layer normalization\" 등의 구조 "
      ]
    },
    {
      "cell_type": "markdown",
      "metadata": {
        "id": "GoebvnNZ99r-"
      },
      "source": [
        "코드 필사를 시작하기 앞서, transformer 모델의 최종 구조를 살펴보자.    \n",
        "\n",
        "<img src=\"https://github.com/ChristinaROK/PreOnboarding_AI_assets/blob/36a670a7b6233d5218a495150beb337a899ecb70/week3/week3_3_full.png?raw=true\" width=\"500\" align=\"center\"/>\n",
        "\n",
        "최종 모델은 `EncoderDecoder()` 클래스에 여러 인스턴스를 생성자의 입력 파라미터로 넣어 생성한다.    \n",
        "앞으로 우리는 `EncoderDecoder()` 클래스와 같은 여러 클래스들을 구현하고 연결할 것이다. 따라서 대략적인 클래스간의 관계를 살펴보고 이해한다면 보다 큰 그림을 가지고 코드 필사를 할 수 있을 것이다. "
      ]
    },
    {
      "cell_type": "markdown",
      "metadata": {
        "id": "DB6cNaXP99sB"
      },
      "source": [
        "Transformer 모델은 크게 4가지 클래스로 구현된다.    \n",
        "- Frame\n",
        "    - frame 역할을 하는 `EncoderDecoder` 클래스\n",
        "- Input Embedding & Encoding\n",
        "    - 입력값을 벡터화하는 `Embeddings`, `PositionalEncoding`\n",
        "- Encoder & Decoder\n",
        "    - 각 6개 layer를 갖고 있는 `Encoder`, `Decoder`\n",
        "    - layer 1층을 구현한 `EncoderLayer`, `DecoderLayer`\n",
        "- Sublayer\n",
        "    - `EncoderLayer`, `DecoderLayer` 내부에서 사용되는 Sublayer 클래스인 `MultiHeadAttiontion`, `PositionwiseFeedForward`\n",
        "    - Sublayer 클래스들을 연결하는 `SublayerConnection`\n",
        "    \n",
        "아래 좌측 도식에서 각 클래스의 색상은 아래 우측 도식(transformer 구조)의 색상과 맵핑되어 있다.    \n",
        "각 클래스의 역할과 클래스 간 연결 관계를 생각하면서 transformer를 코드로 구현해보자.   \n",
        "\n",
        "\n",
        "<img src=\"https://github.com/ChristinaROK/PreOnboarding_AI_assets/blob/36a670a7b6233d5218a495150beb337a899ecb70/week3/week3_3_map.png?raw=true\" width=\"400\" height=\"400\" align=\"left\"/>\n",
        "<img src=\"https://github.com/ChristinaROK/PreOnboarding_AI_assets/blob/36a670a7b6233d5218a495150beb337a899ecb70/week3/week3_3_transformer.png?raw=true\" width=\"300\" height=\"400\" align=\"right\"/>\n",
        "\n"
      ]
    },
    {
      "cell_type": "code",
      "execution_count": null,
      "metadata": {
        "id": "qaadVYo799sE"
      },
      "outputs": [],
      "source": [
        "import os\n",
        "import sys\n",
        "import pandas as pd\n",
        "import numpy as np \n",
        "\n",
        "import torch\n",
        "import torch.nn as nn\n",
        "import torch.nn.functional as F\n",
        "from torch.autograd import Variable\n",
        "\n",
        "import math, copy, time\n",
        "import random"
      ]
    },
    {
      "cell_type": "markdown",
      "metadata": {
        "id": "1OEO0al299sJ"
      },
      "source": [
        "## Basic"
      ]
    },
    {
      "cell_type": "markdown",
      "metadata": {
        "id": "OKKyKfqB99sL"
      },
      "source": [
        "### Frame\n",
        "- `EncoderDecoder`\n",
        "\n",
        "아래 도식은 `EncoderDecoder` 클래스의 `forward()`, `encode()`, `decode()` 메소드를 도식화 한 것이다.    \n",
        " \n",
        "<img src=\"https://github.com/ChristinaROK/PreOnboarding_AI_assets/blob/36a670a7b6233d5218a495150beb337a899ecb70/week3/week3_3_encoderdecoder.png?raw=true\" width=500>\n",
        "\n",
        "\n",
        "- `Generator`"
      ]
    },
    {
      "cell_type": "code",
      "execution_count": null,
      "metadata": {
        "id": "MECCTGpt99sP"
      },
      "outputs": [],
      "source": [
        "class EncoderDecoder(nn.Module):\n",
        "    ''' Standard Encoder-Decoder 모델이다. 다른 모델들과 이 모델에 쓰이는 Base이다.'''\n",
        "    def __init__(self, encoder, decoder, src_embed, tgt_embed, generator):\n",
        "        super(EncoderDecoder, self).__init__()\n",
        "        self.encoder = encoder\n",
        "        self.decoder = decoder\n",
        "        self.src_embed = src_embed\n",
        "        self.tgt_embed = tgt_embed\n",
        "        self.generator = generator\n",
        "    \n",
        "    def forward(self, src, tgt, src_mask, tgt_mask):\n",
        "        # masked source와 target sequences를 받아와 진행\n",
        "        return self.decode(self.encode(src, src_mask), src_mask,\n",
        "                           tgt, tgt_mask)\n",
        "    \n",
        "    def encode(self, src, src_mask):\n",
        "        return self.encoder(self.src_embed(src), src_mask)\n",
        "    \n",
        "    def decode(self, memory, src_mask, tgt, tgt_mask):\n",
        "        return self.decoder(self.tgt_embed(tgt), memory, src_mask, tgt_mask)"
      ]
    },
    {
      "cell_type": "code",
      "execution_count": null,
      "metadata": {
        "id": "Py2wcYPX99sT"
      },
      "outputs": [],
      "source": [
        "class Generator(nn.Module):\n",
        "    '''\n",
        "    Decoder의 output을 Transformer의 최종 output이 되도록 거쳐가는 추가적인 layer\n",
        "    Decoder의 output은 (n_batch * seq_len * d_model)의 matrix\n",
        "    standard linear와 softmax를 정의함\n",
        "    '''\n",
        "    def __init__(self, d_model, vocab):\n",
        "        super(Generator, self).__init__()\n",
        "        self.proj = nn.Linear(d_model, vocab) # input에 대해 y = wx+b 형태의 선형 변환을 수행\n",
        "    \n",
        "    def forward(self, x):\n",
        "        # 실제 token으로 변환할 수 있도록 차원을 수정\n",
        "        return F.log_softmax(self.proj(x), dim=1)"
      ]
    },
    {
      "cell_type": "markdown",
      "metadata": {
        "id": "xI-5SRHD99sX"
      },
      "source": [
        "### Encoder\n",
        "- `Encoder`\n",
        "- `EncoderLayer`\n",
        "- `SublayerConnection`\n",
        "- Reference\n",
        "    - Layer Normalization\n",
        "        - [한국어 설명](https://yonghyuc.wordpress.com/2020/03/04/batch-norm-vs-layer-norm/)\n",
        "        - [torch official docs](https://pytorch.org/docs/stable/generated/torch.nn.LayerNorm.html)\n",
        "    - Residual Connection\n",
        "        - [한국어 설명](https://itrepo.tistory.com/36)\n",
        "    - pytorch ModuleList\n",
        "        - [torch official docs](https://pytorch.org/docs/1.9.1/generated/torch.nn.ModuleList.html)\n"
      ]
    },
    {
      "cell_type": "code",
      "execution_count": null,
      "metadata": {
        "id": "DjIjUBjN99sc"
      },
      "outputs": [],
      "source": [
        "def clones(module, N):\n",
        "    '''N개의 동일한 layer를 만드는 함수'''\n",
        "    return nn.ModuleList([copy.deepcopy(module) for _ in range(N)])"
      ]
    },
    {
      "cell_type": "code",
      "execution_count": null,
      "metadata": {
        "id": "wgglBAyM99se"
      },
      "outputs": [],
      "source": [
        "class Encoder(nn.Module):\n",
        "    ''' Core encoder는 N개의 layer들의 stack이다.'''\n",
        "    def __init__(self, layer, N):\n",
        "        super(Encoder, self).__init__()\n",
        "        self.layers = clones(layer, N)\n",
        "        # Layer Normalization 수행\n",
        "        self.norm = LayerNorm(layer.size)\n",
        "    \n",
        "    def forward(self, x, mask):\n",
        "        # Input(그리고 mask)를 차례대로 각각 Layer에 전달한다.\n",
        "        for layer in self.layers:\n",
        "            x = layer(x, mask)\n",
        "        return self.norm(x)"
      ]
    },
    {
      "cell_type": "code",
      "execution_count": null,
      "metadata": {
        "id": "AvGP8Gsd99sg"
      },
      "outputs": [],
      "source": [
        "class LayerNorm(nn.Module):\n",
        "    '''\n",
        "    이미지 인식에서 쓰이는 residual connection을 2개의 sub-layer에 각각 적용한다.\n",
        "    그 후 layer normalization이 수행된다.\n",
        "    '''\n",
        "    def __init__(self, features, eps=1e-6):\n",
        "        super(LayerNorm, self).__init__()\n",
        "        self.a_2 = nn.Parameter(torch.ones(features))\n",
        "        self.b_2 = nn.Parameter(torch.zeros(features))\n",
        "        self.eps = eps\n",
        "    \n",
        "    def forward(self, x):\n",
        "        mean = x.mean(-1, keepdim=True)\n",
        "        std = x.std(-1, keepdim=True)\n",
        "        return self.a_2 * (x -mean) / (std + self.eps) + self.b_2"
      ]
    },
    {
      "cell_type": "code",
      "execution_count": null,
      "metadata": {
        "id": "525_O3YE99si"
      },
      "outputs": [],
      "source": [
        "class SublayerConnection(nn.Module):\n",
        "    '''\n",
        "    Residual connection 이후에 Layer Norm이 실행됨\n",
        "    '''\n",
        "    def __init__(self, size, dropout):\n",
        "        super(SublayerConnection, self).__init__()\n",
        "        self.norm = LayerNorm(size)\n",
        "        self.dropout = nn.Dropout(dropout)\n",
        "    \n",
        "    def forward(self, x, sublayer):\n",
        "        # 같은 크기를 같는 sub layer에 residual connection을 적용\n",
        "        return x + self.dropout(sublayer(self.norm(x)))"
      ]
    },
    {
      "cell_type": "code",
      "execution_count": null,
      "metadata": {
        "id": "LlGCPEVp99sk"
      },
      "outputs": [],
      "source": [
        "class EncoderLayer(nn.Module):\n",
        "    # Encoder는 Self-attention과 Feed forward로 구성되어 있다.\n",
        "    def __init__(self, size, self_attn, feed_forward, dropout):\n",
        "        super(EncoderLayer, self).__init__()\n",
        "        self.self_attn = self_attn\n",
        "        self.feed_forward = feed_forward\n",
        "        self.sublayer = clones(SublayerConnection(size, dropout), 2)\n",
        "        self.size = size\n",
        "        \n",
        "    def forward(self, x, mask):\n",
        "        x = self.sublayer[0](x, lambda x: self.self_attn(x, x, x, mask))\n",
        "        return self.sublayer[1](x, self.feed_forward)"
      ]
    },
    {
      "cell_type": "markdown",
      "metadata": {
        "id": "OOiYmYWc99sm"
      },
      "source": [
        "### Decoder\n",
        "- `Decoder`\n",
        "- `DecoderLayer`"
      ]
    },
    {
      "cell_type": "code",
      "execution_count": null,
      "metadata": {
        "id": "Ik47frFO99so"
      },
      "outputs": [],
      "source": [
        "class Decoder(nn.Module):\n",
        "    # Decoder도 6개의 동일한 Layer로 구성되어 있다.\n",
        "    def __init__(self, layer, N):\n",
        "        super(Decoder, self).__init__()\n",
        "        self.layers = clones(layer, N)\n",
        "        self.norm = LayerNorm(layer.size)\n",
        "    \n",
        "    def forward(self, x, memory, src_mask, tgt_mask):\n",
        "        for layer in self.layers:\n",
        "            x = layer(x, memory, src_mask, tgt_mask)\n",
        "        return self.norm(x)"
      ]
    },
    {
      "cell_type": "code",
      "execution_count": null,
      "metadata": {
        "id": "ElsG9P7M99sq"
      },
      "outputs": [],
      "source": [
        "class DecoderLayer(nn.Module):\n",
        "    '''\n",
        "    Decoder 는 3개의 sub-layer로 구성됩니다.\n",
        "    Self-attention\n",
        "    Multi-head attention\n",
        "    Feed forward \n",
        "    '''\n",
        "    def __init__(self, size, self_attn, src_attn, feed_forward, dropout):\n",
        "        super(DecoderLayer, self).__init__()\n",
        "        self.size = size\n",
        "        self.self_attn = self_attn\n",
        "        self.src_attn = src_attn\n",
        "        self.feed_forward = feed_forward\n",
        "        self.sublayer = clones(SublayerConnection(size, dropout), 3)\n",
        "    \n",
        "    def forward(self, x, memory, src_mask, tgt_mask):\n",
        "        m = memory\n",
        "        x = self.sublayer[0](x, lambda x: self.self_attn(x, x, x, tgt_mask))\n",
        "        x = self.sublayer[1](x, lambda x: self.src_attn(x, m, m, src_mask))\n",
        "        return self.sublayer[2](x, self.feed_forward)"
      ]
    },
    {
      "cell_type": "markdown",
      "metadata": {
        "id": "vhPP8LVw99sr"
      },
      "source": [
        "### Sublayer\n",
        "- `attention` 함수\n",
        "\n",
        "<img src=\"https://github.com/ChristinaROK/PreOnboarding_AI_assets/blob/36a670a7b6233d5218a495150beb337a899ecb70/week3/week3_3_attention.png?raw=true\" width=\"500\" align=\"center\"/>  \n",
        "\n",
        "- `MultiHeadedAttention`\n",
        "- `PositionwiseFeedForward`"
      ]
    },
    {
      "cell_type": "markdown",
      "metadata": {
        "id": "7o1-iOBu99ss"
      },
      "source": [
        "### Challenge\n"
      ]
    },
    {
      "cell_type": "markdown",
      "metadata": {
        "id": "V0ochH0n99st"
      },
      "source": [
        "### Q1. 위 도식에 따라 `score`, `p_attn`, `attention` 을 구하라 "
      ]
    },
    {
      "cell_type": "code",
      "execution_count": null,
      "metadata": {
        "id": "ZMYcy8h499sv"
      },
      "outputs": [],
      "source": [
        "def attention(query, key, value, mask=None, dropout=None):\n",
        "    '''\n",
        "    Scaled Dot Product Attention을 계산한다. \n",
        "    '''\n",
        "    d_k = query.size(-1)\n",
        "    # scaling \n",
        "    scores = torch.matmul(query, key.transpose(-2, -1)) \\\n",
        "            / math.sqrt(d_k) \n",
        "    if mask is not None:\n",
        "        scores = scores.masked_fill(mask == 0, -1e9)\n",
        "    p_attn = F.softmax(scores, dim = -1) # Probability로 변환시켜 줌\n",
        "    if dropout is not None:\n",
        "        p_attn = dropout(p_attn)\n",
        "    return torch.matmul(p_attn, value), p_attn"
      ]
    },
    {
      "cell_type": "markdown",
      "metadata": {
        "id": "x25aeigL99sw"
      },
      "source": [
        "###Q2. query, key, value가 모두 (m, d_k) shape의 matrix라고 가정할 때, `score`, `p_attn`, `attention`의 shape을 각각 구하라\n",
        "- score : (m, m)\n",
        "- p_attn : (m, m)\n",
        "- attention : (m, d_k)"
      ]
    },
    {
      "cell_type": "markdown",
      "metadata": {
        "id": "IHfxLJKz99sx"
      },
      "source": [
        "### (아래의 **Q3을 먼저 풀고 돌아오세요**) Q4.  query, key, value가 모두 (12, 8, 1, 64) shape의 tensor라고 가정할 때 , `score`, `p_attn`, `attention`의 shape을 각각 구하라\n",
        "\n",
        "- score : torch.Size([12, 8, 1, 1])\n",
        "- p_attn : torch.Size([12, 8, 1, 1])\n",
        "- attention : torch.Size([12, 8, 1, 64])"
      ]
    },
    {
      "cell_type": "markdown",
      "metadata": {
        "id": "wYnffQE799sy"
      },
      "source": [
        "- `MultiHeadedAttention`\n",
        "\n",
        "<img src=\"https://github.com/ChristinaROK/PreOnboarding_AI_assets/blob/36a670a7b6233d5218a495150beb337a899ecb70/week3/week3_3_multihead.png?raw=true\" width=\"300\" align=\"center\"/>  "
      ]
    },
    {
      "cell_type": "code",
      "execution_count": null,
      "metadata": {
        "id": "uhFKlJ2b99sz"
      },
      "outputs": [],
      "source": [
        "class MultiHeadedAttention(nn.Module):\n",
        "    def __init__(self, h, d_model, dropout=0.1):\n",
        "        # model dimension과 heads의 수를 받는다.\n",
        "        super(MultiHeadedAttention, self).__init__()\n",
        "        assert d_model % h == 0\n",
        "        # 논문 저자는 Key의 dimension과 value의 dimension은 동일하다고 가정합니다.\n",
        "        self.d_k = d_model // h\n",
        "        self.h = h\n",
        "        self.linears = clones(nn.Linear(d_model, d_model), 4)\n",
        "        self.attn = None\n",
        "        self.dropout = nn.Dropout(p=dropout)\n",
        "    \n",
        "    def forward(self, query, key, value, mask=None):\n",
        "        if mask is not None:\n",
        "            # Masking을 해야하는 조건이 주어진다면 Masking을 수행한다.\n",
        "            mask = mask.unsqueeze(1)\n",
        "        nbatches = query.size(0)\n",
        "\n",
        "        # d_model로 부터 batch 안에 linear projection을 수행한다. 결과로 h * d_k\n",
        "        query, key, value = \\\n",
        "            [l(x).view(nbatches, -1, self.h, self.d_k).transpose(1, 2)\n",
        "            for l, x in zip(self.linears, (query, key, value))]\n",
        "\n",
        "        # batch 안에서 projected vector 전체에 attention을 적용한다.\n",
        "        x, self.attn = attention(query, key, value, mask=mask,\n",
        "                                dropout=self.dropout)\n",
        "        \n",
        "        # view()를 이용하여 concat을 수행하고, 마지막 linear를 적용합니다.\n",
        "        x = x.transpose(1, 2).contiguous() \\\n",
        "            .view(nbatches, -1, self.h * self.d_k)\n",
        "        return self.linears[-1](x)"
      ]
    },
    {
      "cell_type": "markdown",
      "metadata": {
        "id": "M46Ensa499s0"
      },
      "source": [
        "### Q3.  query, key, value가 모두 (12, 512) shape의 matrix이고, h 값이 8 이라고 가정할 때, 아래 값의 shape을 각각 구하라\n",
        "\n",
        "- `d_k` (d_k = d_model // h) : 64\n",
        "- `nn.Linear(d_model, d_model)(query)` : torch.Size([12, 512])\n",
        "- `nn.Linear(d_model, d_model)(query).view(nbatches, -1, h, d_k)` : torch.Size([12, 1, 8, 64])\n",
        "- `nn.Linear(d_model, d_model)(query).view(nbatches, -1, h, d_k).transpose(1,2)` : torch.Size([12, 8, 1, 64])"
      ]
    },
    {
      "cell_type": "markdown",
      "metadata": {
        "id": "twZoeFr799s1"
      },
      "source": [
        "- `PositionwiseFeedForward`\n",
        "\n",
        "<img src=\"https://github.com/ChristinaROK/PreOnboarding_AI_assets/blob/36a670a7b6233d5218a495150beb337a899ecb70/week3/week3_3_pwff.png?raw=true\" width=\"300\" align=\"center\"/>  "
      ]
    },
    {
      "cell_type": "code",
      "execution_count": null,
      "metadata": {
        "id": "nZzpucvQ99s2"
      },
      "outputs": [],
      "source": [
        "class PositionwiseFeedForward(nn.Module):\n",
        "    # FFN 방정식을 수행합니다\n",
        "    def __init__(self, d_model, d_ff, dropout=0.1):\n",
        "        super(PositionwiseFeedForward, self).__init__()\n",
        "        self.w_1 = nn.Linear(d_model,d_ff) \n",
        "        self.w_2 = nn.Linear(d_ff, d_model)\n",
        "        self.dropout = nn.Dropout(dropout)\n",
        "\n",
        "    def forward(self, x):\n",
        "        return self.w_2(self.dropout(F.relu(self.w_1(x))))"
      ]
    },
    {
      "cell_type": "markdown",
      "metadata": {
        "id": "TqjsUsbu99s3"
      },
      "source": [
        "### Input Embedding & Encoding\n",
        "- `Embeddings`\n",
        "    - [pytorch official docs](https://pytorch.org/docs/stable/generated/torch.nn.Embedding.html)"
      ]
    },
    {
      "cell_type": "code",
      "execution_count": null,
      "metadata": {
        "id": "FBVJFurO99s3"
      },
      "outputs": [],
      "source": [
        "class Embeddings(nn.Module):\n",
        "    #\n",
        "    def __init__(self, d_model, vocab):\n",
        "        super(Embeddings, self).__init__()\n",
        "        # lut = Look up table : key-value 구조로 저장되어 있음. 여기선 vocab이 들어가게 됨\n",
        "        # 장점은 데이터 차지 용량 감소, 성능 증가, 데이터 유지보수가 쉬움.\n",
        "        self.lut = nn.Embedding(vocab, d_model)\n",
        "        self.d_model = d_model\n",
        "    \n",
        "    def forward(self, x):\n",
        "        return self.lut(x) * math.sqrt(self.d_model)"
      ]
    },
    {
      "cell_type": "markdown",
      "metadata": {
        "id": "Po31qs_A99s5"
      },
      "source": [
        "- `PositionalEncoding`\n",
        "\n",
        "<img src=\"https://github.com/ChristinaROK/PreOnboarding_AI_assets/blob/36a670a7b6233d5218a495150beb337a899ecb70/week3/week3_3_pe.png?raw=true\" width=\"500\" align=\"center\"/>  \n",
        "\n",
        "- `position` 변수 설명\n",
        "    - 모든 position (=최대 토큰 개수)의 값을 갖고 있는 matrix\n",
        "- `div_term` 변수 설명\n",
        "\n",
        "<img src=\"https://github.com/ChristinaROK/PreOnboarding_AI_assets/blob/36a670a7b6233d5218a495150beb337a899ecb70/week3/week3_3_div.png?raw=true\" width=\"500\" align=\"center\"/>  \n",
        "- `Embedding` + `Encoding` 도식화 \n",
        "\n",
        "<img src=\"https://github.com/ChristinaROK/PreOnboarding_AI_assets/blob/36a670a7b6233d5218a495150beb337a899ecb70/week3/week3_3_emb_enc.png?raw=true\" width=\"400\" align=\"center\"/>  \n"
      ]
    },
    {
      "cell_type": "code",
      "execution_count": null,
      "metadata": {
        "id": "RP-_an3x99s5"
      },
      "outputs": [],
      "source": [
        "class PositionalEncoding(nn.Module):\n",
        "    # Positional Encoding을 하는 클래스입니다.\n",
        "    def __init__(self, d_model, dropout, max_len = 5000):\n",
        "        super(PositionalEncoding, self).__init__()\n",
        "        self.dropout = nn.Dropout(p=dropout)\n",
        "        \n",
        "        # 로그 차원에서 한번에 PE를 계산합니다.\n",
        "        pe = torch.zeros(max_len, d_model)\n",
        "        position = torch.arange(0, max_len).unsqueeze(1)\n",
        "        div_term = torch.exp(torch.arange(0, d_model, 2) *\n",
        "                             -(math.log(10000.0) / d_model))\n",
        "        # 짝수는 Sine, 홀수는 Cosine을 이용하는 것으로 추정\n",
        "        pe[:, 0::2] = torch.sin(position * div_term)\n",
        "        pe[:, 1::2] = torch.cos(position * div_term)\n",
        "        pe = pe.unsqueeze(0)\n",
        "        self.register_buffer('pe', pe)\n",
        "\n",
        "    def forward(self, x):\n",
        "        x = x + Variable(self.pe[:, :x.size(1)],\n",
        "                         require_grad=False)\n",
        "        return self.dropout(x)"
      ]
    },
    {
      "cell_type": "markdown",
      "metadata": {
        "id": "kNf13Gkm99s6"
      },
      "source": [
        "### Q4.  max_len이 512이고, d_model이 512라고 가정할 때, `position`과 `div_term`의 shape을 구하라\n",
        "\n",
        "- `position` : torch.Size([512, 1])\n",
        "- `div_term` : torch.Size([256])\n",
        "- `position * div_term` : torch.Size([512, 256])"
      ]
    },
    {
      "cell_type": "markdown",
      "metadata": {
        "id": "Rri-daP399s7"
      },
      "source": [
        "### Advanced"
      ]
    },
    {
      "cell_type": "markdown",
      "metadata": {
        "id": "N3ZixTN199s8"
      },
      "source": [
        "### Finally Build Model\n",
        "- Xavier Initialization\n",
        "    - [한국어 자료](https://huangdi.tistory.com/8)\n",
        "    - [pytorch official docs](https://pytorch.org/docs/stable/nn.init.html#torch.nn.init.xavier_uniform_)"
      ]
    },
    {
      "cell_type": "code",
      "execution_count": null,
      "metadata": {
        "id": "kPdGsCiC99s8"
      },
      "outputs": [],
      "source": [
        "def make_model(src_vocab, tgt_vocab, \n",
        "               N=6, d_model=512, d_ff=2048, h=8, dropout=0.1):\n",
        "    c = copy.deepcopy # 내부의 객체들까지 모두 새롭게 Copy\n",
        "    attn = MultiHeadedAttention(h, d_model)\n",
        "    ff = PositionwiseFeedForward(d_model, d_ff, dropout)\n",
        "    position = PositionalEncoding(d_model, dropout)\n",
        "    model = EncoderDecoder(\n",
        "        Encoder(EncoderLayer(d_model, c(attn), c(ff), dropout), N),\n",
        "        Decoder(DecoderLayer(d_model, c(attn), c(attn), c(ff), dropout), N),\n",
        "        nn.Sequential(Embeddings(d_model, src_vocab), c(position)),\n",
        "        nn.Sequential(Embeddings(d_model, tgt_vocab), c(position)),\n",
        "        Generator(d_model, tgt_vocab))\n",
        "            \n",
        "    for p in model.parameters():\n",
        "        if p.dim() > 1:\n",
        "            nn.init.xavier_uniform_(p) # 가중치 초기화 과정\n",
        "    return model"
      ]
    },
    {
      "cell_type": "code",
      "execution_count": null,
      "metadata": {
        "id": "eIDN1DSd99s-"
      },
      "outputs": [],
      "source": [
        "model = make_model(10,10)"
      ]
    },
    {
      "cell_type": "markdown",
      "metadata": {
        "id": "ljRK80Lo99s_"
      },
      "source": [
        "### Q5. 위 코드로 만든 모델의 모든 파라미터의 이름과 크기 (shape) 을 출력하라"
      ]
    },
    {
      "cell_type": "code",
      "execution_count": null,
      "metadata": {
        "id": "BHubCUOh99tA",
        "colab": {
          "base_uri": "https://localhost:8080/"
        },
        "outputId": "b21321aa-edb7-4b2c-ba24-82d856bc8236"
      },
      "outputs": [
        {
          "output_type": "stream",
          "name": "stdout",
          "text": [
            "Parameter's Name : encoder.layers.0.self_attn.linears.0.weight, // Parameter's Shape : torch.Size([512, 512])\n",
            "Parameter's Name : encoder.layers.0.self_attn.linears.0.bias, // Parameter's Shape : torch.Size([512])\n",
            "Parameter's Name : encoder.layers.0.self_attn.linears.1.weight, // Parameter's Shape : torch.Size([512, 512])\n",
            "Parameter's Name : encoder.layers.0.self_attn.linears.1.bias, // Parameter's Shape : torch.Size([512])\n",
            "Parameter's Name : encoder.layers.0.self_attn.linears.2.weight, // Parameter's Shape : torch.Size([512, 512])\n",
            "Parameter's Name : encoder.layers.0.self_attn.linears.2.bias, // Parameter's Shape : torch.Size([512])\n",
            "Parameter's Name : encoder.layers.0.self_attn.linears.3.weight, // Parameter's Shape : torch.Size([512, 512])\n",
            "Parameter's Name : encoder.layers.0.self_attn.linears.3.bias, // Parameter's Shape : torch.Size([512])\n",
            "Parameter's Name : encoder.layers.0.feed_forward.w_1.weight, // Parameter's Shape : torch.Size([2048, 512])\n",
            "Parameter's Name : encoder.layers.0.feed_forward.w_1.bias, // Parameter's Shape : torch.Size([2048])\n",
            "Parameter's Name : encoder.layers.0.feed_forward.w_2.weight, // Parameter's Shape : torch.Size([512, 2048])\n",
            "Parameter's Name : encoder.layers.0.feed_forward.w_2.bias, // Parameter's Shape : torch.Size([512])\n",
            "Parameter's Name : encoder.layers.0.sublayer.0.norm.a_2, // Parameter's Shape : torch.Size([512])\n",
            "Parameter's Name : encoder.layers.0.sublayer.0.norm.b_2, // Parameter's Shape : torch.Size([512])\n",
            "Parameter's Name : encoder.layers.0.sublayer.1.norm.a_2, // Parameter's Shape : torch.Size([512])\n",
            "Parameter's Name : encoder.layers.0.sublayer.1.norm.b_2, // Parameter's Shape : torch.Size([512])\n",
            "Parameter's Name : encoder.layers.1.self_attn.linears.0.weight, // Parameter's Shape : torch.Size([512, 512])\n",
            "Parameter's Name : encoder.layers.1.self_attn.linears.0.bias, // Parameter's Shape : torch.Size([512])\n",
            "Parameter's Name : encoder.layers.1.self_attn.linears.1.weight, // Parameter's Shape : torch.Size([512, 512])\n",
            "Parameter's Name : encoder.layers.1.self_attn.linears.1.bias, // Parameter's Shape : torch.Size([512])\n",
            "Parameter's Name : encoder.layers.1.self_attn.linears.2.weight, // Parameter's Shape : torch.Size([512, 512])\n",
            "Parameter's Name : encoder.layers.1.self_attn.linears.2.bias, // Parameter's Shape : torch.Size([512])\n",
            "Parameter's Name : encoder.layers.1.self_attn.linears.3.weight, // Parameter's Shape : torch.Size([512, 512])\n",
            "Parameter's Name : encoder.layers.1.self_attn.linears.3.bias, // Parameter's Shape : torch.Size([512])\n",
            "Parameter's Name : encoder.layers.1.feed_forward.w_1.weight, // Parameter's Shape : torch.Size([2048, 512])\n",
            "Parameter's Name : encoder.layers.1.feed_forward.w_1.bias, // Parameter's Shape : torch.Size([2048])\n",
            "Parameter's Name : encoder.layers.1.feed_forward.w_2.weight, // Parameter's Shape : torch.Size([512, 2048])\n",
            "Parameter's Name : encoder.layers.1.feed_forward.w_2.bias, // Parameter's Shape : torch.Size([512])\n",
            "Parameter's Name : encoder.layers.1.sublayer.0.norm.a_2, // Parameter's Shape : torch.Size([512])\n",
            "Parameter's Name : encoder.layers.1.sublayer.0.norm.b_2, // Parameter's Shape : torch.Size([512])\n",
            "Parameter's Name : encoder.layers.1.sublayer.1.norm.a_2, // Parameter's Shape : torch.Size([512])\n",
            "Parameter's Name : encoder.layers.1.sublayer.1.norm.b_2, // Parameter's Shape : torch.Size([512])\n",
            "Parameter's Name : encoder.layers.2.self_attn.linears.0.weight, // Parameter's Shape : torch.Size([512, 512])\n",
            "Parameter's Name : encoder.layers.2.self_attn.linears.0.bias, // Parameter's Shape : torch.Size([512])\n",
            "Parameter's Name : encoder.layers.2.self_attn.linears.1.weight, // Parameter's Shape : torch.Size([512, 512])\n",
            "Parameter's Name : encoder.layers.2.self_attn.linears.1.bias, // Parameter's Shape : torch.Size([512])\n",
            "Parameter's Name : encoder.layers.2.self_attn.linears.2.weight, // Parameter's Shape : torch.Size([512, 512])\n",
            "Parameter's Name : encoder.layers.2.self_attn.linears.2.bias, // Parameter's Shape : torch.Size([512])\n",
            "Parameter's Name : encoder.layers.2.self_attn.linears.3.weight, // Parameter's Shape : torch.Size([512, 512])\n",
            "Parameter's Name : encoder.layers.2.self_attn.linears.3.bias, // Parameter's Shape : torch.Size([512])\n",
            "Parameter's Name : encoder.layers.2.feed_forward.w_1.weight, // Parameter's Shape : torch.Size([2048, 512])\n",
            "Parameter's Name : encoder.layers.2.feed_forward.w_1.bias, // Parameter's Shape : torch.Size([2048])\n",
            "Parameter's Name : encoder.layers.2.feed_forward.w_2.weight, // Parameter's Shape : torch.Size([512, 2048])\n",
            "Parameter's Name : encoder.layers.2.feed_forward.w_2.bias, // Parameter's Shape : torch.Size([512])\n",
            "Parameter's Name : encoder.layers.2.sublayer.0.norm.a_2, // Parameter's Shape : torch.Size([512])\n",
            "Parameter's Name : encoder.layers.2.sublayer.0.norm.b_2, // Parameter's Shape : torch.Size([512])\n",
            "Parameter's Name : encoder.layers.2.sublayer.1.norm.a_2, // Parameter's Shape : torch.Size([512])\n",
            "Parameter's Name : encoder.layers.2.sublayer.1.norm.b_2, // Parameter's Shape : torch.Size([512])\n",
            "Parameter's Name : encoder.layers.3.self_attn.linears.0.weight, // Parameter's Shape : torch.Size([512, 512])\n",
            "Parameter's Name : encoder.layers.3.self_attn.linears.0.bias, // Parameter's Shape : torch.Size([512])\n",
            "Parameter's Name : encoder.layers.3.self_attn.linears.1.weight, // Parameter's Shape : torch.Size([512, 512])\n",
            "Parameter's Name : encoder.layers.3.self_attn.linears.1.bias, // Parameter's Shape : torch.Size([512])\n",
            "Parameter's Name : encoder.layers.3.self_attn.linears.2.weight, // Parameter's Shape : torch.Size([512, 512])\n",
            "Parameter's Name : encoder.layers.3.self_attn.linears.2.bias, // Parameter's Shape : torch.Size([512])\n",
            "Parameter's Name : encoder.layers.3.self_attn.linears.3.weight, // Parameter's Shape : torch.Size([512, 512])\n",
            "Parameter's Name : encoder.layers.3.self_attn.linears.3.bias, // Parameter's Shape : torch.Size([512])\n",
            "Parameter's Name : encoder.layers.3.feed_forward.w_1.weight, // Parameter's Shape : torch.Size([2048, 512])\n",
            "Parameter's Name : encoder.layers.3.feed_forward.w_1.bias, // Parameter's Shape : torch.Size([2048])\n",
            "Parameter's Name : encoder.layers.3.feed_forward.w_2.weight, // Parameter's Shape : torch.Size([512, 2048])\n",
            "Parameter's Name : encoder.layers.3.feed_forward.w_2.bias, // Parameter's Shape : torch.Size([512])\n",
            "Parameter's Name : encoder.layers.3.sublayer.0.norm.a_2, // Parameter's Shape : torch.Size([512])\n",
            "Parameter's Name : encoder.layers.3.sublayer.0.norm.b_2, // Parameter's Shape : torch.Size([512])\n",
            "Parameter's Name : encoder.layers.3.sublayer.1.norm.a_2, // Parameter's Shape : torch.Size([512])\n",
            "Parameter's Name : encoder.layers.3.sublayer.1.norm.b_2, // Parameter's Shape : torch.Size([512])\n",
            "Parameter's Name : encoder.layers.4.self_attn.linears.0.weight, // Parameter's Shape : torch.Size([512, 512])\n",
            "Parameter's Name : encoder.layers.4.self_attn.linears.0.bias, // Parameter's Shape : torch.Size([512])\n",
            "Parameter's Name : encoder.layers.4.self_attn.linears.1.weight, // Parameter's Shape : torch.Size([512, 512])\n",
            "Parameter's Name : encoder.layers.4.self_attn.linears.1.bias, // Parameter's Shape : torch.Size([512])\n",
            "Parameter's Name : encoder.layers.4.self_attn.linears.2.weight, // Parameter's Shape : torch.Size([512, 512])\n",
            "Parameter's Name : encoder.layers.4.self_attn.linears.2.bias, // Parameter's Shape : torch.Size([512])\n",
            "Parameter's Name : encoder.layers.4.self_attn.linears.3.weight, // Parameter's Shape : torch.Size([512, 512])\n",
            "Parameter's Name : encoder.layers.4.self_attn.linears.3.bias, // Parameter's Shape : torch.Size([512])\n",
            "Parameter's Name : encoder.layers.4.feed_forward.w_1.weight, // Parameter's Shape : torch.Size([2048, 512])\n",
            "Parameter's Name : encoder.layers.4.feed_forward.w_1.bias, // Parameter's Shape : torch.Size([2048])\n",
            "Parameter's Name : encoder.layers.4.feed_forward.w_2.weight, // Parameter's Shape : torch.Size([512, 2048])\n",
            "Parameter's Name : encoder.layers.4.feed_forward.w_2.bias, // Parameter's Shape : torch.Size([512])\n",
            "Parameter's Name : encoder.layers.4.sublayer.0.norm.a_2, // Parameter's Shape : torch.Size([512])\n",
            "Parameter's Name : encoder.layers.4.sublayer.0.norm.b_2, // Parameter's Shape : torch.Size([512])\n",
            "Parameter's Name : encoder.layers.4.sublayer.1.norm.a_2, // Parameter's Shape : torch.Size([512])\n",
            "Parameter's Name : encoder.layers.4.sublayer.1.norm.b_2, // Parameter's Shape : torch.Size([512])\n",
            "Parameter's Name : encoder.layers.5.self_attn.linears.0.weight, // Parameter's Shape : torch.Size([512, 512])\n",
            "Parameter's Name : encoder.layers.5.self_attn.linears.0.bias, // Parameter's Shape : torch.Size([512])\n",
            "Parameter's Name : encoder.layers.5.self_attn.linears.1.weight, // Parameter's Shape : torch.Size([512, 512])\n",
            "Parameter's Name : encoder.layers.5.self_attn.linears.1.bias, // Parameter's Shape : torch.Size([512])\n",
            "Parameter's Name : encoder.layers.5.self_attn.linears.2.weight, // Parameter's Shape : torch.Size([512, 512])\n",
            "Parameter's Name : encoder.layers.5.self_attn.linears.2.bias, // Parameter's Shape : torch.Size([512])\n",
            "Parameter's Name : encoder.layers.5.self_attn.linears.3.weight, // Parameter's Shape : torch.Size([512, 512])\n",
            "Parameter's Name : encoder.layers.5.self_attn.linears.3.bias, // Parameter's Shape : torch.Size([512])\n",
            "Parameter's Name : encoder.layers.5.feed_forward.w_1.weight, // Parameter's Shape : torch.Size([2048, 512])\n",
            "Parameter's Name : encoder.layers.5.feed_forward.w_1.bias, // Parameter's Shape : torch.Size([2048])\n",
            "Parameter's Name : encoder.layers.5.feed_forward.w_2.weight, // Parameter's Shape : torch.Size([512, 2048])\n",
            "Parameter's Name : encoder.layers.5.feed_forward.w_2.bias, // Parameter's Shape : torch.Size([512])\n",
            "Parameter's Name : encoder.layers.5.sublayer.0.norm.a_2, // Parameter's Shape : torch.Size([512])\n",
            "Parameter's Name : encoder.layers.5.sublayer.0.norm.b_2, // Parameter's Shape : torch.Size([512])\n",
            "Parameter's Name : encoder.layers.5.sublayer.1.norm.a_2, // Parameter's Shape : torch.Size([512])\n",
            "Parameter's Name : encoder.layers.5.sublayer.1.norm.b_2, // Parameter's Shape : torch.Size([512])\n",
            "Parameter's Name : encoder.norm.a_2, // Parameter's Shape : torch.Size([512])\n",
            "Parameter's Name : encoder.norm.b_2, // Parameter's Shape : torch.Size([512])\n",
            "Parameter's Name : decoder.layers.0.self_attn.linears.0.weight, // Parameter's Shape : torch.Size([512, 512])\n",
            "Parameter's Name : decoder.layers.0.self_attn.linears.0.bias, // Parameter's Shape : torch.Size([512])\n",
            "Parameter's Name : decoder.layers.0.self_attn.linears.1.weight, // Parameter's Shape : torch.Size([512, 512])\n",
            "Parameter's Name : decoder.layers.0.self_attn.linears.1.bias, // Parameter's Shape : torch.Size([512])\n",
            "Parameter's Name : decoder.layers.0.self_attn.linears.2.weight, // Parameter's Shape : torch.Size([512, 512])\n",
            "Parameter's Name : decoder.layers.0.self_attn.linears.2.bias, // Parameter's Shape : torch.Size([512])\n",
            "Parameter's Name : decoder.layers.0.self_attn.linears.3.weight, // Parameter's Shape : torch.Size([512, 512])\n",
            "Parameter's Name : decoder.layers.0.self_attn.linears.3.bias, // Parameter's Shape : torch.Size([512])\n",
            "Parameter's Name : decoder.layers.0.src_attn.linears.0.weight, // Parameter's Shape : torch.Size([512, 512])\n",
            "Parameter's Name : decoder.layers.0.src_attn.linears.0.bias, // Parameter's Shape : torch.Size([512])\n",
            "Parameter's Name : decoder.layers.0.src_attn.linears.1.weight, // Parameter's Shape : torch.Size([512, 512])\n",
            "Parameter's Name : decoder.layers.0.src_attn.linears.1.bias, // Parameter's Shape : torch.Size([512])\n",
            "Parameter's Name : decoder.layers.0.src_attn.linears.2.weight, // Parameter's Shape : torch.Size([512, 512])\n",
            "Parameter's Name : decoder.layers.0.src_attn.linears.2.bias, // Parameter's Shape : torch.Size([512])\n",
            "Parameter's Name : decoder.layers.0.src_attn.linears.3.weight, // Parameter's Shape : torch.Size([512, 512])\n",
            "Parameter's Name : decoder.layers.0.src_attn.linears.3.bias, // Parameter's Shape : torch.Size([512])\n",
            "Parameter's Name : decoder.layers.0.feed_forward.w_1.weight, // Parameter's Shape : torch.Size([2048, 512])\n",
            "Parameter's Name : decoder.layers.0.feed_forward.w_1.bias, // Parameter's Shape : torch.Size([2048])\n",
            "Parameter's Name : decoder.layers.0.feed_forward.w_2.weight, // Parameter's Shape : torch.Size([512, 2048])\n",
            "Parameter's Name : decoder.layers.0.feed_forward.w_2.bias, // Parameter's Shape : torch.Size([512])\n",
            "Parameter's Name : decoder.layers.0.sublayer.0.norm.a_2, // Parameter's Shape : torch.Size([512])\n",
            "Parameter's Name : decoder.layers.0.sublayer.0.norm.b_2, // Parameter's Shape : torch.Size([512])\n",
            "Parameter's Name : decoder.layers.0.sublayer.1.norm.a_2, // Parameter's Shape : torch.Size([512])\n",
            "Parameter's Name : decoder.layers.0.sublayer.1.norm.b_2, // Parameter's Shape : torch.Size([512])\n",
            "Parameter's Name : decoder.layers.0.sublayer.2.norm.a_2, // Parameter's Shape : torch.Size([512])\n",
            "Parameter's Name : decoder.layers.0.sublayer.2.norm.b_2, // Parameter's Shape : torch.Size([512])\n",
            "Parameter's Name : decoder.layers.1.self_attn.linears.0.weight, // Parameter's Shape : torch.Size([512, 512])\n",
            "Parameter's Name : decoder.layers.1.self_attn.linears.0.bias, // Parameter's Shape : torch.Size([512])\n",
            "Parameter's Name : decoder.layers.1.self_attn.linears.1.weight, // Parameter's Shape : torch.Size([512, 512])\n",
            "Parameter's Name : decoder.layers.1.self_attn.linears.1.bias, // Parameter's Shape : torch.Size([512])\n",
            "Parameter's Name : decoder.layers.1.self_attn.linears.2.weight, // Parameter's Shape : torch.Size([512, 512])\n",
            "Parameter's Name : decoder.layers.1.self_attn.linears.2.bias, // Parameter's Shape : torch.Size([512])\n",
            "Parameter's Name : decoder.layers.1.self_attn.linears.3.weight, // Parameter's Shape : torch.Size([512, 512])\n",
            "Parameter's Name : decoder.layers.1.self_attn.linears.3.bias, // Parameter's Shape : torch.Size([512])\n",
            "Parameter's Name : decoder.layers.1.src_attn.linears.0.weight, // Parameter's Shape : torch.Size([512, 512])\n",
            "Parameter's Name : decoder.layers.1.src_attn.linears.0.bias, // Parameter's Shape : torch.Size([512])\n",
            "Parameter's Name : decoder.layers.1.src_attn.linears.1.weight, // Parameter's Shape : torch.Size([512, 512])\n",
            "Parameter's Name : decoder.layers.1.src_attn.linears.1.bias, // Parameter's Shape : torch.Size([512])\n",
            "Parameter's Name : decoder.layers.1.src_attn.linears.2.weight, // Parameter's Shape : torch.Size([512, 512])\n",
            "Parameter's Name : decoder.layers.1.src_attn.linears.2.bias, // Parameter's Shape : torch.Size([512])\n",
            "Parameter's Name : decoder.layers.1.src_attn.linears.3.weight, // Parameter's Shape : torch.Size([512, 512])\n",
            "Parameter's Name : decoder.layers.1.src_attn.linears.3.bias, // Parameter's Shape : torch.Size([512])\n",
            "Parameter's Name : decoder.layers.1.feed_forward.w_1.weight, // Parameter's Shape : torch.Size([2048, 512])\n",
            "Parameter's Name : decoder.layers.1.feed_forward.w_1.bias, // Parameter's Shape : torch.Size([2048])\n",
            "Parameter's Name : decoder.layers.1.feed_forward.w_2.weight, // Parameter's Shape : torch.Size([512, 2048])\n",
            "Parameter's Name : decoder.layers.1.feed_forward.w_2.bias, // Parameter's Shape : torch.Size([512])\n",
            "Parameter's Name : decoder.layers.1.sublayer.0.norm.a_2, // Parameter's Shape : torch.Size([512])\n",
            "Parameter's Name : decoder.layers.1.sublayer.0.norm.b_2, // Parameter's Shape : torch.Size([512])\n",
            "Parameter's Name : decoder.layers.1.sublayer.1.norm.a_2, // Parameter's Shape : torch.Size([512])\n",
            "Parameter's Name : decoder.layers.1.sublayer.1.norm.b_2, // Parameter's Shape : torch.Size([512])\n",
            "Parameter's Name : decoder.layers.1.sublayer.2.norm.a_2, // Parameter's Shape : torch.Size([512])\n",
            "Parameter's Name : decoder.layers.1.sublayer.2.norm.b_2, // Parameter's Shape : torch.Size([512])\n",
            "Parameter's Name : decoder.layers.2.self_attn.linears.0.weight, // Parameter's Shape : torch.Size([512, 512])\n",
            "Parameter's Name : decoder.layers.2.self_attn.linears.0.bias, // Parameter's Shape : torch.Size([512])\n",
            "Parameter's Name : decoder.layers.2.self_attn.linears.1.weight, // Parameter's Shape : torch.Size([512, 512])\n",
            "Parameter's Name : decoder.layers.2.self_attn.linears.1.bias, // Parameter's Shape : torch.Size([512])\n",
            "Parameter's Name : decoder.layers.2.self_attn.linears.2.weight, // Parameter's Shape : torch.Size([512, 512])\n",
            "Parameter's Name : decoder.layers.2.self_attn.linears.2.bias, // Parameter's Shape : torch.Size([512])\n",
            "Parameter's Name : decoder.layers.2.self_attn.linears.3.weight, // Parameter's Shape : torch.Size([512, 512])\n",
            "Parameter's Name : decoder.layers.2.self_attn.linears.3.bias, // Parameter's Shape : torch.Size([512])\n",
            "Parameter's Name : decoder.layers.2.src_attn.linears.0.weight, // Parameter's Shape : torch.Size([512, 512])\n",
            "Parameter's Name : decoder.layers.2.src_attn.linears.0.bias, // Parameter's Shape : torch.Size([512])\n",
            "Parameter's Name : decoder.layers.2.src_attn.linears.1.weight, // Parameter's Shape : torch.Size([512, 512])\n",
            "Parameter's Name : decoder.layers.2.src_attn.linears.1.bias, // Parameter's Shape : torch.Size([512])\n",
            "Parameter's Name : decoder.layers.2.src_attn.linears.2.weight, // Parameter's Shape : torch.Size([512, 512])\n",
            "Parameter's Name : decoder.layers.2.src_attn.linears.2.bias, // Parameter's Shape : torch.Size([512])\n",
            "Parameter's Name : decoder.layers.2.src_attn.linears.3.weight, // Parameter's Shape : torch.Size([512, 512])\n",
            "Parameter's Name : decoder.layers.2.src_attn.linears.3.bias, // Parameter's Shape : torch.Size([512])\n",
            "Parameter's Name : decoder.layers.2.feed_forward.w_1.weight, // Parameter's Shape : torch.Size([2048, 512])\n",
            "Parameter's Name : decoder.layers.2.feed_forward.w_1.bias, // Parameter's Shape : torch.Size([2048])\n",
            "Parameter's Name : decoder.layers.2.feed_forward.w_2.weight, // Parameter's Shape : torch.Size([512, 2048])\n",
            "Parameter's Name : decoder.layers.2.feed_forward.w_2.bias, // Parameter's Shape : torch.Size([512])\n",
            "Parameter's Name : decoder.layers.2.sublayer.0.norm.a_2, // Parameter's Shape : torch.Size([512])\n",
            "Parameter's Name : decoder.layers.2.sublayer.0.norm.b_2, // Parameter's Shape : torch.Size([512])\n",
            "Parameter's Name : decoder.layers.2.sublayer.1.norm.a_2, // Parameter's Shape : torch.Size([512])\n",
            "Parameter's Name : decoder.layers.2.sublayer.1.norm.b_2, // Parameter's Shape : torch.Size([512])\n",
            "Parameter's Name : decoder.layers.2.sublayer.2.norm.a_2, // Parameter's Shape : torch.Size([512])\n",
            "Parameter's Name : decoder.layers.2.sublayer.2.norm.b_2, // Parameter's Shape : torch.Size([512])\n",
            "Parameter's Name : decoder.layers.3.self_attn.linears.0.weight, // Parameter's Shape : torch.Size([512, 512])\n",
            "Parameter's Name : decoder.layers.3.self_attn.linears.0.bias, // Parameter's Shape : torch.Size([512])\n",
            "Parameter's Name : decoder.layers.3.self_attn.linears.1.weight, // Parameter's Shape : torch.Size([512, 512])\n",
            "Parameter's Name : decoder.layers.3.self_attn.linears.1.bias, // Parameter's Shape : torch.Size([512])\n",
            "Parameter's Name : decoder.layers.3.self_attn.linears.2.weight, // Parameter's Shape : torch.Size([512, 512])\n",
            "Parameter's Name : decoder.layers.3.self_attn.linears.2.bias, // Parameter's Shape : torch.Size([512])\n",
            "Parameter's Name : decoder.layers.3.self_attn.linears.3.weight, // Parameter's Shape : torch.Size([512, 512])\n",
            "Parameter's Name : decoder.layers.3.self_attn.linears.3.bias, // Parameter's Shape : torch.Size([512])\n",
            "Parameter's Name : decoder.layers.3.src_attn.linears.0.weight, // Parameter's Shape : torch.Size([512, 512])\n",
            "Parameter's Name : decoder.layers.3.src_attn.linears.0.bias, // Parameter's Shape : torch.Size([512])\n",
            "Parameter's Name : decoder.layers.3.src_attn.linears.1.weight, // Parameter's Shape : torch.Size([512, 512])\n",
            "Parameter's Name : decoder.layers.3.src_attn.linears.1.bias, // Parameter's Shape : torch.Size([512])\n",
            "Parameter's Name : decoder.layers.3.src_attn.linears.2.weight, // Parameter's Shape : torch.Size([512, 512])\n",
            "Parameter's Name : decoder.layers.3.src_attn.linears.2.bias, // Parameter's Shape : torch.Size([512])\n",
            "Parameter's Name : decoder.layers.3.src_attn.linears.3.weight, // Parameter's Shape : torch.Size([512, 512])\n",
            "Parameter's Name : decoder.layers.3.src_attn.linears.3.bias, // Parameter's Shape : torch.Size([512])\n",
            "Parameter's Name : decoder.layers.3.feed_forward.w_1.weight, // Parameter's Shape : torch.Size([2048, 512])\n",
            "Parameter's Name : decoder.layers.3.feed_forward.w_1.bias, // Parameter's Shape : torch.Size([2048])\n",
            "Parameter's Name : decoder.layers.3.feed_forward.w_2.weight, // Parameter's Shape : torch.Size([512, 2048])\n",
            "Parameter's Name : decoder.layers.3.feed_forward.w_2.bias, // Parameter's Shape : torch.Size([512])\n",
            "Parameter's Name : decoder.layers.3.sublayer.0.norm.a_2, // Parameter's Shape : torch.Size([512])\n",
            "Parameter's Name : decoder.layers.3.sublayer.0.norm.b_2, // Parameter's Shape : torch.Size([512])\n",
            "Parameter's Name : decoder.layers.3.sublayer.1.norm.a_2, // Parameter's Shape : torch.Size([512])\n",
            "Parameter's Name : decoder.layers.3.sublayer.1.norm.b_2, // Parameter's Shape : torch.Size([512])\n",
            "Parameter's Name : decoder.layers.3.sublayer.2.norm.a_2, // Parameter's Shape : torch.Size([512])\n",
            "Parameter's Name : decoder.layers.3.sublayer.2.norm.b_2, // Parameter's Shape : torch.Size([512])\n",
            "Parameter's Name : decoder.layers.4.self_attn.linears.0.weight, // Parameter's Shape : torch.Size([512, 512])\n",
            "Parameter's Name : decoder.layers.4.self_attn.linears.0.bias, // Parameter's Shape : torch.Size([512])\n",
            "Parameter's Name : decoder.layers.4.self_attn.linears.1.weight, // Parameter's Shape : torch.Size([512, 512])\n",
            "Parameter's Name : decoder.layers.4.self_attn.linears.1.bias, // Parameter's Shape : torch.Size([512])\n",
            "Parameter's Name : decoder.layers.4.self_attn.linears.2.weight, // Parameter's Shape : torch.Size([512, 512])\n",
            "Parameter's Name : decoder.layers.4.self_attn.linears.2.bias, // Parameter's Shape : torch.Size([512])\n",
            "Parameter's Name : decoder.layers.4.self_attn.linears.3.weight, // Parameter's Shape : torch.Size([512, 512])\n",
            "Parameter's Name : decoder.layers.4.self_attn.linears.3.bias, // Parameter's Shape : torch.Size([512])\n",
            "Parameter's Name : decoder.layers.4.src_attn.linears.0.weight, // Parameter's Shape : torch.Size([512, 512])\n",
            "Parameter's Name : decoder.layers.4.src_attn.linears.0.bias, // Parameter's Shape : torch.Size([512])\n",
            "Parameter's Name : decoder.layers.4.src_attn.linears.1.weight, // Parameter's Shape : torch.Size([512, 512])\n",
            "Parameter's Name : decoder.layers.4.src_attn.linears.1.bias, // Parameter's Shape : torch.Size([512])\n",
            "Parameter's Name : decoder.layers.4.src_attn.linears.2.weight, // Parameter's Shape : torch.Size([512, 512])\n",
            "Parameter's Name : decoder.layers.4.src_attn.linears.2.bias, // Parameter's Shape : torch.Size([512])\n",
            "Parameter's Name : decoder.layers.4.src_attn.linears.3.weight, // Parameter's Shape : torch.Size([512, 512])\n",
            "Parameter's Name : decoder.layers.4.src_attn.linears.3.bias, // Parameter's Shape : torch.Size([512])\n",
            "Parameter's Name : decoder.layers.4.feed_forward.w_1.weight, // Parameter's Shape : torch.Size([2048, 512])\n",
            "Parameter's Name : decoder.layers.4.feed_forward.w_1.bias, // Parameter's Shape : torch.Size([2048])\n",
            "Parameter's Name : decoder.layers.4.feed_forward.w_2.weight, // Parameter's Shape : torch.Size([512, 2048])\n",
            "Parameter's Name : decoder.layers.4.feed_forward.w_2.bias, // Parameter's Shape : torch.Size([512])\n",
            "Parameter's Name : decoder.layers.4.sublayer.0.norm.a_2, // Parameter's Shape : torch.Size([512])\n",
            "Parameter's Name : decoder.layers.4.sublayer.0.norm.b_2, // Parameter's Shape : torch.Size([512])\n",
            "Parameter's Name : decoder.layers.4.sublayer.1.norm.a_2, // Parameter's Shape : torch.Size([512])\n",
            "Parameter's Name : decoder.layers.4.sublayer.1.norm.b_2, // Parameter's Shape : torch.Size([512])\n",
            "Parameter's Name : decoder.layers.4.sublayer.2.norm.a_2, // Parameter's Shape : torch.Size([512])\n",
            "Parameter's Name : decoder.layers.4.sublayer.2.norm.b_2, // Parameter's Shape : torch.Size([512])\n",
            "Parameter's Name : decoder.layers.5.self_attn.linears.0.weight, // Parameter's Shape : torch.Size([512, 512])\n",
            "Parameter's Name : decoder.layers.5.self_attn.linears.0.bias, // Parameter's Shape : torch.Size([512])\n",
            "Parameter's Name : decoder.layers.5.self_attn.linears.1.weight, // Parameter's Shape : torch.Size([512, 512])\n",
            "Parameter's Name : decoder.layers.5.self_attn.linears.1.bias, // Parameter's Shape : torch.Size([512])\n",
            "Parameter's Name : decoder.layers.5.self_attn.linears.2.weight, // Parameter's Shape : torch.Size([512, 512])\n",
            "Parameter's Name : decoder.layers.5.self_attn.linears.2.bias, // Parameter's Shape : torch.Size([512])\n",
            "Parameter's Name : decoder.layers.5.self_attn.linears.3.weight, // Parameter's Shape : torch.Size([512, 512])\n",
            "Parameter's Name : decoder.layers.5.self_attn.linears.3.bias, // Parameter's Shape : torch.Size([512])\n",
            "Parameter's Name : decoder.layers.5.src_attn.linears.0.weight, // Parameter's Shape : torch.Size([512, 512])\n",
            "Parameter's Name : decoder.layers.5.src_attn.linears.0.bias, // Parameter's Shape : torch.Size([512])\n",
            "Parameter's Name : decoder.layers.5.src_attn.linears.1.weight, // Parameter's Shape : torch.Size([512, 512])\n",
            "Parameter's Name : decoder.layers.5.src_attn.linears.1.bias, // Parameter's Shape : torch.Size([512])\n",
            "Parameter's Name : decoder.layers.5.src_attn.linears.2.weight, // Parameter's Shape : torch.Size([512, 512])\n",
            "Parameter's Name : decoder.layers.5.src_attn.linears.2.bias, // Parameter's Shape : torch.Size([512])\n",
            "Parameter's Name : decoder.layers.5.src_attn.linears.3.weight, // Parameter's Shape : torch.Size([512, 512])\n",
            "Parameter's Name : decoder.layers.5.src_attn.linears.3.bias, // Parameter's Shape : torch.Size([512])\n",
            "Parameter's Name : decoder.layers.5.feed_forward.w_1.weight, // Parameter's Shape : torch.Size([2048, 512])\n",
            "Parameter's Name : decoder.layers.5.feed_forward.w_1.bias, // Parameter's Shape : torch.Size([2048])\n",
            "Parameter's Name : decoder.layers.5.feed_forward.w_2.weight, // Parameter's Shape : torch.Size([512, 2048])\n",
            "Parameter's Name : decoder.layers.5.feed_forward.w_2.bias, // Parameter's Shape : torch.Size([512])\n",
            "Parameter's Name : decoder.layers.5.sublayer.0.norm.a_2, // Parameter's Shape : torch.Size([512])\n",
            "Parameter's Name : decoder.layers.5.sublayer.0.norm.b_2, // Parameter's Shape : torch.Size([512])\n",
            "Parameter's Name : decoder.layers.5.sublayer.1.norm.a_2, // Parameter's Shape : torch.Size([512])\n",
            "Parameter's Name : decoder.layers.5.sublayer.1.norm.b_2, // Parameter's Shape : torch.Size([512])\n",
            "Parameter's Name : decoder.layers.5.sublayer.2.norm.a_2, // Parameter's Shape : torch.Size([512])\n",
            "Parameter's Name : decoder.layers.5.sublayer.2.norm.b_2, // Parameter's Shape : torch.Size([512])\n",
            "Parameter's Name : decoder.norm.a_2, // Parameter's Shape : torch.Size([512])\n",
            "Parameter's Name : decoder.norm.b_2, // Parameter's Shape : torch.Size([512])\n",
            "Parameter's Name : src_embed.0.lut.weight, // Parameter's Shape : torch.Size([10, 512])\n",
            "Parameter's Name : tgt_embed.0.lut.weight, // Parameter's Shape : torch.Size([10, 512])\n",
            "Parameter's Name : generator.proj.weight, // Parameter's Shape : torch.Size([10, 512])\n",
            "Parameter's Name : generator.proj.bias, // Parameter's Shape : torch.Size([10])\n"
          ]
        }
      ],
      "source": [
        "for name, param in model.named_parameters():\n",
        "    result = f\"Parameter's Name : {name}, // Parameter's Shape : {param.shape}\"\n",
        "    print(result)"
      ]
    },
    {
      "cell_type": "code",
      "source": [
        ""
      ],
      "metadata": {
        "id": "hYip3ZojIbwm"
      },
      "execution_count": null,
      "outputs": []
    }
  ],
  "metadata": {
    "accelerator": "GPU",
    "colab": {
      "collapsed_sections": [],
      "name": "Week3_4_assginment.ipynb",
      "provenance": []
    },
    "kernelspec": {
      "display_name": "torch",
      "language": "python",
      "name": "torch"
    },
    "language_info": {
      "codemirror_mode": {
        "name": "ipython",
        "version": 3
      },
      "file_extension": ".py",
      "mimetype": "text/x-python",
      "name": "python",
      "nbconvert_exporter": "python",
      "pygments_lexer": "ipython3",
      "version": "3.8.11"
    }
  },
  "nbformat": 4,
  "nbformat_minor": 0
}