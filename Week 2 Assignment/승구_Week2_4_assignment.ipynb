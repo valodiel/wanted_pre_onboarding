{
  "cells": [
    {
      "cell_type": "markdown",
      "metadata": {
        "id": "592U6lXs3d2t"
      },
      "source": [
        "# Week2_4 Assignment\n",
        "\n",
        "## [BASIC](#Basic) \n",
        "- 커스텀 모듈(`helper.py`)에서 **클래스와 함수를 임포트**할 수 있다.\n",
        "- **autograd**의 개념 복습\n",
        "\n",
        "\n",
        "## [CHALLENGE](#Challenge)\n",
        "- train() 함수에 **epoch, scheduler, grad_clipping**을 추가할 수 있다.\n",
        "- **validate() 함수를 구현**할 수 있다.\n",
        "\n",
        "\n",
        "## [ADVANCED](#Advanced)\n",
        "- train() 함수를 사용해 데이터를 **4 epoch 학습**할 수 있다. \n",
        "- **predict 함수를 구현**할 수 있다. \n",
        "- **evaluation metric 구현**할 수 있다. \n",
        "    - accuracy\n",
        "\n",
        "\n",
        "\n",
        "### Reference\n",
        "- [Pytorch Autograd Explain official document](https://pytorch.org/tutorials/beginner/blitz/autograd_tutorial.html)"
      ]
    },
    {
      "cell_type": "code",
      "execution_count": 1,
      "metadata": {
        "ExecuteTime": {
          "end_time": "2022-02-02T04:01:47.370876Z",
          "start_time": "2022-02-02T04:01:46.520392Z"
        },
        "id": "KSX-wQA1RD1h"
      },
      "outputs": [],
      "source": [
        "import os\n",
        "import sys\n",
        "import pandas as pd\n",
        "import numpy as np \n",
        "import torch\n",
        "import random"
      ]
    },
    {
      "cell_type": "code",
      "execution_count": 2,
      "metadata": {
        "ExecuteTime": {
          "end_time": "2022-02-02T04:01:47.375658Z",
          "start_time": "2022-02-02T04:01:47.372242Z"
        },
        "id": "MH7RJjtZXOHf"
      },
      "outputs": [],
      "source": [
        "# set seed\n",
        "seed = 7777\n",
        "random.seed(seed)\n",
        "torch.manual_seed(seed)\n",
        "torch.cuda.manual_seed_all(seed)"
      ]
    },
    {
      "cell_type": "code",
      "execution_count": 3,
      "metadata": {
        "ExecuteTime": {
          "end_time": "2022-01-31T13:07:00.849353Z",
          "start_time": "2022-01-31T13:06:56.187962Z"
        },
        "id": "62plMahMWr0U",
        "colab": {
          "base_uri": "https://localhost:8080/"
        },
        "outputId": "88f7378b-ac91-43e0-c3e5-835968aaf050"
      },
      "outputs": [
        {
          "output_type": "stream",
          "name": "stdout",
          "text": [
            "Collecting transformers\n",
            "  Downloading transformers-4.17.0-py3-none-any.whl (3.8 MB)\n",
            "\u001b[K     |████████████████████████████████| 3.8 MB 9.2 MB/s \n",
            "\u001b[?25hRequirement already satisfied: numpy>=1.17 in /usr/local/lib/python3.7/dist-packages (from transformers) (1.21.5)\n",
            "Requirement already satisfied: importlib-metadata in /usr/local/lib/python3.7/dist-packages (from transformers) (4.11.2)\n",
            "Collecting tokenizers!=0.11.3,>=0.11.1\n",
            "  Downloading tokenizers-0.11.6-cp37-cp37m-manylinux_2_12_x86_64.manylinux2010_x86_64.whl (6.5 MB)\n",
            "\u001b[K     |████████████████████████████████| 6.5 MB 36.8 MB/s \n",
            "\u001b[?25hCollecting huggingface-hub<1.0,>=0.1.0\n",
            "  Downloading huggingface_hub-0.4.0-py3-none-any.whl (67 kB)\n",
            "\u001b[K     |████████████████████████████████| 67 kB 5.1 MB/s \n",
            "\u001b[?25hRequirement already satisfied: packaging>=20.0 in /usr/local/lib/python3.7/dist-packages (from transformers) (21.3)\n",
            "Requirement already satisfied: requests in /usr/local/lib/python3.7/dist-packages (from transformers) (2.23.0)\n",
            "Requirement already satisfied: regex!=2019.12.17 in /usr/local/lib/python3.7/dist-packages (from transformers) (2019.12.20)\n",
            "Requirement already satisfied: tqdm>=4.27 in /usr/local/lib/python3.7/dist-packages (from transformers) (4.63.0)\n",
            "Collecting sacremoses\n",
            "  Downloading sacremoses-0.0.49-py3-none-any.whl (895 kB)\n",
            "\u001b[K     |████████████████████████████████| 895 kB 14.5 MB/s \n",
            "\u001b[?25hRequirement already satisfied: filelock in /usr/local/lib/python3.7/dist-packages (from transformers) (3.6.0)\n",
            "Collecting pyyaml>=5.1\n",
            "  Downloading PyYAML-6.0-cp37-cp37m-manylinux_2_5_x86_64.manylinux1_x86_64.manylinux_2_12_x86_64.manylinux2010_x86_64.whl (596 kB)\n",
            "\u001b[K     |████████████████████████████████| 596 kB 33.6 MB/s \n",
            "\u001b[?25hRequirement already satisfied: typing-extensions>=3.7.4.3 in /usr/local/lib/python3.7/dist-packages (from huggingface-hub<1.0,>=0.1.0->transformers) (3.10.0.2)\n",
            "Requirement already satisfied: pyparsing!=3.0.5,>=2.0.2 in /usr/local/lib/python3.7/dist-packages (from packaging>=20.0->transformers) (3.0.7)\n",
            "Requirement already satisfied: zipp>=0.5 in /usr/local/lib/python3.7/dist-packages (from importlib-metadata->transformers) (3.7.0)\n",
            "Requirement already satisfied: idna<3,>=2.5 in /usr/local/lib/python3.7/dist-packages (from requests->transformers) (2.10)\n",
            "Requirement already satisfied: chardet<4,>=3.0.2 in /usr/local/lib/python3.7/dist-packages (from requests->transformers) (3.0.4)\n",
            "Requirement already satisfied: certifi>=2017.4.17 in /usr/local/lib/python3.7/dist-packages (from requests->transformers) (2021.10.8)\n",
            "Requirement already satisfied: urllib3!=1.25.0,!=1.25.1,<1.26,>=1.21.1 in /usr/local/lib/python3.7/dist-packages (from requests->transformers) (1.24.3)\n",
            "Requirement already satisfied: joblib in /usr/local/lib/python3.7/dist-packages (from sacremoses->transformers) (1.1.0)\n",
            "Requirement already satisfied: six in /usr/local/lib/python3.7/dist-packages (from sacremoses->transformers) (1.15.0)\n",
            "Requirement already satisfied: click in /usr/local/lib/python3.7/dist-packages (from sacremoses->transformers) (7.1.2)\n",
            "Installing collected packages: pyyaml, tokenizers, sacremoses, huggingface-hub, transformers\n",
            "  Attempting uninstall: pyyaml\n",
            "    Found existing installation: PyYAML 3.13\n",
            "    Uninstalling PyYAML-3.13:\n",
            "      Successfully uninstalled PyYAML-3.13\n",
            "Successfully installed huggingface-hub-0.4.0 pyyaml-6.0 sacremoses-0.0.49 tokenizers-0.11.6 transformers-4.17.0\n"
          ]
        }
      ],
      "source": [
        "!pip install transformers"
      ]
    },
    {
      "cell_type": "code",
      "execution_count": 4,
      "metadata": {
        "id": "6WagJcj-Ud4L",
        "colab": {
          "base_uri": "https://localhost:8080/"
        },
        "outputId": "163fda81-0c32-415f-c751-b7dc19ebfaff"
      },
      "outputs": [
        {
          "output_type": "stream",
          "name": "stdout",
          "text": [
            "Mounted at /content/drive\n"
          ]
        }
      ],
      "source": [
        "from google.colab import drive\n",
        "drive.mount('/content/drive')"
      ]
    },
    {
      "cell_type": "code",
      "source": [
        "cd '/content/drive/MyDrive'"
      ],
      "metadata": {
        "colab": {
          "base_uri": "https://localhost:8080/"
        },
        "id": "U2tWjt3QjI85",
        "outputId": "723160e1-4e6d-415b-e4af-01d61c0d9fa5"
      },
      "execution_count": 5,
      "outputs": [
        {
          "output_type": "stream",
          "name": "stdout",
          "text": [
            "/content/drive/MyDrive\n"
          ]
        }
      ]
    },
    {
      "cell_type": "code",
      "execution_count": 6,
      "metadata": {
        "id": "qnETqIqdVApF"
      },
      "outputs": [],
      "source": [
        "# help.py 모듈 경로를 입력\n",
        "sys.path.append('/content/drive/MyDrive/help.py')"
      ]
    },
    {
      "cell_type": "code",
      "execution_count": 7,
      "metadata": {
        "ExecuteTime": {
          "end_time": "2022-02-02T04:01:49.735578Z",
          "start_time": "2022-02-02T04:01:49.475969Z"
        },
        "id": "N84mZeYMUFxJ",
        "colab": {
          "base_uri": "https://localhost:8080/",
          "height": 145,
          "referenced_widgets": [
            "c0907d3cf95d47bca338981524e9d099",
            "f41800a3c81e4a57adb17f725708cc65",
            "b928dbc99b1542efac3853e98c65d213",
            "9b4e2bdd63784feb94fb622df0ca3a77",
            "8b86358a0eb547e287034abcca339588",
            "b59d748a62f045ffae12d6405a5aa481",
            "1be91f08c201470eb7079b8e727ba986",
            "7cdb7a3d551a4f948912af513c7abff0",
            "121c85b6244d4144b9b45c062f90c1d3",
            "8b933f4413ba40f8bf867b81afe29a3f",
            "68bb4135fcfa42c8a18610e59bcfa842",
            "0d16a1ee7fea47bb806ee7929a26f746",
            "4866506740704c6b9bb8b73dfa28c786",
            "207c46e343c4404cbd147a068090bd7e",
            "ccd1575d87d9468980b7e867bb69f24a",
            "e3ebdb91661342da8458e4f91a7abaa0",
            "54998b2cb7034617bc1fb51224828739",
            "9a836328d8524bb29608413f141e448a",
            "feeae9d7f55a4cebb0de5ace6d8f4de6",
            "e5552b69727e4695a19e1bdb97a35e95",
            "ba073f2a755648b8952bbac114e95075",
            "c0d6e48f6c91424495f0645d4b1e26ca",
            "df00c3a7e06648fe9abbab41bbe222a1",
            "24f2f2f5c47a46e0a8871581c4398036",
            "7e6f33cf9f5d4341bdc14af9dd44e123",
            "1561aeb748724b19a9823bec97456472",
            "7ca53bb4e351402cbc13d0e1dc92de97",
            "34249af541074375bf2b772f71ce653a",
            "34dd6b09de7e46ac95d2d72dd4d87246",
            "d4bf598faa59442fb3c234c652515edc",
            "d1c06b055e90411cb2e1fd519742651c",
            "2b2454b1879849e191f57cb049641400",
            "485a62ae77a649c5b267d7a2237812c3",
            "74e1b90191044969b4c2aa1b65bc84be",
            "45c5396f284043cdb856c81a6e28c73a",
            "6ecfcf38e1a7471283eada911f81b304",
            "71ad32d7fe764fbdb2ec483fae047261",
            "7d7855a759ff4c468eda123fc197b7e4",
            "6ba4c4e41a054ba99b6da06b268ea1b2",
            "fd4ec6b4466f45c6ba8be67d5584226e",
            "6b5335c31013432f8ff54072b8c20b8e",
            "3b128924ee804081962247db2f099b80",
            "40d91ffcc0144539a7eaa86163e9773b",
            "d26433949e154491a4ebe218d3d02179"
          ]
        },
        "outputId": "81976a24-3ab4-4b6e-f896-d2ace352b019"
      },
      "outputs": [
        {
          "output_type": "display_data",
          "data": {
            "text/plain": [
              "Downloading:   0%|          | 0.00/243k [00:00<?, ?B/s]"
            ],
            "application/vnd.jupyter.widget-view+json": {
              "version_major": 2,
              "version_minor": 0,
              "model_id": "c0907d3cf95d47bca338981524e9d099"
            }
          },
          "metadata": {}
        },
        {
          "output_type": "display_data",
          "data": {
            "text/plain": [
              "Downloading:   0%|          | 0.00/125 [00:00<?, ?B/s]"
            ],
            "application/vnd.jupyter.widget-view+json": {
              "version_major": 2,
              "version_minor": 0,
              "model_id": "0d16a1ee7fea47bb806ee7929a26f746"
            }
          },
          "metadata": {}
        },
        {
          "output_type": "display_data",
          "data": {
            "text/plain": [
              "Downloading:   0%|          | 0.00/289 [00:00<?, ?B/s]"
            ],
            "application/vnd.jupyter.widget-view+json": {
              "version_major": 2,
              "version_minor": 0,
              "model_id": "df00c3a7e06648fe9abbab41bbe222a1"
            }
          },
          "metadata": {}
        },
        {
          "output_type": "display_data",
          "data": {
            "text/plain": [
              "Downloading:   0%|          | 0.00/425 [00:00<?, ?B/s]"
            ],
            "application/vnd.jupyter.widget-view+json": {
              "version_major": 2,
              "version_minor": 0,
              "model_id": "74e1b90191044969b4c2aa1b65bc84be"
            }
          },
          "metadata": {}
        }
      ],
      "source": [
        "# help 모듈을 import하면 이전에 구현했던 다양한 함수 및 클래스를 사용할 수 있음 \n",
        "\n",
        "from help import *\n",
        "from torch.utils.data import RandomSampler, SequentialSampler"
      ]
    },
    {
      "cell_type": "code",
      "execution_count": 8,
      "metadata": {
        "ExecuteTime": {
          "end_time": "2022-02-02T04:01:49.771743Z",
          "start_time": "2022-02-02T04:01:49.736866Z"
        },
        "id": "oR5EWmh5UFxK",
        "colab": {
          "base_uri": "https://localhost:8080/"
        },
        "outputId": "8a72991e-1044-476a-8162-6748df716385"
      },
      "outputs": [
        {
          "output_type": "stream",
          "name": "stdout",
          "text": [
            "# available GPUs : 1\n",
            "GPU name : Tesla P100-PCIE-16GB\n",
            "device: cuda\n"
          ]
        }
      ],
      "source": [
        "# device\n",
        "device = set_device()\n",
        "print(f\"device: {device}\")"
      ]
    },
    {
      "cell_type": "markdown",
      "metadata": {
        "id": "pkNxrCV45Q3m"
      },
      "source": [
        "## Basic"
      ]
    },
    {
      "cell_type": "markdown",
      "metadata": {
        "id": "9YBUQykS5Q3n"
      },
      "source": [
        "### 모듈에서 클래스와 함수를 임포트해 다음을 구현\n",
        "- train_dataset, train_dataloader\n",
        "- valid_dataset, valid_dataloader\n",
        "- test_dataset, test_dataloader"
      ]
    },
    {
      "cell_type": "code",
      "source": [
        "# train dataframe 다운로드\n",
        "!wget https://raw.githubusercontent.com/ChristinaROK/PreOnboarding_AI_assets/e56006adfac42f8a2975db0ebbe60eacbe1c6b11/data/sample_df.csv"
      ],
      "metadata": {
        "id": "cjNksUEwGACb",
        "colab": {
          "base_uri": "https://localhost:8080/"
        },
        "outputId": "ffb46261-59a1-445f-c99c-b1c774440795"
      },
      "execution_count": 9,
      "outputs": [
        {
          "output_type": "stream",
          "name": "stdout",
          "text": [
            "--2022-03-19 08:28:03--  https://raw.githubusercontent.com/ChristinaROK/PreOnboarding_AI_assets/e56006adfac42f8a2975db0ebbe60eacbe1c6b11/data/sample_df.csv\n",
            "Resolving raw.githubusercontent.com (raw.githubusercontent.com)... 185.199.108.133, 185.199.109.133, 185.199.110.133, ...\n",
            "Connecting to raw.githubusercontent.com (raw.githubusercontent.com)|185.199.108.133|:443... connected.\n",
            "HTTP request sent, awaiting response... 200 OK\n",
            "Length: 971625 (949K) [text/plain]\n",
            "Saving to: ‘sample_df.csv.2’\n",
            "\n",
            "sample_df.csv.2     100%[===================>] 948.85K  --.-KB/s    in 0.05s   \n",
            "\n",
            "2022-03-19 08:28:04 (19.4 MB/s) - ‘sample_df.csv.2’ saved [971625/971625]\n",
            "\n"
          ]
        }
      ]
    },
    {
      "cell_type": "code",
      "source": [
        "# test dataframe 다운로드\n",
        "!wget https://raw.githubusercontent.com/ChristinaROK/PreOnboarding_AI_assets/main/data/sample_df_test.csv"
      ],
      "metadata": {
        "id": "kXfk8ZEHGB0v",
        "colab": {
          "base_uri": "https://localhost:8080/"
        },
        "outputId": "ec45b99f-b016-47f2-fd3b-575153a8c94b"
      },
      "execution_count": 10,
      "outputs": [
        {
          "output_type": "stream",
          "name": "stdout",
          "text": [
            "--2022-03-19 08:28:04--  https://raw.githubusercontent.com/ChristinaROK/PreOnboarding_AI_assets/main/data/sample_df_test.csv\n",
            "Resolving raw.githubusercontent.com (raw.githubusercontent.com)... 185.199.108.133, 185.199.110.133, 185.199.111.133, ...\n",
            "Connecting to raw.githubusercontent.com (raw.githubusercontent.com)|185.199.108.133|:443... connected.\n",
            "HTTP request sent, awaiting response... 200 OK\n",
            "Length: 101383 (99K) [text/plain]\n",
            "Saving to: ‘sample_df_test.csv.2’\n",
            "\n",
            "sample_df_test.csv. 100%[===================>]  99.01K  --.-KB/s    in 0.01s   \n",
            "\n",
            "2022-03-19 08:28:04 (7.35 MB/s) - ‘sample_df_test.csv.2’ saved [101383/101383]\n",
            "\n"
          ]
        }
      ]
    },
    {
      "cell_type": "code",
      "execution_count": 11,
      "metadata": {
        "ExecuteTime": {
          "end_time": "2022-02-02T04:01:53.037044Z",
          "start_time": "2022-02-02T04:01:52.707669Z"
        },
        "id": "KVo5dPnmUFxK",
        "colab": {
          "base_uri": "https://localhost:8080/"
        },
        "outputId": "c5f4b2e0-8a1c-4ab0-80a4-142c3f08a4b7"
      },
      "outputs": [
        {
          "output_type": "stream",
          "name": "stdout",
          "text": [
            "train shape : (10000, 3)\n",
            "test shape : (1000, 3)\n"
          ]
        }
      ],
      "source": [
        "# 학습 & 평가 데이터셋 로드\n",
        "# 학습 및 평가 샘플 데이터 개수는 각각 10,000개, 1,000개\n",
        "\n",
        "df_train = pd.read_csv('sample_df.csv')\n",
        "df_test = pd.read_csv('sample_df_test.csv')\n",
        "\n",
        "print(f\"train shape : {df_train.shape}\")\n",
        "print(f\"test shape : {df_test.shape}\")"
      ]
    },
    {
      "cell_type": "code",
      "execution_count": 12,
      "metadata": {
        "ExecuteTime": {
          "end_time": "2022-02-02T04:01:53.085720Z",
          "start_time": "2022-02-02T04:01:53.081413Z"
        },
        "id": "Ql82Ew2VUFxM",
        "colab": {
          "base_uri": "https://localhost:8080/"
        },
        "outputId": "d88f01df-3a4e-4bbb-ea25-b95a3b8019f2"
      },
      "outputs": [
        {
          "output_type": "stream",
          "name": "stdout",
          "text": [
            "Train Dataset len: 10000\n",
            "Train Dataset 1st element: ('나 이거 더빙을 누가하는지 모르고 봤는데 왠지 더빙이 구리더라...더빙이 너무 별로였음.', 0)\n",
            "Test Dataset len: 1000\n",
            "Test Dataset 1st element: ('신용문객잔 보고 후속편인줄 알고 봤더만 완전 개판이네 18.. 이련결 그냥 절에나 쳐 들어 가라.. 회오리에서 싸우는 신 참 가관이더라 .. 서극도 완전 쓰레기 감독이 다 됐구나.. 액션도 쓰레기고 배우들 연기도 참 가관이더라 18', 0)\n"
          ]
        }
      ],
      "source": [
        "# Dataset 구현\n",
        "# helper.py에 있는 CustomDataset 활용하여 train datset, test dataset 만들기\n",
        "\n",
        "train_dataset = CustomDataset(df_train.document, df_train.label)\n",
        "test_dataset = CustomDataset(df_test.document, df_test.label)\n",
        "\n",
        "print(f\"Train Dataset len: {len(train_dataset)}\")\n",
        "print(f\"Train Dataset 1st element: {train_dataset[0]}\")\n",
        "\n",
        "print(f\"Test Dataset len: {len(test_dataset)}\")\n",
        "print(f\"Test Dataset 1st element: {test_dataset[0]}\")\n"
      ]
    },
    {
      "cell_type": "code",
      "execution_count": 13,
      "metadata": {
        "ExecuteTime": {
          "end_time": "2022-02-02T04:01:53.152070Z",
          "start_time": "2022-02-02T04:01:53.145410Z"
        },
        "id": "7WUY6h8WUFxM",
        "colab": {
          "base_uri": "https://localhost:8080/"
        },
        "outputId": "1479c332-a696-4df7-a7f6-014b5a891c03"
      },
      "outputs": [
        {
          "output_type": "stream",
          "name": "stdout",
          "text": [
            "Train dataset len: 9000\n",
            "Valid dataset len: 1000\n"
          ]
        }
      ],
      "source": [
        "# Train Dataset을 학습과 검증 셋으로 분리\n",
        "# 학습 셋과 검증 셋의 비율은 9:1\n",
        "# torch.utils.data에서 제공되는 데이터 세트를 임의로 분할할 수 있는 함수 찾아서 사용\n",
        "n_train_sample = df_train.shape[0]\n",
        "\n",
        "n_train = int(n_train_sample*0.9)\n",
        "n_valid = n_train_sample - n_train \n",
        "train_dataset, valid_dataset = random_split(train_dataset, [n_train, n_valid])\n",
        "\n",
        "print(f\"Train dataset len: {len(train_dataset)}\")\n",
        "print(f\"Valid dataset len: {len(valid_dataset)}\")"
      ]
    },
    {
      "cell_type": "code",
      "execution_count": 14,
      "metadata": {
        "ExecuteTime": {
          "end_time": "2022-02-02T04:01:53.268838Z",
          "start_time": "2022-02-02T04:01:53.263780Z"
        },
        "id": "H5nc7SpTUFxM",
        "colab": {
          "base_uri": "https://localhost:8080/"
        },
        "outputId": "6b160a89-5d86-4f38-92a4-eab7baab8d99"
      },
      "outputs": [
        {
          "output_type": "stream",
          "name": "stdout",
          "text": [
            "Train dataloader # steps: 282\n",
            "Valid dataloader # steps: 16\n",
            "Test dataloader # steps: 16\n"
          ]
        }
      ],
      "source": [
        "# DataLoader 구현\n",
        "# train과 validation의 batch size는 각각 32, 64로 설정\n",
        "# test의 batch size는 validation과 동일\n",
        "# train에 사용할 DataLoader에서는 sampler로 RandomSampler 사용\n",
        "# validation과 test에 사용할 DataLoader에서는 sampler로 SequentialSampler 사용\n",
        "# 모든 DataLoader의 collate_fn은 helper.py에 있는 custom_collate_fn 사용\n",
        "\n",
        "train_batch_size = 32\n",
        "valid_batch_size = 64\n",
        "\n",
        "train_dataloader = DataLoader(train_dataset, batch_size=train_batch_size, collate_fn=custom_collate_fn, sampler=RandomSampler(train_dataset))\n",
        "\n",
        "valid_dataloader = DataLoader(valid_dataset, batch_size=valid_batch_size, collate_fn=custom_collate_fn, sampler=SequentialSampler(valid_dataset))\n",
        "\n",
        "test_dataloader = DataLoader(test_dataset, batch_size=valid_batch_size, collate_fn=custom_collate_fn, sampler=SequentialSampler(test_dataset))\n",
        "\n",
        "print(f\"Train dataloader # steps: {len(train_dataloader)}\")\n",
        "print(f\"Valid dataloader # steps: {len(valid_dataloader)}\")\n",
        "print(f\"Test dataloader # steps: {len(test_dataloader)}\")"
      ]
    },
    {
      "cell_type": "markdown",
      "metadata": {
        "id": "9kEgqvBIUFxN"
      },
      "source": [
        "### `auto_grad` 개념 복습\n",
        "- torch의 `auto_grad` 기능\n",
        "    - pytorch는 `requires_grad` 파리미터의 값이 True인 텐서에 한해서 미분값을 자동으로 계산한다.\n",
        "    - 미분값은 `loss.backward()` 가 호출될 때 자동으로 계산된다."
      ]
    },
    {
      "cell_type": "code",
      "execution_count": 15,
      "metadata": {
        "ExecuteTime": {
          "end_time": "2022-01-31T13:45:23.502936Z",
          "start_time": "2022-01-31T13:45:20.029987Z"
        },
        "id": "oYjYpQ1DUFxN",
        "colab": {
          "base_uri": "https://localhost:8080/",
          "height": 121,
          "referenced_widgets": [
            "73c20731f19b4c41a3504cffda64c5b6",
            "82717781a7024221b208bccf550926fc",
            "33a3f6954b7547f0ac569cb7d700c589",
            "8cfd1a6395c24857a890853db4b8c9de",
            "ec46c482b63d40e9aa24af6013bc071e",
            "d7fd35bb47d74ec1baf9d226361559a8",
            "76d793131b0f4de7a1878e35ef4fd1fb",
            "d51f5905188e4047b7daa6d8288bcd3a",
            "7767bbaaea87407ba2ae4031fa17da0e",
            "25834230c9694284b51567a2fe3e65a2",
            "bad478f9dcd34ee8b58486f7c2f0525c"
          ]
        },
        "outputId": "b0fa06dd-6be7-4286-8638-bc04d9d5f3f2"
      },
      "outputs": [
        {
          "output_type": "display_data",
          "data": {
            "text/plain": [
              "Downloading:   0%|          | 0.00/424M [00:00<?, ?B/s]"
            ],
            "application/vnd.jupyter.widget-view+json": {
              "version_major": 2,
              "version_minor": 0,
              "model_id": "73c20731f19b4c41a3504cffda64c5b6"
            }
          },
          "metadata": {}
        },
        {
          "output_type": "stream",
          "name": "stderr",
          "text": [
            "Some weights of the model checkpoint at klue/bert-base were not used when initializing BertModel: ['cls.predictions.bias', 'cls.predictions.transform.LayerNorm.bias', 'cls.seq_relationship.weight', 'cls.predictions.decoder.weight', 'cls.predictions.transform.dense.weight', 'cls.predictions.transform.dense.bias', 'cls.seq_relationship.bias', 'cls.predictions.decoder.bias', 'cls.predictions.transform.LayerNorm.weight']\n",
            "- This IS expected if you are initializing BertModel from the checkpoint of a model trained on another task or with another architecture (e.g. initializing a BertForSequenceClassification model from a BertForPreTraining model).\n",
            "- This IS NOT expected if you are initializing BertModel from the checkpoint of a model that you expect to be exactly identical (initializing a BertForSequenceClassification model from a BertForSequenceClassification model).\n"
          ]
        }
      ],
      "source": [
        "# helper.py에 있는 CustomClassifier 모델을 로드해 model_freeze 변수에 instance를 생성\n",
        "# hidden_size=768\n",
        "# n_label=2\n",
        "# freeze_base=True\n",
        "\n",
        "model_freeze = CustomClassifier(hidden_size=768,\n",
        "                                n_label=2)"
      ]
    },
    {
      "cell_type": "code",
      "source": [
        "model_freeze.parameters()"
      ],
      "metadata": {
        "id": "D9xTVjDAsDzo",
        "colab": {
          "base_uri": "https://localhost:8080/"
        },
        "outputId": "9faee770-cf92-4a2a-de76-092241ca9372"
      },
      "execution_count": 16,
      "outputs": [
        {
          "output_type": "execute_result",
          "data": {
            "text/plain": [
              "<generator object Module.parameters at 0x7fe7b32bef50>"
            ]
          },
          "metadata": {},
          "execution_count": 16
        }
      ]
    },
    {
      "cell_type": "code",
      "execution_count": 17,
      "metadata": {
        "ExecuteTime": {
          "end_time": "2022-01-31T13:45:34.604914Z",
          "start_time": "2022-01-31T13:45:34.586711Z"
        },
        "id": "XxNFh8KZUFxN",
        "colab": {
          "base_uri": "https://localhost:8080/"
        },
        "outputId": "a7bc180e-a697-4cc8-ae06-4f4166acdf2c"
      },
      "outputs": [
        {
          "output_type": "stream",
          "name": "stdout",
          "text": [
            "Param Name: bert.embeddings.word_embeddings.weight, Shape: torch.Size([32000, 768]), Grad: True\n",
            "Param Name: bert.embeddings.position_embeddings.weight, Shape: torch.Size([512, 768]), Grad: True\n",
            "Param Name: bert.embeddings.token_type_embeddings.weight, Shape: torch.Size([2, 768]), Grad: True\n",
            "Param Name: bert.embeddings.LayerNorm.weight, Shape: torch.Size([768]), Grad: True\n",
            "Param Name: bert.embeddings.LayerNorm.bias, Shape: torch.Size([768]), Grad: True\n",
            "Param Name: bert.encoder.layer.0.attention.self.query.weight, Shape: torch.Size([768, 768]), Grad: True\n",
            "Param Name: bert.encoder.layer.0.attention.self.query.bias, Shape: torch.Size([768]), Grad: True\n",
            "Param Name: bert.encoder.layer.0.attention.self.key.weight, Shape: torch.Size([768, 768]), Grad: True\n",
            "Param Name: bert.encoder.layer.0.attention.self.key.bias, Shape: torch.Size([768]), Grad: True\n",
            "Param Name: bert.encoder.layer.0.attention.self.value.weight, Shape: torch.Size([768, 768]), Grad: True\n",
            "Param Name: bert.encoder.layer.0.attention.self.value.bias, Shape: torch.Size([768]), Grad: True\n",
            "Param Name: bert.encoder.layer.0.attention.output.dense.weight, Shape: torch.Size([768, 768]), Grad: True\n",
            "Param Name: bert.encoder.layer.0.attention.output.dense.bias, Shape: torch.Size([768]), Grad: True\n",
            "Param Name: bert.encoder.layer.0.attention.output.LayerNorm.weight, Shape: torch.Size([768]), Grad: True\n",
            "Param Name: bert.encoder.layer.0.attention.output.LayerNorm.bias, Shape: torch.Size([768]), Grad: True\n",
            "Param Name: bert.encoder.layer.0.intermediate.dense.weight, Shape: torch.Size([3072, 768]), Grad: True\n",
            "Param Name: bert.encoder.layer.0.intermediate.dense.bias, Shape: torch.Size([3072]), Grad: True\n",
            "Param Name: bert.encoder.layer.0.output.dense.weight, Shape: torch.Size([768, 3072]), Grad: True\n",
            "Param Name: bert.encoder.layer.0.output.dense.bias, Shape: torch.Size([768]), Grad: True\n",
            "Param Name: bert.encoder.layer.0.output.LayerNorm.weight, Shape: torch.Size([768]), Grad: True\n",
            "Param Name: bert.encoder.layer.0.output.LayerNorm.bias, Shape: torch.Size([768]), Grad: True\n",
            "Param Name: bert.encoder.layer.1.attention.self.query.weight, Shape: torch.Size([768, 768]), Grad: True\n",
            "Param Name: bert.encoder.layer.1.attention.self.query.bias, Shape: torch.Size([768]), Grad: True\n",
            "Param Name: bert.encoder.layer.1.attention.self.key.weight, Shape: torch.Size([768, 768]), Grad: True\n",
            "Param Name: bert.encoder.layer.1.attention.self.key.bias, Shape: torch.Size([768]), Grad: True\n",
            "Param Name: bert.encoder.layer.1.attention.self.value.weight, Shape: torch.Size([768, 768]), Grad: True\n",
            "Param Name: bert.encoder.layer.1.attention.self.value.bias, Shape: torch.Size([768]), Grad: True\n",
            "Param Name: bert.encoder.layer.1.attention.output.dense.weight, Shape: torch.Size([768, 768]), Grad: True\n",
            "Param Name: bert.encoder.layer.1.attention.output.dense.bias, Shape: torch.Size([768]), Grad: True\n",
            "Param Name: bert.encoder.layer.1.attention.output.LayerNorm.weight, Shape: torch.Size([768]), Grad: True\n",
            "Param Name: bert.encoder.layer.1.attention.output.LayerNorm.bias, Shape: torch.Size([768]), Grad: True\n",
            "Param Name: bert.encoder.layer.1.intermediate.dense.weight, Shape: torch.Size([3072, 768]), Grad: True\n",
            "Param Name: bert.encoder.layer.1.intermediate.dense.bias, Shape: torch.Size([3072]), Grad: True\n",
            "Param Name: bert.encoder.layer.1.output.dense.weight, Shape: torch.Size([768, 3072]), Grad: True\n",
            "Param Name: bert.encoder.layer.1.output.dense.bias, Shape: torch.Size([768]), Grad: True\n",
            "Param Name: bert.encoder.layer.1.output.LayerNorm.weight, Shape: torch.Size([768]), Grad: True\n",
            "Param Name: bert.encoder.layer.1.output.LayerNorm.bias, Shape: torch.Size([768]), Grad: True\n",
            "Param Name: bert.encoder.layer.2.attention.self.query.weight, Shape: torch.Size([768, 768]), Grad: True\n",
            "Param Name: bert.encoder.layer.2.attention.self.query.bias, Shape: torch.Size([768]), Grad: True\n",
            "Param Name: bert.encoder.layer.2.attention.self.key.weight, Shape: torch.Size([768, 768]), Grad: True\n",
            "Param Name: bert.encoder.layer.2.attention.self.key.bias, Shape: torch.Size([768]), Grad: True\n",
            "Param Name: bert.encoder.layer.2.attention.self.value.weight, Shape: torch.Size([768, 768]), Grad: True\n",
            "Param Name: bert.encoder.layer.2.attention.self.value.bias, Shape: torch.Size([768]), Grad: True\n",
            "Param Name: bert.encoder.layer.2.attention.output.dense.weight, Shape: torch.Size([768, 768]), Grad: True\n",
            "Param Name: bert.encoder.layer.2.attention.output.dense.bias, Shape: torch.Size([768]), Grad: True\n",
            "Param Name: bert.encoder.layer.2.attention.output.LayerNorm.weight, Shape: torch.Size([768]), Grad: True\n",
            "Param Name: bert.encoder.layer.2.attention.output.LayerNorm.bias, Shape: torch.Size([768]), Grad: True\n",
            "Param Name: bert.encoder.layer.2.intermediate.dense.weight, Shape: torch.Size([3072, 768]), Grad: True\n",
            "Param Name: bert.encoder.layer.2.intermediate.dense.bias, Shape: torch.Size([3072]), Grad: True\n",
            "Param Name: bert.encoder.layer.2.output.dense.weight, Shape: torch.Size([768, 3072]), Grad: True\n",
            "Param Name: bert.encoder.layer.2.output.dense.bias, Shape: torch.Size([768]), Grad: True\n",
            "Param Name: bert.encoder.layer.2.output.LayerNorm.weight, Shape: torch.Size([768]), Grad: True\n",
            "Param Name: bert.encoder.layer.2.output.LayerNorm.bias, Shape: torch.Size([768]), Grad: True\n",
            "Param Name: bert.encoder.layer.3.attention.self.query.weight, Shape: torch.Size([768, 768]), Grad: True\n",
            "Param Name: bert.encoder.layer.3.attention.self.query.bias, Shape: torch.Size([768]), Grad: True\n",
            "Param Name: bert.encoder.layer.3.attention.self.key.weight, Shape: torch.Size([768, 768]), Grad: True\n",
            "Param Name: bert.encoder.layer.3.attention.self.key.bias, Shape: torch.Size([768]), Grad: True\n",
            "Param Name: bert.encoder.layer.3.attention.self.value.weight, Shape: torch.Size([768, 768]), Grad: True\n",
            "Param Name: bert.encoder.layer.3.attention.self.value.bias, Shape: torch.Size([768]), Grad: True\n",
            "Param Name: bert.encoder.layer.3.attention.output.dense.weight, Shape: torch.Size([768, 768]), Grad: True\n",
            "Param Name: bert.encoder.layer.3.attention.output.dense.bias, Shape: torch.Size([768]), Grad: True\n",
            "Param Name: bert.encoder.layer.3.attention.output.LayerNorm.weight, Shape: torch.Size([768]), Grad: True\n",
            "Param Name: bert.encoder.layer.3.attention.output.LayerNorm.bias, Shape: torch.Size([768]), Grad: True\n",
            "Param Name: bert.encoder.layer.3.intermediate.dense.weight, Shape: torch.Size([3072, 768]), Grad: True\n",
            "Param Name: bert.encoder.layer.3.intermediate.dense.bias, Shape: torch.Size([3072]), Grad: True\n",
            "Param Name: bert.encoder.layer.3.output.dense.weight, Shape: torch.Size([768, 3072]), Grad: True\n",
            "Param Name: bert.encoder.layer.3.output.dense.bias, Shape: torch.Size([768]), Grad: True\n",
            "Param Name: bert.encoder.layer.3.output.LayerNorm.weight, Shape: torch.Size([768]), Grad: True\n",
            "Param Name: bert.encoder.layer.3.output.LayerNorm.bias, Shape: torch.Size([768]), Grad: True\n",
            "Param Name: bert.encoder.layer.4.attention.self.query.weight, Shape: torch.Size([768, 768]), Grad: True\n",
            "Param Name: bert.encoder.layer.4.attention.self.query.bias, Shape: torch.Size([768]), Grad: True\n",
            "Param Name: bert.encoder.layer.4.attention.self.key.weight, Shape: torch.Size([768, 768]), Grad: True\n",
            "Param Name: bert.encoder.layer.4.attention.self.key.bias, Shape: torch.Size([768]), Grad: True\n",
            "Param Name: bert.encoder.layer.4.attention.self.value.weight, Shape: torch.Size([768, 768]), Grad: True\n",
            "Param Name: bert.encoder.layer.4.attention.self.value.bias, Shape: torch.Size([768]), Grad: True\n",
            "Param Name: bert.encoder.layer.4.attention.output.dense.weight, Shape: torch.Size([768, 768]), Grad: True\n",
            "Param Name: bert.encoder.layer.4.attention.output.dense.bias, Shape: torch.Size([768]), Grad: True\n",
            "Param Name: bert.encoder.layer.4.attention.output.LayerNorm.weight, Shape: torch.Size([768]), Grad: True\n",
            "Param Name: bert.encoder.layer.4.attention.output.LayerNorm.bias, Shape: torch.Size([768]), Grad: True\n",
            "Param Name: bert.encoder.layer.4.intermediate.dense.weight, Shape: torch.Size([3072, 768]), Grad: True\n",
            "Param Name: bert.encoder.layer.4.intermediate.dense.bias, Shape: torch.Size([3072]), Grad: True\n",
            "Param Name: bert.encoder.layer.4.output.dense.weight, Shape: torch.Size([768, 3072]), Grad: True\n",
            "Param Name: bert.encoder.layer.4.output.dense.bias, Shape: torch.Size([768]), Grad: True\n",
            "Param Name: bert.encoder.layer.4.output.LayerNorm.weight, Shape: torch.Size([768]), Grad: True\n",
            "Param Name: bert.encoder.layer.4.output.LayerNorm.bias, Shape: torch.Size([768]), Grad: True\n",
            "Param Name: bert.encoder.layer.5.attention.self.query.weight, Shape: torch.Size([768, 768]), Grad: True\n",
            "Param Name: bert.encoder.layer.5.attention.self.query.bias, Shape: torch.Size([768]), Grad: True\n",
            "Param Name: bert.encoder.layer.5.attention.self.key.weight, Shape: torch.Size([768, 768]), Grad: True\n",
            "Param Name: bert.encoder.layer.5.attention.self.key.bias, Shape: torch.Size([768]), Grad: True\n",
            "Param Name: bert.encoder.layer.5.attention.self.value.weight, Shape: torch.Size([768, 768]), Grad: True\n",
            "Param Name: bert.encoder.layer.5.attention.self.value.bias, Shape: torch.Size([768]), Grad: True\n",
            "Param Name: bert.encoder.layer.5.attention.output.dense.weight, Shape: torch.Size([768, 768]), Grad: True\n",
            "Param Name: bert.encoder.layer.5.attention.output.dense.bias, Shape: torch.Size([768]), Grad: True\n",
            "Param Name: bert.encoder.layer.5.attention.output.LayerNorm.weight, Shape: torch.Size([768]), Grad: True\n",
            "Param Name: bert.encoder.layer.5.attention.output.LayerNorm.bias, Shape: torch.Size([768]), Grad: True\n",
            "Param Name: bert.encoder.layer.5.intermediate.dense.weight, Shape: torch.Size([3072, 768]), Grad: True\n",
            "Param Name: bert.encoder.layer.5.intermediate.dense.bias, Shape: torch.Size([3072]), Grad: True\n",
            "Param Name: bert.encoder.layer.5.output.dense.weight, Shape: torch.Size([768, 3072]), Grad: True\n",
            "Param Name: bert.encoder.layer.5.output.dense.bias, Shape: torch.Size([768]), Grad: True\n",
            "Param Name: bert.encoder.layer.5.output.LayerNorm.weight, Shape: torch.Size([768]), Grad: True\n",
            "Param Name: bert.encoder.layer.5.output.LayerNorm.bias, Shape: torch.Size([768]), Grad: True\n",
            "Param Name: bert.encoder.layer.6.attention.self.query.weight, Shape: torch.Size([768, 768]), Grad: True\n",
            "Param Name: bert.encoder.layer.6.attention.self.query.bias, Shape: torch.Size([768]), Grad: True\n",
            "Param Name: bert.encoder.layer.6.attention.self.key.weight, Shape: torch.Size([768, 768]), Grad: True\n",
            "Param Name: bert.encoder.layer.6.attention.self.key.bias, Shape: torch.Size([768]), Grad: True\n",
            "Param Name: bert.encoder.layer.6.attention.self.value.weight, Shape: torch.Size([768, 768]), Grad: True\n",
            "Param Name: bert.encoder.layer.6.attention.self.value.bias, Shape: torch.Size([768]), Grad: True\n",
            "Param Name: bert.encoder.layer.6.attention.output.dense.weight, Shape: torch.Size([768, 768]), Grad: True\n",
            "Param Name: bert.encoder.layer.6.attention.output.dense.bias, Shape: torch.Size([768]), Grad: True\n",
            "Param Name: bert.encoder.layer.6.attention.output.LayerNorm.weight, Shape: torch.Size([768]), Grad: True\n",
            "Param Name: bert.encoder.layer.6.attention.output.LayerNorm.bias, Shape: torch.Size([768]), Grad: True\n",
            "Param Name: bert.encoder.layer.6.intermediate.dense.weight, Shape: torch.Size([3072, 768]), Grad: True\n",
            "Param Name: bert.encoder.layer.6.intermediate.dense.bias, Shape: torch.Size([3072]), Grad: True\n",
            "Param Name: bert.encoder.layer.6.output.dense.weight, Shape: torch.Size([768, 3072]), Grad: True\n",
            "Param Name: bert.encoder.layer.6.output.dense.bias, Shape: torch.Size([768]), Grad: True\n",
            "Param Name: bert.encoder.layer.6.output.LayerNorm.weight, Shape: torch.Size([768]), Grad: True\n",
            "Param Name: bert.encoder.layer.6.output.LayerNorm.bias, Shape: torch.Size([768]), Grad: True\n",
            "Param Name: bert.encoder.layer.7.attention.self.query.weight, Shape: torch.Size([768, 768]), Grad: True\n",
            "Param Name: bert.encoder.layer.7.attention.self.query.bias, Shape: torch.Size([768]), Grad: True\n",
            "Param Name: bert.encoder.layer.7.attention.self.key.weight, Shape: torch.Size([768, 768]), Grad: True\n",
            "Param Name: bert.encoder.layer.7.attention.self.key.bias, Shape: torch.Size([768]), Grad: True\n",
            "Param Name: bert.encoder.layer.7.attention.self.value.weight, Shape: torch.Size([768, 768]), Grad: True\n",
            "Param Name: bert.encoder.layer.7.attention.self.value.bias, Shape: torch.Size([768]), Grad: True\n",
            "Param Name: bert.encoder.layer.7.attention.output.dense.weight, Shape: torch.Size([768, 768]), Grad: True\n",
            "Param Name: bert.encoder.layer.7.attention.output.dense.bias, Shape: torch.Size([768]), Grad: True\n",
            "Param Name: bert.encoder.layer.7.attention.output.LayerNorm.weight, Shape: torch.Size([768]), Grad: True\n",
            "Param Name: bert.encoder.layer.7.attention.output.LayerNorm.bias, Shape: torch.Size([768]), Grad: True\n",
            "Param Name: bert.encoder.layer.7.intermediate.dense.weight, Shape: torch.Size([3072, 768]), Grad: True\n",
            "Param Name: bert.encoder.layer.7.intermediate.dense.bias, Shape: torch.Size([3072]), Grad: True\n",
            "Param Name: bert.encoder.layer.7.output.dense.weight, Shape: torch.Size([768, 3072]), Grad: True\n",
            "Param Name: bert.encoder.layer.7.output.dense.bias, Shape: torch.Size([768]), Grad: True\n",
            "Param Name: bert.encoder.layer.7.output.LayerNorm.weight, Shape: torch.Size([768]), Grad: True\n",
            "Param Name: bert.encoder.layer.7.output.LayerNorm.bias, Shape: torch.Size([768]), Grad: True\n",
            "Param Name: bert.encoder.layer.8.attention.self.query.weight, Shape: torch.Size([768, 768]), Grad: True\n",
            "Param Name: bert.encoder.layer.8.attention.self.query.bias, Shape: torch.Size([768]), Grad: True\n",
            "Param Name: bert.encoder.layer.8.attention.self.key.weight, Shape: torch.Size([768, 768]), Grad: True\n",
            "Param Name: bert.encoder.layer.8.attention.self.key.bias, Shape: torch.Size([768]), Grad: True\n",
            "Param Name: bert.encoder.layer.8.attention.self.value.weight, Shape: torch.Size([768, 768]), Grad: True\n",
            "Param Name: bert.encoder.layer.8.attention.self.value.bias, Shape: torch.Size([768]), Grad: True\n",
            "Param Name: bert.encoder.layer.8.attention.output.dense.weight, Shape: torch.Size([768, 768]), Grad: True\n",
            "Param Name: bert.encoder.layer.8.attention.output.dense.bias, Shape: torch.Size([768]), Grad: True\n",
            "Param Name: bert.encoder.layer.8.attention.output.LayerNorm.weight, Shape: torch.Size([768]), Grad: True\n",
            "Param Name: bert.encoder.layer.8.attention.output.LayerNorm.bias, Shape: torch.Size([768]), Grad: True\n",
            "Param Name: bert.encoder.layer.8.intermediate.dense.weight, Shape: torch.Size([3072, 768]), Grad: True\n",
            "Param Name: bert.encoder.layer.8.intermediate.dense.bias, Shape: torch.Size([3072]), Grad: True\n",
            "Param Name: bert.encoder.layer.8.output.dense.weight, Shape: torch.Size([768, 3072]), Grad: True\n",
            "Param Name: bert.encoder.layer.8.output.dense.bias, Shape: torch.Size([768]), Grad: True\n",
            "Param Name: bert.encoder.layer.8.output.LayerNorm.weight, Shape: torch.Size([768]), Grad: True\n",
            "Param Name: bert.encoder.layer.8.output.LayerNorm.bias, Shape: torch.Size([768]), Grad: True\n",
            "Param Name: bert.encoder.layer.9.attention.self.query.weight, Shape: torch.Size([768, 768]), Grad: True\n",
            "Param Name: bert.encoder.layer.9.attention.self.query.bias, Shape: torch.Size([768]), Grad: True\n",
            "Param Name: bert.encoder.layer.9.attention.self.key.weight, Shape: torch.Size([768, 768]), Grad: True\n",
            "Param Name: bert.encoder.layer.9.attention.self.key.bias, Shape: torch.Size([768]), Grad: True\n",
            "Param Name: bert.encoder.layer.9.attention.self.value.weight, Shape: torch.Size([768, 768]), Grad: True\n",
            "Param Name: bert.encoder.layer.9.attention.self.value.bias, Shape: torch.Size([768]), Grad: True\n",
            "Param Name: bert.encoder.layer.9.attention.output.dense.weight, Shape: torch.Size([768, 768]), Grad: True\n",
            "Param Name: bert.encoder.layer.9.attention.output.dense.bias, Shape: torch.Size([768]), Grad: True\n",
            "Param Name: bert.encoder.layer.9.attention.output.LayerNorm.weight, Shape: torch.Size([768]), Grad: True\n",
            "Param Name: bert.encoder.layer.9.attention.output.LayerNorm.bias, Shape: torch.Size([768]), Grad: True\n",
            "Param Name: bert.encoder.layer.9.intermediate.dense.weight, Shape: torch.Size([3072, 768]), Grad: True\n",
            "Param Name: bert.encoder.layer.9.intermediate.dense.bias, Shape: torch.Size([3072]), Grad: True\n",
            "Param Name: bert.encoder.layer.9.output.dense.weight, Shape: torch.Size([768, 3072]), Grad: True\n",
            "Param Name: bert.encoder.layer.9.output.dense.bias, Shape: torch.Size([768]), Grad: True\n",
            "Param Name: bert.encoder.layer.9.output.LayerNorm.weight, Shape: torch.Size([768]), Grad: True\n",
            "Param Name: bert.encoder.layer.9.output.LayerNorm.bias, Shape: torch.Size([768]), Grad: True\n",
            "Param Name: bert.encoder.layer.10.attention.self.query.weight, Shape: torch.Size([768, 768]), Grad: True\n",
            "Param Name: bert.encoder.layer.10.attention.self.query.bias, Shape: torch.Size([768]), Grad: True\n",
            "Param Name: bert.encoder.layer.10.attention.self.key.weight, Shape: torch.Size([768, 768]), Grad: True\n",
            "Param Name: bert.encoder.layer.10.attention.self.key.bias, Shape: torch.Size([768]), Grad: True\n",
            "Param Name: bert.encoder.layer.10.attention.self.value.weight, Shape: torch.Size([768, 768]), Grad: True\n",
            "Param Name: bert.encoder.layer.10.attention.self.value.bias, Shape: torch.Size([768]), Grad: True\n",
            "Param Name: bert.encoder.layer.10.attention.output.dense.weight, Shape: torch.Size([768, 768]), Grad: True\n",
            "Param Name: bert.encoder.layer.10.attention.output.dense.bias, Shape: torch.Size([768]), Grad: True\n",
            "Param Name: bert.encoder.layer.10.attention.output.LayerNorm.weight, Shape: torch.Size([768]), Grad: True\n",
            "Param Name: bert.encoder.layer.10.attention.output.LayerNorm.bias, Shape: torch.Size([768]), Grad: True\n",
            "Param Name: bert.encoder.layer.10.intermediate.dense.weight, Shape: torch.Size([3072, 768]), Grad: True\n",
            "Param Name: bert.encoder.layer.10.intermediate.dense.bias, Shape: torch.Size([3072]), Grad: True\n",
            "Param Name: bert.encoder.layer.10.output.dense.weight, Shape: torch.Size([768, 3072]), Grad: True\n",
            "Param Name: bert.encoder.layer.10.output.dense.bias, Shape: torch.Size([768]), Grad: True\n",
            "Param Name: bert.encoder.layer.10.output.LayerNorm.weight, Shape: torch.Size([768]), Grad: True\n",
            "Param Name: bert.encoder.layer.10.output.LayerNorm.bias, Shape: torch.Size([768]), Grad: True\n",
            "Param Name: bert.encoder.layer.11.attention.self.query.weight, Shape: torch.Size([768, 768]), Grad: True\n",
            "Param Name: bert.encoder.layer.11.attention.self.query.bias, Shape: torch.Size([768]), Grad: True\n",
            "Param Name: bert.encoder.layer.11.attention.self.key.weight, Shape: torch.Size([768, 768]), Grad: True\n",
            "Param Name: bert.encoder.layer.11.attention.self.key.bias, Shape: torch.Size([768]), Grad: True\n",
            "Param Name: bert.encoder.layer.11.attention.self.value.weight, Shape: torch.Size([768, 768]), Grad: True\n",
            "Param Name: bert.encoder.layer.11.attention.self.value.bias, Shape: torch.Size([768]), Grad: True\n",
            "Param Name: bert.encoder.layer.11.attention.output.dense.weight, Shape: torch.Size([768, 768]), Grad: True\n",
            "Param Name: bert.encoder.layer.11.attention.output.dense.bias, Shape: torch.Size([768]), Grad: True\n",
            "Param Name: bert.encoder.layer.11.attention.output.LayerNorm.weight, Shape: torch.Size([768]), Grad: True\n",
            "Param Name: bert.encoder.layer.11.attention.output.LayerNorm.bias, Shape: torch.Size([768]), Grad: True\n",
            "Param Name: bert.encoder.layer.11.intermediate.dense.weight, Shape: torch.Size([3072, 768]), Grad: True\n",
            "Param Name: bert.encoder.layer.11.intermediate.dense.bias, Shape: torch.Size([3072]), Grad: True\n",
            "Param Name: bert.encoder.layer.11.output.dense.weight, Shape: torch.Size([768, 3072]), Grad: True\n",
            "Param Name: bert.encoder.layer.11.output.dense.bias, Shape: torch.Size([768]), Grad: True\n",
            "Param Name: bert.encoder.layer.11.output.LayerNorm.weight, Shape: torch.Size([768]), Grad: True\n",
            "Param Name: bert.encoder.layer.11.output.LayerNorm.bias, Shape: torch.Size([768]), Grad: True\n",
            "Param Name: bert.pooler.dense.weight, Shape: torch.Size([768, 768]), Grad: True\n",
            "Param Name: bert.pooler.dense.bias, Shape: torch.Size([768]), Grad: True\n",
            "Param Name: classifier.0.weight, Shape: torch.Size([32, 768]), Grad: True\n",
            "Param Name: classifier.0.bias, Shape: torch.Size([32]), Grad: True\n",
            "Param Name: classifier.3.weight, Shape: torch.Size([2, 32]), Grad: True\n",
            "Param Name: classifier.3.bias, Shape: torch.Size([2]), Grad: True\n"
          ]
        }
      ],
      "source": [
        "# model_freeze 모델의 모든 파라미터를 출력해보고 아래 질문에 답해 보자\n",
        "\n",
        "for name, param in model_freeze.named_parameters():\n",
        "    if param.requires_grad:\n",
        "        print(f'Param Name: {name}, Shape: {param.shape}, Grad: {param.requires_grad}')"
      ]
    },
    {
      "cell_type": "markdown",
      "metadata": {
        "id": "KloNNAKI5Q3r"
      },
      "source": [
        "### `auto_grad` 개념 및 모델 구조 복습을 위해 다음 항목에 답해 보자\n",
        "- `bert.encoder.layer.0.attention.self.query.weight` 텐서의 gradient는 True인 상태인가?\n",
        "> True\n",
        "- `classifier.0.weight` 텐서의 shape은? \n",
        "> [32, 768]\n",
        "- `classifier.0.weight` 텐서는 freeze 상태인가 ? \n",
        "> No\n",
        "- `classifier.0.weight` 텐서의 gradient 값은 무엇인가?\n",
        "> None"
      ]
    },
    {
      "cell_type": "code",
      "source": [
        "for name, param in model_freeze.named_parameters():\n",
        "    if name == \"classifier.0.weight\":\n",
        "        print(param.grad)"
      ],
      "metadata": {
        "colab": {
          "base_uri": "https://localhost:8080/"
        },
        "id": "sf2jCAu1MHwS",
        "outputId": "8e89cdab-7ed8-47fd-b4ea-804f225f508a"
      },
      "execution_count": 18,
      "outputs": [
        {
          "output_type": "stream",
          "name": "stdout",
          "text": [
            "None\n"
          ]
        }
      ]
    },
    {
      "cell_type": "markdown",
      "metadata": {
        "id": "4iIrHg1xUFxP"
      },
      "source": [
        "### 위 모델 (`model_freeze`)의 모든 파라미터의 gradient를 freeze 해보자"
      ]
    },
    {
      "cell_type": "code",
      "execution_count": 19,
      "metadata": {
        "ExecuteTime": {
          "end_time": "2022-01-31T13:49:26.820569Z",
          "start_time": "2022-01-31T13:49:26.816511Z"
        },
        "id": "sHkaFgC8UFxP"
      },
      "outputs": [],
      "source": [
        "# 모든 파라미터의 gradient를 freeze 해보고 제대로 변경되었는지 \b확인하기 위해 모델의 모든 파라미터를 출력해보자.\n",
        "\n",
        "for param in model_freeze.parameters():\n",
        "    param.requires_grad = False"
      ]
    },
    {
      "cell_type": "code",
      "source": [
        "# Validation\n",
        "for name, param in model_freeze.named_parameters():\n",
        "    print(f\"Param Name: {name}, Shape: {param.shape}, Grad: {param.requires_grad}\")"
      ],
      "metadata": {
        "colab": {
          "base_uri": "https://localhost:8080/"
        },
        "id": "-2_3Cfb-MT6O",
        "outputId": "11e7443e-3fb7-4e4c-d891-35d103768797"
      },
      "execution_count": 20,
      "outputs": [
        {
          "output_type": "stream",
          "name": "stdout",
          "text": [
            "Param Name: bert.embeddings.word_embeddings.weight, Shape: torch.Size([32000, 768]), Grad: False\n",
            "Param Name: bert.embeddings.position_embeddings.weight, Shape: torch.Size([512, 768]), Grad: False\n",
            "Param Name: bert.embeddings.token_type_embeddings.weight, Shape: torch.Size([2, 768]), Grad: False\n",
            "Param Name: bert.embeddings.LayerNorm.weight, Shape: torch.Size([768]), Grad: False\n",
            "Param Name: bert.embeddings.LayerNorm.bias, Shape: torch.Size([768]), Grad: False\n",
            "Param Name: bert.encoder.layer.0.attention.self.query.weight, Shape: torch.Size([768, 768]), Grad: False\n",
            "Param Name: bert.encoder.layer.0.attention.self.query.bias, Shape: torch.Size([768]), Grad: False\n",
            "Param Name: bert.encoder.layer.0.attention.self.key.weight, Shape: torch.Size([768, 768]), Grad: False\n",
            "Param Name: bert.encoder.layer.0.attention.self.key.bias, Shape: torch.Size([768]), Grad: False\n",
            "Param Name: bert.encoder.layer.0.attention.self.value.weight, Shape: torch.Size([768, 768]), Grad: False\n",
            "Param Name: bert.encoder.layer.0.attention.self.value.bias, Shape: torch.Size([768]), Grad: False\n",
            "Param Name: bert.encoder.layer.0.attention.output.dense.weight, Shape: torch.Size([768, 768]), Grad: False\n",
            "Param Name: bert.encoder.layer.0.attention.output.dense.bias, Shape: torch.Size([768]), Grad: False\n",
            "Param Name: bert.encoder.layer.0.attention.output.LayerNorm.weight, Shape: torch.Size([768]), Grad: False\n",
            "Param Name: bert.encoder.layer.0.attention.output.LayerNorm.bias, Shape: torch.Size([768]), Grad: False\n",
            "Param Name: bert.encoder.layer.0.intermediate.dense.weight, Shape: torch.Size([3072, 768]), Grad: False\n",
            "Param Name: bert.encoder.layer.0.intermediate.dense.bias, Shape: torch.Size([3072]), Grad: False\n",
            "Param Name: bert.encoder.layer.0.output.dense.weight, Shape: torch.Size([768, 3072]), Grad: False\n",
            "Param Name: bert.encoder.layer.0.output.dense.bias, Shape: torch.Size([768]), Grad: False\n",
            "Param Name: bert.encoder.layer.0.output.LayerNorm.weight, Shape: torch.Size([768]), Grad: False\n",
            "Param Name: bert.encoder.layer.0.output.LayerNorm.bias, Shape: torch.Size([768]), Grad: False\n",
            "Param Name: bert.encoder.layer.1.attention.self.query.weight, Shape: torch.Size([768, 768]), Grad: False\n",
            "Param Name: bert.encoder.layer.1.attention.self.query.bias, Shape: torch.Size([768]), Grad: False\n",
            "Param Name: bert.encoder.layer.1.attention.self.key.weight, Shape: torch.Size([768, 768]), Grad: False\n",
            "Param Name: bert.encoder.layer.1.attention.self.key.bias, Shape: torch.Size([768]), Grad: False\n",
            "Param Name: bert.encoder.layer.1.attention.self.value.weight, Shape: torch.Size([768, 768]), Grad: False\n",
            "Param Name: bert.encoder.layer.1.attention.self.value.bias, Shape: torch.Size([768]), Grad: False\n",
            "Param Name: bert.encoder.layer.1.attention.output.dense.weight, Shape: torch.Size([768, 768]), Grad: False\n",
            "Param Name: bert.encoder.layer.1.attention.output.dense.bias, Shape: torch.Size([768]), Grad: False\n",
            "Param Name: bert.encoder.layer.1.attention.output.LayerNorm.weight, Shape: torch.Size([768]), Grad: False\n",
            "Param Name: bert.encoder.layer.1.attention.output.LayerNorm.bias, Shape: torch.Size([768]), Grad: False\n",
            "Param Name: bert.encoder.layer.1.intermediate.dense.weight, Shape: torch.Size([3072, 768]), Grad: False\n",
            "Param Name: bert.encoder.layer.1.intermediate.dense.bias, Shape: torch.Size([3072]), Grad: False\n",
            "Param Name: bert.encoder.layer.1.output.dense.weight, Shape: torch.Size([768, 3072]), Grad: False\n",
            "Param Name: bert.encoder.layer.1.output.dense.bias, Shape: torch.Size([768]), Grad: False\n",
            "Param Name: bert.encoder.layer.1.output.LayerNorm.weight, Shape: torch.Size([768]), Grad: False\n",
            "Param Name: bert.encoder.layer.1.output.LayerNorm.bias, Shape: torch.Size([768]), Grad: False\n",
            "Param Name: bert.encoder.layer.2.attention.self.query.weight, Shape: torch.Size([768, 768]), Grad: False\n",
            "Param Name: bert.encoder.layer.2.attention.self.query.bias, Shape: torch.Size([768]), Grad: False\n",
            "Param Name: bert.encoder.layer.2.attention.self.key.weight, Shape: torch.Size([768, 768]), Grad: False\n",
            "Param Name: bert.encoder.layer.2.attention.self.key.bias, Shape: torch.Size([768]), Grad: False\n",
            "Param Name: bert.encoder.layer.2.attention.self.value.weight, Shape: torch.Size([768, 768]), Grad: False\n",
            "Param Name: bert.encoder.layer.2.attention.self.value.bias, Shape: torch.Size([768]), Grad: False\n",
            "Param Name: bert.encoder.layer.2.attention.output.dense.weight, Shape: torch.Size([768, 768]), Grad: False\n",
            "Param Name: bert.encoder.layer.2.attention.output.dense.bias, Shape: torch.Size([768]), Grad: False\n",
            "Param Name: bert.encoder.layer.2.attention.output.LayerNorm.weight, Shape: torch.Size([768]), Grad: False\n",
            "Param Name: bert.encoder.layer.2.attention.output.LayerNorm.bias, Shape: torch.Size([768]), Grad: False\n",
            "Param Name: bert.encoder.layer.2.intermediate.dense.weight, Shape: torch.Size([3072, 768]), Grad: False\n",
            "Param Name: bert.encoder.layer.2.intermediate.dense.bias, Shape: torch.Size([3072]), Grad: False\n",
            "Param Name: bert.encoder.layer.2.output.dense.weight, Shape: torch.Size([768, 3072]), Grad: False\n",
            "Param Name: bert.encoder.layer.2.output.dense.bias, Shape: torch.Size([768]), Grad: False\n",
            "Param Name: bert.encoder.layer.2.output.LayerNorm.weight, Shape: torch.Size([768]), Grad: False\n",
            "Param Name: bert.encoder.layer.2.output.LayerNorm.bias, Shape: torch.Size([768]), Grad: False\n",
            "Param Name: bert.encoder.layer.3.attention.self.query.weight, Shape: torch.Size([768, 768]), Grad: False\n",
            "Param Name: bert.encoder.layer.3.attention.self.query.bias, Shape: torch.Size([768]), Grad: False\n",
            "Param Name: bert.encoder.layer.3.attention.self.key.weight, Shape: torch.Size([768, 768]), Grad: False\n",
            "Param Name: bert.encoder.layer.3.attention.self.key.bias, Shape: torch.Size([768]), Grad: False\n",
            "Param Name: bert.encoder.layer.3.attention.self.value.weight, Shape: torch.Size([768, 768]), Grad: False\n",
            "Param Name: bert.encoder.layer.3.attention.self.value.bias, Shape: torch.Size([768]), Grad: False\n",
            "Param Name: bert.encoder.layer.3.attention.output.dense.weight, Shape: torch.Size([768, 768]), Grad: False\n",
            "Param Name: bert.encoder.layer.3.attention.output.dense.bias, Shape: torch.Size([768]), Grad: False\n",
            "Param Name: bert.encoder.layer.3.attention.output.LayerNorm.weight, Shape: torch.Size([768]), Grad: False\n",
            "Param Name: bert.encoder.layer.3.attention.output.LayerNorm.bias, Shape: torch.Size([768]), Grad: False\n",
            "Param Name: bert.encoder.layer.3.intermediate.dense.weight, Shape: torch.Size([3072, 768]), Grad: False\n",
            "Param Name: bert.encoder.layer.3.intermediate.dense.bias, Shape: torch.Size([3072]), Grad: False\n",
            "Param Name: bert.encoder.layer.3.output.dense.weight, Shape: torch.Size([768, 3072]), Grad: False\n",
            "Param Name: bert.encoder.layer.3.output.dense.bias, Shape: torch.Size([768]), Grad: False\n",
            "Param Name: bert.encoder.layer.3.output.LayerNorm.weight, Shape: torch.Size([768]), Grad: False\n",
            "Param Name: bert.encoder.layer.3.output.LayerNorm.bias, Shape: torch.Size([768]), Grad: False\n",
            "Param Name: bert.encoder.layer.4.attention.self.query.weight, Shape: torch.Size([768, 768]), Grad: False\n",
            "Param Name: bert.encoder.layer.4.attention.self.query.bias, Shape: torch.Size([768]), Grad: False\n",
            "Param Name: bert.encoder.layer.4.attention.self.key.weight, Shape: torch.Size([768, 768]), Grad: False\n",
            "Param Name: bert.encoder.layer.4.attention.self.key.bias, Shape: torch.Size([768]), Grad: False\n",
            "Param Name: bert.encoder.layer.4.attention.self.value.weight, Shape: torch.Size([768, 768]), Grad: False\n",
            "Param Name: bert.encoder.layer.4.attention.self.value.bias, Shape: torch.Size([768]), Grad: False\n",
            "Param Name: bert.encoder.layer.4.attention.output.dense.weight, Shape: torch.Size([768, 768]), Grad: False\n",
            "Param Name: bert.encoder.layer.4.attention.output.dense.bias, Shape: torch.Size([768]), Grad: False\n",
            "Param Name: bert.encoder.layer.4.attention.output.LayerNorm.weight, Shape: torch.Size([768]), Grad: False\n",
            "Param Name: bert.encoder.layer.4.attention.output.LayerNorm.bias, Shape: torch.Size([768]), Grad: False\n",
            "Param Name: bert.encoder.layer.4.intermediate.dense.weight, Shape: torch.Size([3072, 768]), Grad: False\n",
            "Param Name: bert.encoder.layer.4.intermediate.dense.bias, Shape: torch.Size([3072]), Grad: False\n",
            "Param Name: bert.encoder.layer.4.output.dense.weight, Shape: torch.Size([768, 3072]), Grad: False\n",
            "Param Name: bert.encoder.layer.4.output.dense.bias, Shape: torch.Size([768]), Grad: False\n",
            "Param Name: bert.encoder.layer.4.output.LayerNorm.weight, Shape: torch.Size([768]), Grad: False\n",
            "Param Name: bert.encoder.layer.4.output.LayerNorm.bias, Shape: torch.Size([768]), Grad: False\n",
            "Param Name: bert.encoder.layer.5.attention.self.query.weight, Shape: torch.Size([768, 768]), Grad: False\n",
            "Param Name: bert.encoder.layer.5.attention.self.query.bias, Shape: torch.Size([768]), Grad: False\n",
            "Param Name: bert.encoder.layer.5.attention.self.key.weight, Shape: torch.Size([768, 768]), Grad: False\n",
            "Param Name: bert.encoder.layer.5.attention.self.key.bias, Shape: torch.Size([768]), Grad: False\n",
            "Param Name: bert.encoder.layer.5.attention.self.value.weight, Shape: torch.Size([768, 768]), Grad: False\n",
            "Param Name: bert.encoder.layer.5.attention.self.value.bias, Shape: torch.Size([768]), Grad: False\n",
            "Param Name: bert.encoder.layer.5.attention.output.dense.weight, Shape: torch.Size([768, 768]), Grad: False\n",
            "Param Name: bert.encoder.layer.5.attention.output.dense.bias, Shape: torch.Size([768]), Grad: False\n",
            "Param Name: bert.encoder.layer.5.attention.output.LayerNorm.weight, Shape: torch.Size([768]), Grad: False\n",
            "Param Name: bert.encoder.layer.5.attention.output.LayerNorm.bias, Shape: torch.Size([768]), Grad: False\n",
            "Param Name: bert.encoder.layer.5.intermediate.dense.weight, Shape: torch.Size([3072, 768]), Grad: False\n",
            "Param Name: bert.encoder.layer.5.intermediate.dense.bias, Shape: torch.Size([3072]), Grad: False\n",
            "Param Name: bert.encoder.layer.5.output.dense.weight, Shape: torch.Size([768, 3072]), Grad: False\n",
            "Param Name: bert.encoder.layer.5.output.dense.bias, Shape: torch.Size([768]), Grad: False\n",
            "Param Name: bert.encoder.layer.5.output.LayerNorm.weight, Shape: torch.Size([768]), Grad: False\n",
            "Param Name: bert.encoder.layer.5.output.LayerNorm.bias, Shape: torch.Size([768]), Grad: False\n",
            "Param Name: bert.encoder.layer.6.attention.self.query.weight, Shape: torch.Size([768, 768]), Grad: False\n",
            "Param Name: bert.encoder.layer.6.attention.self.query.bias, Shape: torch.Size([768]), Grad: False\n",
            "Param Name: bert.encoder.layer.6.attention.self.key.weight, Shape: torch.Size([768, 768]), Grad: False\n",
            "Param Name: bert.encoder.layer.6.attention.self.key.bias, Shape: torch.Size([768]), Grad: False\n",
            "Param Name: bert.encoder.layer.6.attention.self.value.weight, Shape: torch.Size([768, 768]), Grad: False\n",
            "Param Name: bert.encoder.layer.6.attention.self.value.bias, Shape: torch.Size([768]), Grad: False\n",
            "Param Name: bert.encoder.layer.6.attention.output.dense.weight, Shape: torch.Size([768, 768]), Grad: False\n",
            "Param Name: bert.encoder.layer.6.attention.output.dense.bias, Shape: torch.Size([768]), Grad: False\n",
            "Param Name: bert.encoder.layer.6.attention.output.LayerNorm.weight, Shape: torch.Size([768]), Grad: False\n",
            "Param Name: bert.encoder.layer.6.attention.output.LayerNorm.bias, Shape: torch.Size([768]), Grad: False\n",
            "Param Name: bert.encoder.layer.6.intermediate.dense.weight, Shape: torch.Size([3072, 768]), Grad: False\n",
            "Param Name: bert.encoder.layer.6.intermediate.dense.bias, Shape: torch.Size([3072]), Grad: False\n",
            "Param Name: bert.encoder.layer.6.output.dense.weight, Shape: torch.Size([768, 3072]), Grad: False\n",
            "Param Name: bert.encoder.layer.6.output.dense.bias, Shape: torch.Size([768]), Grad: False\n",
            "Param Name: bert.encoder.layer.6.output.LayerNorm.weight, Shape: torch.Size([768]), Grad: False\n",
            "Param Name: bert.encoder.layer.6.output.LayerNorm.bias, Shape: torch.Size([768]), Grad: False\n",
            "Param Name: bert.encoder.layer.7.attention.self.query.weight, Shape: torch.Size([768, 768]), Grad: False\n",
            "Param Name: bert.encoder.layer.7.attention.self.query.bias, Shape: torch.Size([768]), Grad: False\n",
            "Param Name: bert.encoder.layer.7.attention.self.key.weight, Shape: torch.Size([768, 768]), Grad: False\n",
            "Param Name: bert.encoder.layer.7.attention.self.key.bias, Shape: torch.Size([768]), Grad: False\n",
            "Param Name: bert.encoder.layer.7.attention.self.value.weight, Shape: torch.Size([768, 768]), Grad: False\n",
            "Param Name: bert.encoder.layer.7.attention.self.value.bias, Shape: torch.Size([768]), Grad: False\n",
            "Param Name: bert.encoder.layer.7.attention.output.dense.weight, Shape: torch.Size([768, 768]), Grad: False\n",
            "Param Name: bert.encoder.layer.7.attention.output.dense.bias, Shape: torch.Size([768]), Grad: False\n",
            "Param Name: bert.encoder.layer.7.attention.output.LayerNorm.weight, Shape: torch.Size([768]), Grad: False\n",
            "Param Name: bert.encoder.layer.7.attention.output.LayerNorm.bias, Shape: torch.Size([768]), Grad: False\n",
            "Param Name: bert.encoder.layer.7.intermediate.dense.weight, Shape: torch.Size([3072, 768]), Grad: False\n",
            "Param Name: bert.encoder.layer.7.intermediate.dense.bias, Shape: torch.Size([3072]), Grad: False\n",
            "Param Name: bert.encoder.layer.7.output.dense.weight, Shape: torch.Size([768, 3072]), Grad: False\n",
            "Param Name: bert.encoder.layer.7.output.dense.bias, Shape: torch.Size([768]), Grad: False\n",
            "Param Name: bert.encoder.layer.7.output.LayerNorm.weight, Shape: torch.Size([768]), Grad: False\n",
            "Param Name: bert.encoder.layer.7.output.LayerNorm.bias, Shape: torch.Size([768]), Grad: False\n",
            "Param Name: bert.encoder.layer.8.attention.self.query.weight, Shape: torch.Size([768, 768]), Grad: False\n",
            "Param Name: bert.encoder.layer.8.attention.self.query.bias, Shape: torch.Size([768]), Grad: False\n",
            "Param Name: bert.encoder.layer.8.attention.self.key.weight, Shape: torch.Size([768, 768]), Grad: False\n",
            "Param Name: bert.encoder.layer.8.attention.self.key.bias, Shape: torch.Size([768]), Grad: False\n",
            "Param Name: bert.encoder.layer.8.attention.self.value.weight, Shape: torch.Size([768, 768]), Grad: False\n",
            "Param Name: bert.encoder.layer.8.attention.self.value.bias, Shape: torch.Size([768]), Grad: False\n",
            "Param Name: bert.encoder.layer.8.attention.output.dense.weight, Shape: torch.Size([768, 768]), Grad: False\n",
            "Param Name: bert.encoder.layer.8.attention.output.dense.bias, Shape: torch.Size([768]), Grad: False\n",
            "Param Name: bert.encoder.layer.8.attention.output.LayerNorm.weight, Shape: torch.Size([768]), Grad: False\n",
            "Param Name: bert.encoder.layer.8.attention.output.LayerNorm.bias, Shape: torch.Size([768]), Grad: False\n",
            "Param Name: bert.encoder.layer.8.intermediate.dense.weight, Shape: torch.Size([3072, 768]), Grad: False\n",
            "Param Name: bert.encoder.layer.8.intermediate.dense.bias, Shape: torch.Size([3072]), Grad: False\n",
            "Param Name: bert.encoder.layer.8.output.dense.weight, Shape: torch.Size([768, 3072]), Grad: False\n",
            "Param Name: bert.encoder.layer.8.output.dense.bias, Shape: torch.Size([768]), Grad: False\n",
            "Param Name: bert.encoder.layer.8.output.LayerNorm.weight, Shape: torch.Size([768]), Grad: False\n",
            "Param Name: bert.encoder.layer.8.output.LayerNorm.bias, Shape: torch.Size([768]), Grad: False\n",
            "Param Name: bert.encoder.layer.9.attention.self.query.weight, Shape: torch.Size([768, 768]), Grad: False\n",
            "Param Name: bert.encoder.layer.9.attention.self.query.bias, Shape: torch.Size([768]), Grad: False\n",
            "Param Name: bert.encoder.layer.9.attention.self.key.weight, Shape: torch.Size([768, 768]), Grad: False\n",
            "Param Name: bert.encoder.layer.9.attention.self.key.bias, Shape: torch.Size([768]), Grad: False\n",
            "Param Name: bert.encoder.layer.9.attention.self.value.weight, Shape: torch.Size([768, 768]), Grad: False\n",
            "Param Name: bert.encoder.layer.9.attention.self.value.bias, Shape: torch.Size([768]), Grad: False\n",
            "Param Name: bert.encoder.layer.9.attention.output.dense.weight, Shape: torch.Size([768, 768]), Grad: False\n",
            "Param Name: bert.encoder.layer.9.attention.output.dense.bias, Shape: torch.Size([768]), Grad: False\n",
            "Param Name: bert.encoder.layer.9.attention.output.LayerNorm.weight, Shape: torch.Size([768]), Grad: False\n",
            "Param Name: bert.encoder.layer.9.attention.output.LayerNorm.bias, Shape: torch.Size([768]), Grad: False\n",
            "Param Name: bert.encoder.layer.9.intermediate.dense.weight, Shape: torch.Size([3072, 768]), Grad: False\n",
            "Param Name: bert.encoder.layer.9.intermediate.dense.bias, Shape: torch.Size([3072]), Grad: False\n",
            "Param Name: bert.encoder.layer.9.output.dense.weight, Shape: torch.Size([768, 3072]), Grad: False\n",
            "Param Name: bert.encoder.layer.9.output.dense.bias, Shape: torch.Size([768]), Grad: False\n",
            "Param Name: bert.encoder.layer.9.output.LayerNorm.weight, Shape: torch.Size([768]), Grad: False\n",
            "Param Name: bert.encoder.layer.9.output.LayerNorm.bias, Shape: torch.Size([768]), Grad: False\n",
            "Param Name: bert.encoder.layer.10.attention.self.query.weight, Shape: torch.Size([768, 768]), Grad: False\n",
            "Param Name: bert.encoder.layer.10.attention.self.query.bias, Shape: torch.Size([768]), Grad: False\n",
            "Param Name: bert.encoder.layer.10.attention.self.key.weight, Shape: torch.Size([768, 768]), Grad: False\n",
            "Param Name: bert.encoder.layer.10.attention.self.key.bias, Shape: torch.Size([768]), Grad: False\n",
            "Param Name: bert.encoder.layer.10.attention.self.value.weight, Shape: torch.Size([768, 768]), Grad: False\n",
            "Param Name: bert.encoder.layer.10.attention.self.value.bias, Shape: torch.Size([768]), Grad: False\n",
            "Param Name: bert.encoder.layer.10.attention.output.dense.weight, Shape: torch.Size([768, 768]), Grad: False\n",
            "Param Name: bert.encoder.layer.10.attention.output.dense.bias, Shape: torch.Size([768]), Grad: False\n",
            "Param Name: bert.encoder.layer.10.attention.output.LayerNorm.weight, Shape: torch.Size([768]), Grad: False\n",
            "Param Name: bert.encoder.layer.10.attention.output.LayerNorm.bias, Shape: torch.Size([768]), Grad: False\n",
            "Param Name: bert.encoder.layer.10.intermediate.dense.weight, Shape: torch.Size([3072, 768]), Grad: False\n",
            "Param Name: bert.encoder.layer.10.intermediate.dense.bias, Shape: torch.Size([3072]), Grad: False\n",
            "Param Name: bert.encoder.layer.10.output.dense.weight, Shape: torch.Size([768, 3072]), Grad: False\n",
            "Param Name: bert.encoder.layer.10.output.dense.bias, Shape: torch.Size([768]), Grad: False\n",
            "Param Name: bert.encoder.layer.10.output.LayerNorm.weight, Shape: torch.Size([768]), Grad: False\n",
            "Param Name: bert.encoder.layer.10.output.LayerNorm.bias, Shape: torch.Size([768]), Grad: False\n",
            "Param Name: bert.encoder.layer.11.attention.self.query.weight, Shape: torch.Size([768, 768]), Grad: False\n",
            "Param Name: bert.encoder.layer.11.attention.self.query.bias, Shape: torch.Size([768]), Grad: False\n",
            "Param Name: bert.encoder.layer.11.attention.self.key.weight, Shape: torch.Size([768, 768]), Grad: False\n",
            "Param Name: bert.encoder.layer.11.attention.self.key.bias, Shape: torch.Size([768]), Grad: False\n",
            "Param Name: bert.encoder.layer.11.attention.self.value.weight, Shape: torch.Size([768, 768]), Grad: False\n",
            "Param Name: bert.encoder.layer.11.attention.self.value.bias, Shape: torch.Size([768]), Grad: False\n",
            "Param Name: bert.encoder.layer.11.attention.output.dense.weight, Shape: torch.Size([768, 768]), Grad: False\n",
            "Param Name: bert.encoder.layer.11.attention.output.dense.bias, Shape: torch.Size([768]), Grad: False\n",
            "Param Name: bert.encoder.layer.11.attention.output.LayerNorm.weight, Shape: torch.Size([768]), Grad: False\n",
            "Param Name: bert.encoder.layer.11.attention.output.LayerNorm.bias, Shape: torch.Size([768]), Grad: False\n",
            "Param Name: bert.encoder.layer.11.intermediate.dense.weight, Shape: torch.Size([3072, 768]), Grad: False\n",
            "Param Name: bert.encoder.layer.11.intermediate.dense.bias, Shape: torch.Size([3072]), Grad: False\n",
            "Param Name: bert.encoder.layer.11.output.dense.weight, Shape: torch.Size([768, 3072]), Grad: False\n",
            "Param Name: bert.encoder.layer.11.output.dense.bias, Shape: torch.Size([768]), Grad: False\n",
            "Param Name: bert.encoder.layer.11.output.LayerNorm.weight, Shape: torch.Size([768]), Grad: False\n",
            "Param Name: bert.encoder.layer.11.output.LayerNorm.bias, Shape: torch.Size([768]), Grad: False\n",
            "Param Name: bert.pooler.dense.weight, Shape: torch.Size([768, 768]), Grad: False\n",
            "Param Name: bert.pooler.dense.bias, Shape: torch.Size([768]), Grad: False\n",
            "Param Name: classifier.0.weight, Shape: torch.Size([32, 768]), Grad: False\n",
            "Param Name: classifier.0.bias, Shape: torch.Size([32]), Grad: False\n",
            "Param Name: classifier.3.weight, Shape: torch.Size([2, 32]), Grad: False\n",
            "Param Name: classifier.3.bias, Shape: torch.Size([2]), Grad: False\n"
          ]
        }
      ]
    },
    {
      "cell_type": "markdown",
      "metadata": {
        "id": "NsMgM3sK5Q3t"
      },
      "source": [
        "## Challenge"
      ]
    },
    {
      "cell_type": "markdown",
      "metadata": {
        "id": "vUn-6PFP5Q3t"
      },
      "source": [
        "### `scheduler` 를 생성 \n",
        "- 스케쥴러를 알기 전에 먼저 `epoch`의 개념을 알아야 한다. Epoch는 dataset를 **몇 번 반복**해 학습할 것인지를 의미한다. 만약 dataset의 개수가 2,000개이고 epoch을 2번 학습하게 되면 총 4,000개의 데이터를 학습하게 된다.   \n",
        "- 스케쥴러는 epoch에 따라 learning rate의 값을 조정하는 것을 의미한다. \n",
        "- 예를 들어 [여기](https://huggingface.co/docs/transformers/main_classes/optimizer_schedules#transformers.get_linear_schedule_with_warmup)의 그림에서 볼 수 있듯이 `get_linear_schedule_with_warmup`는 특정 step까지는 learning rate를 천천히 상승시키다가 고점에 도달하면 다시 하락시킨다. "
      ]
    },
    {
      "cell_type": "markdown",
      "metadata": {
        "id": "_FuADvuT5Q3t"
      },
      "source": [
        "### `model`, `optimizer`, `scheduler`를 초기화(=인스턴스 생성)하는 함수를 구현하라"
      ]
    },
    {
      "cell_type": "code",
      "execution_count": 21,
      "metadata": {
        "ExecuteTime": {
          "end_time": "2022-02-02T04:01:59.217735Z",
          "start_time": "2022-02-02T04:01:59.210482Z"
        },
        "id": "-sE7xjYcRD1p"
      },
      "outputs": [],
      "source": [
        "from torch.nn import CrossEntropyLoss\n",
        "from torch.optim import AdamW\n",
        "from torch.nn.utils import clip_grad_norm_\n",
        "from transformers import get_linear_schedule_with_warmup, get_constant_schedule"
      ]
    },
    {
      "cell_type": "code",
      "execution_count": 22,
      "metadata": {
        "ExecuteTime": {
          "end_time": "2022-02-02T04:01:59.549660Z",
          "start_time": "2022-02-02T04:01:59.545752Z"
        },
        "id": "2eTFXzy8VK9R"
      },
      "outputs": [],
      "source": [
        "# model:CustomClassifier 사용, hidden size는 768, label 개수는 2\n",
        "# optimizer: AdamW 사용, learning rate는 2e-5\n",
        "# scheduler: transformers.get_linear_schedule_with_warmup 함수 사용, 단, num_warmup_steps 매개 변수는 사용하지 않음\n",
        "\n",
        "def initializer(train_dataloader, epochs=2):\n",
        "    \"\"\"\n",
        "    모델, 옵티마이저, 스케쥴러를 초기화한 후 반환\n",
        "    \"\"\"\n",
        "    \n",
        "    model = CustomClassifier(hidden_size=768, n_label=2)\n",
        "\n",
        "    optimizer = torch.optim.AdamW(model.parameters(), lr=2e-5, eps=1e-8)\n",
        "    \n",
        "    total_steps = len(train_dataloader) * epochs\n",
        "    print(f\"Total train steps with {epochs} epochs: {total_steps}\")\n",
        "\n",
        "    scheduler = get_linear_schedule_with_warmup(optimizer, \n",
        "                                                num_warmup_steps = 0, # 사용 안함\n",
        "                                                num_training_steps=total_steps)\n",
        "\n",
        "    return model, optimizer, scheduler"
      ]
    },
    {
      "cell_type": "markdown",
      "metadata": {
        "id": "Xz-8_5as5Q3u"
      },
      "source": [
        "### model, optimizer, scheduler의 파라미터 저장하는 함수를 구현하라"
      ]
    },
    {
      "cell_type": "code",
      "execution_count": 23,
      "metadata": {
        "ExecuteTime": {
          "end_time": "2022-02-02T04:02:02.786877Z",
          "start_time": "2022-02-02T04:02:02.783726Z"
        },
        "id": "vIP1BjFA5Q3u"
      },
      "outputs": [],
      "source": [
        "# 모델 저장 함수 구현\n",
        "\n",
        "def save_checkpoint(path, model, optimizer, scheduler, epoch, loss):\n",
        "    file_name = f'{path}/model.ckpt.{epoch}'\n",
        "    \n",
        "    # torch.save 함수 참고\n",
        "    torch.save(\n",
        "        {\n",
        "            'epoch': epoch,\n",
        "            'model_state_dict': model.state_dict(),\n",
        "            'optimizer_state_dict': optimizer.state_dict(),\n",
        "            'scheduler_state_dict': scheduler.state_dict(),\n",
        "            'loss' : loss\n",
        "        }, \n",
        "        file_name\n",
        "    )\n",
        "    \n",
        "    print(f\"Saving epoch {epoch} checkpoint at {file_name}\")"
      ]
    },
    {
      "cell_type": "markdown",
      "metadata": {
        "id": "a3BUrgtJ5Q3v"
      },
      "source": [
        "### `validate()` 함수 구현 \n",
        "- `validate()` 함수 내 model의 상태는 **evaluate**이어야 한다. evaluate 상태의 model은 dropout을 진행하지 않는다. \n",
        "- **forward**를 진행할 때 `with torch.no_grad(): ...` 설정해 미분 계산을 방지한다.\n"
      ]
    },
    {
      "cell_type": "code",
      "execution_count": 24,
      "metadata": {
        "ExecuteTime": {
          "end_time": "2022-02-02T04:02:11.636684Z",
          "start_time": "2022-02-02T04:02:11.631550Z"
        },
        "id": "VHpuV0CXUFxR"
      },
      "outputs": [],
      "source": [
        "# input: model, valid_dataloader\n",
        "# output: loss, 정확도\n",
        "\n",
        "def validate(model, valid_dataloader):\n",
        "    global loss_fct\n",
        "   \n",
        "    # 모델을 evaluate 모드로 설정 & device 할당\n",
        "    model.eval()\n",
        "    model.to(device)\n",
        "    \n",
        "    total_loss, total_acc= 0,0\n",
        "        \n",
        "    for step, batch in enumerate(valid_dataloader):\n",
        "        \n",
        "        # tensor 연산 전, 각 tensor에 device 할당\n",
        "        batch = tuple(item.to(device) for item in batch)\n",
        "            \n",
        "        batch_input, batch_label = batch\n",
        "            \n",
        "        # gradient 계산하지 않고 forward 진행\n",
        "        with torch.no_grad():\n",
        "            logits = model(**batch_input)\n",
        "            \n",
        "        # loss\n",
        "        loss = loss_fct(logits, batch_label)\n",
        "        total_loss += loss.item()\n",
        "        \n",
        "        # accuracy\n",
        "        probs = F.softmax(logits, dim=1)\n",
        "        preds = torch.argmax(probs, dim=1).flatten()\n",
        "        acc = (preds == batch_label).cpu().numpy().mean()\n",
        "        total_acc+=acc\n",
        "    \n",
        "    total_loss = total_loss/(step+1)\n",
        "    total_acc = total_acc/(step+1)*100\n",
        "\n",
        "    return total_loss, total_acc\n"
      ]
    },
    {
      "cell_type": "markdown",
      "metadata": {
        "id": "NukaJc15UFxQ"
      },
      "source": [
        "### `train()` 함수에 `epoch`와 `clip_grad_norm` 추가\n",
        "- data_loader를 `epoch`만큼 반복하면서 학습하도록 `train()` 함수를 수정하라\n",
        "- `gradient cliping`은 미분 값 너무 큰 경우 gradient exploding되는 현상을 막기 위해 미분값이 `threshold`를 넘을 경우 특정 비율을 미분 값에 곱해 크기를 줄여준다.\n",
        "- Reference\n",
        "  - [clip_grad_norm_ official document](https://pytorch.org/docs/stable/generated/torch.nn.utils.clip_grad_norm_.html)\n",
        "  - [그래디언트 클립핑 설명 한국어 블로그](https://kh-kim.gitbook.io/natural-language-processing-with-pytorch/00-cover-6/05-gradient-clipping)"
      ]
    },
    {
      "cell_type": "code",
      "execution_count": 25,
      "metadata": {
        "ExecuteTime": {
          "end_time": "2022-02-02T04:02:10.624280Z",
          "start_time": "2022-02-02T04:02:10.615781Z"
        },
        "id": "ZvY5rxDKHQAp"
      },
      "outputs": [],
      "source": [
        "# 위에서 구현한 모델 저장 함수(save_checkpoint)와 validate 함수도 추가해보자\n",
        "\n",
        "loss_fct = CrossEntropyLoss()\n",
        "\n",
        "def train(model, train_dataloader, valid_dataloader=None, epochs=2):\n",
        "        global scheduler, loss_fct\n",
        "        \n",
        "        # train_dataloaer 학습을 epochs만큼 반복\n",
        "        for epoch in range(epochs):\n",
        "            print(f\"*****Epoch {epoch} Train Start*****\")\n",
        "            \n",
        "            # 배치 단위 평균 loss와 총 평균 loss 계산하기위해 변수 생성\n",
        "            total_loss, batch_loss, batch_count = 0,0,0\n",
        "        \n",
        "            # model을 train 모드로 설정 & device 할당\n",
        "            model.train()\n",
        "            model.to(device)\n",
        "            \n",
        "            # data iterator를 돌면서 하나씩 학습\n",
        "            for step, batch in enumerate(train_dataloader):\n",
        "                batch_count+=1\n",
        "                \n",
        "                # tensor 연산 전, 각 tensor에 device 할당\n",
        "                batch = tuple(item.to(device) for item in batch)\n",
        "            \n",
        "                batch_input, batch_label = batch\n",
        "            \n",
        "                # batch마다 모델이 갖고 있는 기존 gradient를 초기화\n",
        "                model.zero_grad()\n",
        "            \n",
        "                # forward\n",
        "                logits = model(**batch_input)\n",
        "            \n",
        "                # loss\n",
        "                loss = loss_fct(logits, batch_label)\n",
        "                batch_loss += loss.item()\n",
        "                total_loss += loss.item()\n",
        "            \n",
        "                # backward -> 파라미터의 미분(gradient)를 자동으로 계산\n",
        "                loss.backward()\n",
        "                \n",
        "                # gradient clipping 적용 (max_norm = 1)\n",
        "                torch.nn.utils.clip_grad_norm_(model.parameters(), max_norm = 1)\n",
        "                \n",
        "                # optimizer & scheduler 업데이트\n",
        "                optimizer.step()\n",
        "                scheduler.step()\n",
        "                \n",
        "                # 배치 10개씩 처리할 때마다 평균 loss와 lr를 출력\n",
        "                if (step % 10 == 0 and step != 0):\n",
        "                    learning_rate = optimizer.param_groups[0]['lr']\n",
        "                    print(f\"Epoch: {epoch}, Step : {step}, LR : {learning_rate}, Avg Loss : {batch_loss / batch_count:.4f}\")\n",
        "\n",
        "                    # reset \n",
        "                    batch_loss, batch_count = 0,0\n",
        "\n",
        "            print(f\"Epoch {epoch} Total Mean Loss : {total_loss/(step+1):.4f}\")\n",
        "            print(f\"*****Epoch {epoch} Train Finish*****\\n\")\n",
        "            \n",
        "            if valid_dataloader is not None:\n",
        "                print(f\"*****Epoch {epoch} Valid Start*****\")\n",
        "                valid_loss, valid_acc = validate(model, valid_dataloader)\n",
        "                print(f\"Epoch {epoch} Valid Loss : {valid_loss:.4f} Valid Acc : {valid_acc:.2f}\")\n",
        "                print(f\"*****Epoch {epoch} Valid Finish*****\\n\")\n",
        "            \n",
        "            # checkpoint 저장\n",
        "            save_checkpoint(\".\", model, optimizer, scheduler, epoch, total_loss/(step+1))\n",
        "                \n",
        "        print(\"Train Completed. End Program.\")"
      ]
    },
    {
      "cell_type": "markdown",
      "metadata": {
        "id": "4NWKzxIaf1QJ"
      },
      "source": [
        "## Advanced"
      ]
    },
    {
      "cell_type": "markdown",
      "metadata": {
        "id": "gFWnii7a5Q3w"
      },
      "source": [
        "### 학습 데이터를 epoch 4까지 학습\n",
        "- 매 epoch마다 다음을 수행한다.\n",
        "  - 학습이 끝난 후 validate() 함수 실행 \n",
        "  - validate() 함수가 끝난 후 model save 함수 실행"
      ]
    },
    {
      "cell_type": "code",
      "execution_count": 26,
      "metadata": {
        "ExecuteTime": {
          "end_time": "2022-02-02T06:02:11.377612Z",
          "start_time": "2022-02-02T04:02:20.931961Z"
        },
        "id": "7Er1qKtsf1QJ",
        "colab": {
          "base_uri": "https://localhost:8080/"
        },
        "outputId": "f6a07d38-30c2-409b-ed7d-0d72639ad20f"
      },
      "outputs": [
        {
          "output_type": "stream",
          "name": "stderr",
          "text": [
            "Some weights of the model checkpoint at klue/bert-base were not used when initializing BertModel: ['cls.predictions.bias', 'cls.predictions.transform.LayerNorm.bias', 'cls.seq_relationship.weight', 'cls.predictions.decoder.weight', 'cls.predictions.transform.dense.weight', 'cls.predictions.transform.dense.bias', 'cls.seq_relationship.bias', 'cls.predictions.decoder.bias', 'cls.predictions.transform.LayerNorm.weight']\n",
            "- This IS expected if you are initializing BertModel from the checkpoint of a model trained on another task or with another architecture (e.g. initializing a BertForSequenceClassification model from a BertForPreTraining model).\n",
            "- This IS NOT expected if you are initializing BertModel from the checkpoint of a model that you expect to be exactly identical (initializing a BertForSequenceClassification model from a BertForSequenceClassification model).\n"
          ]
        },
        {
          "output_type": "stream",
          "name": "stdout",
          "text": [
            "Total train steps with 4 epochs: 1128\n",
            "*****Epoch 0 Train Start*****\n",
            "Epoch: 0, Step : 10, LR : 1.9804964539007094e-05, Avg Loss : 0.6743\n",
            "Epoch: 0, Step : 20, LR : 1.962765957446809e-05, Avg Loss : 0.6142\n",
            "Epoch: 0, Step : 30, LR : 1.945035460992908e-05, Avg Loss : 0.5459\n",
            "Epoch: 0, Step : 40, LR : 1.927304964539007e-05, Avg Loss : 0.5050\n",
            "Epoch: 0, Step : 50, LR : 1.9095744680851064e-05, Avg Loss : 0.4320\n",
            "Epoch: 0, Step : 60, LR : 1.891843971631206e-05, Avg Loss : 0.4622\n",
            "Epoch: 0, Step : 70, LR : 1.8741134751773053e-05, Avg Loss : 0.4481\n",
            "Epoch: 0, Step : 80, LR : 1.8563829787234043e-05, Avg Loss : 0.4203\n",
            "Epoch: 0, Step : 90, LR : 1.8386524822695038e-05, Avg Loss : 0.3842\n",
            "Epoch: 0, Step : 100, LR : 1.8209219858156032e-05, Avg Loss : 0.4062\n",
            "Epoch: 0, Step : 110, LR : 1.8031914893617023e-05, Avg Loss : 0.4316\n",
            "Epoch: 0, Step : 120, LR : 1.7854609929078013e-05, Avg Loss : 0.4261\n",
            "Epoch: 0, Step : 130, LR : 1.7677304964539008e-05, Avg Loss : 0.4390\n",
            "Epoch: 0, Step : 140, LR : 1.7500000000000002e-05, Avg Loss : 0.3812\n",
            "Epoch: 0, Step : 150, LR : 1.7322695035460996e-05, Avg Loss : 0.4132\n",
            "Epoch: 0, Step : 160, LR : 1.7145390070921987e-05, Avg Loss : 0.4204\n",
            "Epoch: 0, Step : 170, LR : 1.696808510638298e-05, Avg Loss : 0.3997\n",
            "Epoch: 0, Step : 180, LR : 1.6790780141843972e-05, Avg Loss : 0.3950\n",
            "Epoch: 0, Step : 190, LR : 1.6613475177304966e-05, Avg Loss : 0.3891\n",
            "Epoch: 0, Step : 200, LR : 1.6436170212765957e-05, Avg Loss : 0.4207\n",
            "Epoch: 0, Step : 210, LR : 1.625886524822695e-05, Avg Loss : 0.3478\n",
            "Epoch: 0, Step : 220, LR : 1.6081560283687945e-05, Avg Loss : 0.4086\n",
            "Epoch: 0, Step : 230, LR : 1.590425531914894e-05, Avg Loss : 0.3598\n",
            "Epoch: 0, Step : 240, LR : 1.572695035460993e-05, Avg Loss : 0.3785\n",
            "Epoch: 0, Step : 250, LR : 1.5549645390070924e-05, Avg Loss : 0.3708\n",
            "Epoch: 0, Step : 260, LR : 1.5372340425531915e-05, Avg Loss : 0.3685\n",
            "Epoch: 0, Step : 270, LR : 1.5195035460992908e-05, Avg Loss : 0.4223\n",
            "Epoch: 0, Step : 280, LR : 1.5017730496453902e-05, Avg Loss : 0.3817\n",
            "Epoch 0 Total Mean Loss : 0.4305\n",
            "*****Epoch 0 Train Finish*****\n",
            "\n",
            "*****Epoch 0 Valid Start*****\n",
            "Epoch 0 Valid Loss : 0.3611 Valid Acc : 84.45\n",
            "*****Epoch 0 Valid Finish*****\n",
            "\n",
            "Saving epoch 0 checkpoint at ./model.ckpt.0\n",
            "*****Epoch 1 Train Start*****\n",
            "Epoch: 1, Step : 10, LR : 1.4804964539007095e-05, Avg Loss : 0.2454\n",
            "Epoch: 1, Step : 20, LR : 1.4627659574468087e-05, Avg Loss : 0.2947\n",
            "Epoch: 1, Step : 30, LR : 1.4450354609929078e-05, Avg Loss : 0.2443\n",
            "Epoch: 1, Step : 40, LR : 1.427304964539007e-05, Avg Loss : 0.3006\n",
            "Epoch: 1, Step : 50, LR : 1.4095744680851065e-05, Avg Loss : 0.2706\n",
            "Epoch: 1, Step : 60, LR : 1.3918439716312057e-05, Avg Loss : 0.2966\n",
            "Epoch: 1, Step : 70, LR : 1.3741134751773051e-05, Avg Loss : 0.2786\n",
            "Epoch: 1, Step : 80, LR : 1.3563829787234044e-05, Avg Loss : 0.2937\n",
            "Epoch: 1, Step : 90, LR : 1.3386524822695038e-05, Avg Loss : 0.3248\n",
            "Epoch: 1, Step : 100, LR : 1.320921985815603e-05, Avg Loss : 0.2366\n",
            "Epoch: 1, Step : 110, LR : 1.3031914893617021e-05, Avg Loss : 0.2548\n",
            "Epoch: 1, Step : 120, LR : 1.2854609929078014e-05, Avg Loss : 0.3089\n",
            "Epoch: 1, Step : 130, LR : 1.2677304964539008e-05, Avg Loss : 0.3287\n",
            "Epoch: 1, Step : 140, LR : 1.25e-05, Avg Loss : 0.2302\n",
            "Epoch: 1, Step : 150, LR : 1.2322695035460995e-05, Avg Loss : 0.2271\n",
            "Epoch: 1, Step : 160, LR : 1.2145390070921987e-05, Avg Loss : 0.2192\n",
            "Epoch: 1, Step : 170, LR : 1.196808510638298e-05, Avg Loss : 0.3521\n",
            "Epoch: 1, Step : 180, LR : 1.1790780141843972e-05, Avg Loss : 0.3629\n",
            "Epoch: 1, Step : 190, LR : 1.1613475177304965e-05, Avg Loss : 0.2692\n",
            "Epoch: 1, Step : 200, LR : 1.1436170212765957e-05, Avg Loss : 0.2158\n",
            "Epoch: 1, Step : 210, LR : 1.1258865248226952e-05, Avg Loss : 0.3434\n",
            "Epoch: 1, Step : 220, LR : 1.1081560283687944e-05, Avg Loss : 0.2687\n",
            "Epoch: 1, Step : 230, LR : 1.0904255319148938e-05, Avg Loss : 0.3550\n",
            "Epoch: 1, Step : 240, LR : 1.072695035460993e-05, Avg Loss : 0.3132\n",
            "Epoch: 1, Step : 250, LR : 1.0549645390070923e-05, Avg Loss : 0.2958\n",
            "Epoch: 1, Step : 260, LR : 1.0372340425531916e-05, Avg Loss : 0.2648\n",
            "Epoch: 1, Step : 270, LR : 1.0195035460992908e-05, Avg Loss : 0.2851\n",
            "Epoch: 1, Step : 280, LR : 1.00177304964539e-05, Avg Loss : 0.3066\n",
            "Epoch 1 Total Mean Loss : 0.2849\n",
            "*****Epoch 1 Train Finish*****\n",
            "\n",
            "*****Epoch 1 Valid Start*****\n",
            "Epoch 1 Valid Loss : 0.3759 Valid Acc : 84.24\n",
            "*****Epoch 1 Valid Finish*****\n",
            "\n",
            "Saving epoch 1 checkpoint at ./model.ckpt.1\n",
            "*****Epoch 2 Train Start*****\n",
            "Epoch: 2, Step : 10, LR : 9.804964539007093e-06, Avg Loss : 0.2553\n",
            "Epoch: 2, Step : 20, LR : 9.627659574468086e-06, Avg Loss : 0.2443\n",
            "Epoch: 2, Step : 30, LR : 9.450354609929078e-06, Avg Loss : 0.2049\n",
            "Epoch: 2, Step : 40, LR : 9.273049645390073e-06, Avg Loss : 0.2194\n",
            "Epoch: 2, Step : 50, LR : 9.095744680851063e-06, Avg Loss : 0.2219\n",
            "Epoch: 2, Step : 60, LR : 8.918439716312058e-06, Avg Loss : 0.2197\n",
            "Epoch: 2, Step : 70, LR : 8.74113475177305e-06, Avg Loss : 0.2047\n",
            "Epoch: 2, Step : 80, LR : 8.563829787234044e-06, Avg Loss : 0.1885\n",
            "Epoch: 2, Step : 90, LR : 8.386524822695035e-06, Avg Loss : 0.1547\n",
            "Epoch: 2, Step : 100, LR : 8.20921985815603e-06, Avg Loss : 0.2003\n",
            "Epoch: 2, Step : 110, LR : 8.031914893617022e-06, Avg Loss : 0.2204\n",
            "Epoch: 2, Step : 120, LR : 7.854609929078016e-06, Avg Loss : 0.1774\n",
            "Epoch: 2, Step : 130, LR : 7.677304964539007e-06, Avg Loss : 0.1731\n",
            "Epoch: 2, Step : 140, LR : 7.500000000000001e-06, Avg Loss : 0.2220\n",
            "Epoch: 2, Step : 150, LR : 7.3226950354609935e-06, Avg Loss : 0.1802\n",
            "Epoch: 2, Step : 160, LR : 7.145390070921986e-06, Avg Loss : 0.2142\n",
            "Epoch: 2, Step : 170, LR : 6.968085106382979e-06, Avg Loss : 0.2252\n",
            "Epoch: 2, Step : 180, LR : 6.790780141843972e-06, Avg Loss : 0.1789\n",
            "Epoch: 2, Step : 190, LR : 6.613475177304965e-06, Avg Loss : 0.1437\n",
            "Epoch: 2, Step : 200, LR : 6.436170212765958e-06, Avg Loss : 0.1453\n",
            "Epoch: 2, Step : 210, LR : 6.258865248226951e-06, Avg Loss : 0.1852\n",
            "Epoch: 2, Step : 220, LR : 6.081560283687944e-06, Avg Loss : 0.2604\n",
            "Epoch: 2, Step : 230, LR : 5.904255319148937e-06, Avg Loss : 0.2474\n",
            "Epoch: 2, Step : 240, LR : 5.7269503546099295e-06, Avg Loss : 0.1100\n",
            "Epoch: 2, Step : 250, LR : 5.549645390070923e-06, Avg Loss : 0.1508\n",
            "Epoch: 2, Step : 260, LR : 5.372340425531915e-06, Avg Loss : 0.1821\n",
            "Epoch: 2, Step : 270, LR : 5.195035460992908e-06, Avg Loss : 0.2672\n",
            "Epoch: 2, Step : 280, LR : 5.017730496453901e-06, Avg Loss : 0.1928\n",
            "Epoch 2 Total Mean Loss : 0.1992\n",
            "*****Epoch 2 Train Finish*****\n",
            "\n",
            "*****Epoch 2 Valid Start*****\n",
            "Epoch 2 Valid Loss : 0.4273 Valid Acc : 85.29\n",
            "*****Epoch 2 Valid Finish*****\n",
            "\n",
            "Saving epoch 2 checkpoint at ./model.ckpt.2\n",
            "*****Epoch 3 Train Start*****\n",
            "Epoch: 3, Step : 10, LR : 4.804964539007093e-06, Avg Loss : 0.1733\n",
            "Epoch: 3, Step : 20, LR : 4.6276595744680855e-06, Avg Loss : 0.1066\n",
            "Epoch: 3, Step : 30, LR : 4.450354609929078e-06, Avg Loss : 0.1486\n",
            "Epoch: 3, Step : 40, LR : 4.273049645390071e-06, Avg Loss : 0.2153\n",
            "Epoch: 3, Step : 50, LR : 4.095744680851064e-06, Avg Loss : 0.1180\n",
            "Epoch: 3, Step : 60, LR : 3.918439716312057e-06, Avg Loss : 0.0992\n",
            "Epoch: 3, Step : 70, LR : 3.74113475177305e-06, Avg Loss : 0.1431\n",
            "Epoch: 3, Step : 80, LR : 3.5638297872340426e-06, Avg Loss : 0.2313\n",
            "Epoch: 3, Step : 90, LR : 3.386524822695036e-06, Avg Loss : 0.1301\n",
            "Epoch: 3, Step : 100, LR : 3.2092198581560285e-06, Avg Loss : 0.1409\n",
            "Epoch: 3, Step : 110, LR : 3.031914893617022e-06, Avg Loss : 0.1402\n",
            "Epoch: 3, Step : 120, LR : 2.8546099290780144e-06, Avg Loss : 0.1352\n",
            "Epoch: 3, Step : 130, LR : 2.6773049645390077e-06, Avg Loss : 0.1148\n",
            "Epoch: 3, Step : 140, LR : 2.5e-06, Avg Loss : 0.2253\n",
            "Epoch: 3, Step : 150, LR : 2.322695035460993e-06, Avg Loss : 0.1110\n",
            "Epoch: 3, Step : 160, LR : 2.145390070921986e-06, Avg Loss : 0.1843\n",
            "Epoch: 3, Step : 170, LR : 1.968085106382979e-06, Avg Loss : 0.1186\n",
            "Epoch: 3, Step : 180, LR : 1.790780141843972e-06, Avg Loss : 0.1491\n",
            "Epoch: 3, Step : 190, LR : 1.6134751773049648e-06, Avg Loss : 0.1873\n",
            "Epoch: 3, Step : 200, LR : 1.4361702127659578e-06, Avg Loss : 0.1416\n",
            "Epoch: 3, Step : 210, LR : 1.2588652482269503e-06, Avg Loss : 0.1162\n",
            "Epoch: 3, Step : 220, LR : 1.0815602836879434e-06, Avg Loss : 0.1094\n",
            "Epoch: 3, Step : 230, LR : 9.042553191489363e-07, Avg Loss : 0.1399\n",
            "Epoch: 3, Step : 240, LR : 7.26950354609929e-07, Avg Loss : 0.1901\n",
            "Epoch: 3, Step : 250, LR : 5.496453900709221e-07, Avg Loss : 0.1529\n",
            "Epoch: 3, Step : 260, LR : 3.723404255319149e-07, Avg Loss : 0.1364\n",
            "Epoch: 3, Step : 270, LR : 1.9503546099290782e-07, Avg Loss : 0.1856\n",
            "Epoch: 3, Step : 280, LR : 1.773049645390071e-08, Avg Loss : 0.0949\n",
            "Epoch 3 Total Mean Loss : 0.1483\n",
            "*****Epoch 3 Train Finish*****\n",
            "\n",
            "*****Epoch 3 Valid Start*****\n",
            "Epoch 3 Valid Loss : 0.4837 Valid Acc : 85.31\n",
            "*****Epoch 3 Valid Finish*****\n",
            "\n",
            "Saving epoch 3 checkpoint at ./model.ckpt.3\n",
            "Train Completed. End Program.\n"
          ]
        }
      ],
      "source": [
        "# 4 epoch 학습\n",
        "epochs=4\n",
        "model, optimizer, scheduler = initializer(train_dataloader, epochs)\n",
        "train(model, train_dataloader, valid_dataloader, epochs)"
      ]
    },
    {
      "cell_type": "markdown",
      "metadata": {
        "ExecuteTime": {
          "end_time": "2022-02-02T03:27:18.246441Z",
          "start_time": "2022-02-02T03:27:18.236617Z"
        },
        "id": "vA3_vqqCXccc"
      },
      "source": [
        "### 가장 dev acc 성능이 높았던 epoch의 모델의 체크 포인트를 불러와 로드하자"
      ]
    },
    {
      "cell_type": "code",
      "execution_count": 27,
      "metadata": {
        "ExecuteTime": {
          "end_time": "2022-02-02T06:22:27.646150Z",
          "start_time": "2022-02-02T06:22:26.945572Z"
        },
        "id": "mvfkSff25Q3z"
      },
      "outputs": [],
      "source": [
        "# torch.load 함수 사용\n",
        "\n",
        "checkpoint = torch.load('model.ckpt.3')"
      ]
    },
    {
      "cell_type": "code",
      "execution_count": 28,
      "metadata": {
        "ExecuteTime": {
          "end_time": "2022-02-02T06:22:36.415665Z",
          "start_time": "2022-02-02T06:22:36.407250Z"
        },
        "id": "YqcxMmTj5Q3z",
        "colab": {
          "base_uri": "https://localhost:8080/"
        },
        "outputId": "56b56c90-b3a9-444b-dbd5-f4a0036c1afd"
      },
      "outputs": [
        {
          "output_type": "execute_result",
          "data": {
            "text/plain": [
              "dict_keys(['epoch', 'model_state_dict', 'optimizer_state_dict', 'scheduler_state_dict', 'loss'])"
            ]
          },
          "metadata": {},
          "execution_count": 28
        }
      ],
      "source": [
        "# checkpoint의 key 종류를 확인\n",
        "checkpoint.keys()"
      ]
    },
    {
      "cell_type": "code",
      "execution_count": 29,
      "metadata": {
        "ExecuteTime": {
          "end_time": "2022-02-02T06:22:40.272939Z",
          "start_time": "2022-02-02T06:22:37.010491Z"
        },
        "id": "wTvFYgNi5Q30",
        "colab": {
          "base_uri": "https://localhost:8080/"
        },
        "outputId": "057f68a6-ad07-4d2c-af99-4d644a13cd1f"
      },
      "outputs": [
        {
          "output_type": "stream",
          "name": "stderr",
          "text": [
            "Some weights of the model checkpoint at klue/bert-base were not used when initializing BertModel: ['cls.predictions.bias', 'cls.predictions.transform.LayerNorm.bias', 'cls.seq_relationship.weight', 'cls.predictions.decoder.weight', 'cls.predictions.transform.dense.weight', 'cls.predictions.transform.dense.bias', 'cls.seq_relationship.bias', 'cls.predictions.decoder.bias', 'cls.predictions.transform.LayerNorm.weight']\n",
            "- This IS expected if you are initializing BertModel from the checkpoint of a model trained on another task or with another architecture (e.g. initializing a BertForSequenceClassification model from a BertForPreTraining model).\n",
            "- This IS NOT expected if you are initializing BertModel from the checkpoint of a model that you expect to be exactly identical (initializing a BertForSequenceClassification model from a BertForSequenceClassification model).\n"
          ]
        },
        {
          "output_type": "stream",
          "name": "stdout",
          "text": [
            "Total train steps with 1 epochs: 282\n"
          ]
        }
      ],
      "source": [
        "# 위에서 구현한 initializer 함수 사용하여 model, optimizer, scheduler 초기화\n",
        "\n",
        "epochs=1\n",
        "model, optimizer, scheduler = initializer(train_dataloader, epochs)"
      ]
    },
    {
      "cell_type": "code",
      "execution_count": 30,
      "metadata": {
        "ExecuteTime": {
          "end_time": "2022-02-02T06:22:40.443912Z",
          "start_time": "2022-02-02T06:22:40.274323Z"
        },
        "id": "CtR2sTW55Q30",
        "colab": {
          "base_uri": "https://localhost:8080/"
        },
        "outputId": "db0f159c-eb47-4003-fe37-e6771a807641"
      },
      "outputs": [
        {
          "output_type": "execute_result",
          "data": {
            "text/plain": [
              "<All keys matched successfully>"
            ]
          },
          "metadata": {},
          "execution_count": 30
        }
      ],
      "source": [
        "model.load_state_dict(checkpoint[\"model_state_dict\"])"
      ]
    },
    {
      "cell_type": "markdown",
      "metadata": {
        "id": "Tzske7SR5Q30"
      },
      "source": [
        "### 모델 예측 함수 구현\n",
        "- test_dataloader를 입력받아 모델이 예측한 확률값 (probs)과 실제 정답 (label) 을 출력하는 `\bpredict()` 함수를 구현하자.\n",
        "- 함수 정의\n",
        "  - 입력 매개변수\n",
        "    - `model` : `CustomClassifier` 모델. logits를 반환함 \n",
        "    - `test_dataloader` : test 데이터셋의 텍스트와 레이블을 배치로 갖는 dataloader\n",
        "  - 조건\n",
        "    - `test_dataloader`는 이터레이터기 때문에 이터레이터를 순회하면서 `all_logits` 리스트에 배치 단위의 logits를 저장하고 `all_labels` 리스트에 배치 단위의 레이블 (0 또는 1 값)을 저장하라\n",
        "  - 반환값\n",
        "    - `probs`\n",
        "      - logits에 softmax 함수를 취한 확률값. (test data 개수, label 개수) shape을 가짐. \bnp.array 타입으로 데이터 타입을 변환할 것.\n",
        "    - `labels`\n",
        "      - 0 또는 1 값을 갖는 np.array. (test data 개수,) shape을 가짐."
      ]
    },
    {
      "cell_type": "code",
      "execution_count": 31,
      "metadata": {
        "ExecuteTime": {
          "end_time": "2022-02-02T06:22:48.062229Z",
          "start_time": "2022-02-02T06:22:48.057531Z"
        },
        "id": "yQ7WiD1Oigg9"
      },
      "outputs": [],
      "source": [
        "def predict(model, test_dataloader):\n",
        "    \"\"\"\n",
        "    test_dataloader의 label별 확률값과 실제 label 값을 반환\n",
        "    \"\"\"\n",
        "\n",
        "    # model을 eval 모드로 설정 & device 할당\n",
        "    model.eval()\n",
        "    model.to(device)\n",
        "\n",
        "    all_logits = []\n",
        "    all_labels = []\n",
        "\n",
        "    for step, batch in enumerate(test_dataloader):\n",
        "        \n",
        "        batch_input, batch_label = batch\n",
        "        \n",
        "        # batch_input을 device 할당\n",
        "        batch_input = batch_input.to(device)\n",
        "\n",
        "        # model에 batch_input을 넣어 logit 반환 & all_logits, all_labels 리스트에 값 추가 \n",
        "        with torch.no_grad():\n",
        "            logits = model(**batch_input)\n",
        "            all_logits.append(logits)\n",
        "        all_labels.extend(batch_label)\n",
        "\n",
        "    all_logits = torch.cat(all_logits, dim=0)\n",
        "    # logits을 확률값으로 변환 & Tensor 타입을 numpy.array 타입으로 변환\n",
        "    probs = F.softmax(all_logits, dim=1).cpu().numpy()\n",
        "    # Tensor 타입을 numpy.array 타입으로 변환\n",
        "    all_labels = np.array(all_labels)\n",
        "    return probs, all_labels\n",
        "\n"
      ]
    },
    {
      "cell_type": "markdown",
      "source": [
        "- 모델이 예측한 확률값과 실제 label을 입력 받아 정확도를 출력하는 **accuracy()** 함수를 구현하자. \n",
        "- 함수 정의 \n",
        "  - 입력 매개변수 \n",
        "    - `probs` : `predict()` 함수의 반환값. 2차원의 np.array\n",
        "    - `labels` : `predict()` 함수의 반환값. 1차원의 np.array\n",
        "  - 조건\n",
        "    - `probs`의 확률값이 0.5 이상이면 1, 이하이면 0이 되도록 만든다. 모델이 예측한 레이블을 실제값(`labels`)과 비교해 예측값과 실제값이 같으면 1, 다르면 0 점수를 준다. 모든 데이터에 대해 점수의 평균값이 accuracy 값이다. \n",
        "  - 반환값 \n",
        "    - `acc` : 정확도 (Float type)"
      ],
      "metadata": {
        "id": "lOxCjZ2g6ZeK"
      }
    },
    {
      "cell_type": "code",
      "execution_count": 32,
      "metadata": {
        "ExecuteTime": {
          "end_time": "2022-02-02T06:22:48.296419Z",
          "start_time": "2022-02-02T06:22:48.293737Z"
        },
        "id": "42-umZ3m5Q32"
      },
      "outputs": [],
      "source": [
        "# accuracy 함수 구현\n",
        "# probs(확률값)을 label로 변경(0.5 이상이면 1, 0.5 미만이면 0)\n",
        "def accuracy(probs, labels):\n",
        "    y_pred = np.where(probs>=0.5, 1, 0)\n",
        "    return float(sum(labels == np.argmax(y_pred, axis=1)) / len(labels))"
      ]
    },
    {
      "cell_type": "code",
      "execution_count": 33,
      "metadata": {
        "ExecuteTime": {
          "end_time": "2022-02-02T06:24:22.752497Z",
          "start_time": "2022-02-02T06:22:48.652784Z"
        },
        "id": "SwkrRPAhjsXb"
      },
      "outputs": [],
      "source": [
        "probs, labels = predict(model, test_dataloader)"
      ]
    },
    {
      "cell_type": "code",
      "execution_count": 34,
      "metadata": {
        "ExecuteTime": {
          "end_time": "2022-02-02T06:24:22.759367Z",
          "start_time": "2022-02-02T06:24:22.753997Z"
        },
        "id": "MxDI8PRA5Q32",
        "colab": {
          "base_uri": "https://localhost:8080/"
        },
        "outputId": "e647466d-9802-44ad-b27b-0c1ca2d735db"
      },
      "outputs": [
        {
          "output_type": "execute_result",
          "data": {
            "text/plain": [
              "0.864"
            ]
          },
          "metadata": {},
          "execution_count": 34
        }
      ],
      "source": [
        "accuracy(probs, labels)"
      ]
    },
    {
      "cell_type": "markdown",
      "metadata": {
        "id": "3mqUfkx-5Q33"
      },
      "source": [
        "### `sklearn.metrics`의 `accuracy_score`, `roc_auc_score` 함수를 이용해 정확도와 auc를 계산하라"
      ]
    },
    {
      "cell_type": "code",
      "execution_count": 35,
      "metadata": {
        "ExecuteTime": {
          "end_time": "2022-02-02T06:24:23.111879Z",
          "start_time": "2022-02-02T06:24:22.760568Z"
        },
        "id": "VFWj4lcp5Q33"
      },
      "outputs": [],
      "source": [
        "from sklearn.metrics import roc_auc_score, accuracy_score"
      ]
    },
    {
      "cell_type": "code",
      "execution_count": 36,
      "metadata": {
        "ExecuteTime": {
          "end_time": "2022-02-02T06:24:23.116872Z",
          "start_time": "2022-02-02T06:24:23.113064Z"
        },
        "id": "p9BEe2mflTem",
        "colab": {
          "base_uri": "https://localhost:8080/"
        },
        "outputId": "99386d07-92b6-4e0e-8496-4e178c1c992d"
      },
      "outputs": [
        {
          "output_type": "execute_result",
          "data": {
            "text/plain": [
              "0.864"
            ]
          },
          "metadata": {},
          "execution_count": 36
        }
      ],
      "source": [
        "# 정확도 출력\n",
        "\n",
        "accuracy_score(labels, np.argmax(probs, axis=1))"
      ]
    },
    {
      "cell_type": "code",
      "execution_count": 37,
      "metadata": {
        "ExecuteTime": {
          "end_time": "2022-02-02T06:24:23.125650Z",
          "start_time": "2022-02-02T06:24:23.117847Z"
        },
        "id": "oCl6BiPGpCPW",
        "colab": {
          "base_uri": "https://localhost:8080/"
        },
        "outputId": "7a90e49e-7ed9-4c55-8c5c-12d3f7045e52"
      },
      "outputs": [
        {
          "output_type": "execute_result",
          "data": {
            "text/plain": [
              "0.9340459999999999"
            ]
          },
          "metadata": {},
          "execution_count": 37
        }
      ],
      "source": [
        "# auc 출력\n",
        "\n",
        "roc_auc_score(labels, probs[:,1])"
      ]
    }
  ],
  "metadata": {
    "accelerator": "GPU",
    "colab": {
      "collapsed_sections": [],
      "name": "승구_Week2_4_assignment.ipynb",
      "provenance": []
    },
    "kernelspec": {
      "display_name": "torch",
      "language": "python",
      "name": "torch"
    },
    "language_info": {
      "codemirror_mode": {
        "name": "ipython",
        "version": 3
      },
      "file_extension": ".py",
      "mimetype": "text/x-python",
      "name": "python",
      "nbconvert_exporter": "python",
      "pygments_lexer": "ipython3",
      "version": "3.8.11"
    },
    "widgets": {
      "application/vnd.jupyter.widget-state+json": {
        "c0907d3cf95d47bca338981524e9d099": {
          "model_module": "@jupyter-widgets/controls",
          "model_name": "HBoxModel",
          "model_module_version": "1.5.0",
          "state": {
            "_dom_classes": [],
            "_model_module": "@jupyter-widgets/controls",
            "_model_module_version": "1.5.0",
            "_model_name": "HBoxModel",
            "_view_count": null,
            "_view_module": "@jupyter-widgets/controls",
            "_view_module_version": "1.5.0",
            "_view_name": "HBoxView",
            "box_style": "",
            "children": [
              "IPY_MODEL_f41800a3c81e4a57adb17f725708cc65",
              "IPY_MODEL_b928dbc99b1542efac3853e98c65d213",
              "IPY_MODEL_9b4e2bdd63784feb94fb622df0ca3a77"
            ],
            "layout": "IPY_MODEL_8b86358a0eb547e287034abcca339588"
          }
        },
        "f41800a3c81e4a57adb17f725708cc65": {
          "model_module": "@jupyter-widgets/controls",
          "model_name": "HTMLModel",
          "model_module_version": "1.5.0",
          "state": {
            "_dom_classes": [],
            "_model_module": "@jupyter-widgets/controls",
            "_model_module_version": "1.5.0",
            "_model_name": "HTMLModel",
            "_view_count": null,
            "_view_module": "@jupyter-widgets/controls",
            "_view_module_version": "1.5.0",
            "_view_name": "HTMLView",
            "description": "",
            "description_tooltip": null,
            "layout": "IPY_MODEL_b59d748a62f045ffae12d6405a5aa481",
            "placeholder": "​",
            "style": "IPY_MODEL_1be91f08c201470eb7079b8e727ba986",
            "value": "Downloading: 100%"
          }
        },
        "b928dbc99b1542efac3853e98c65d213": {
          "model_module": "@jupyter-widgets/controls",
          "model_name": "FloatProgressModel",
          "model_module_version": "1.5.0",
          "state": {
            "_dom_classes": [],
            "_model_module": "@jupyter-widgets/controls",
            "_model_module_version": "1.5.0",
            "_model_name": "FloatProgressModel",
            "_view_count": null,
            "_view_module": "@jupyter-widgets/controls",
            "_view_module_version": "1.5.0",
            "_view_name": "ProgressView",
            "bar_style": "success",
            "description": "",
            "description_tooltip": null,
            "layout": "IPY_MODEL_7cdb7a3d551a4f948912af513c7abff0",
            "max": 248477,
            "min": 0,
            "orientation": "horizontal",
            "style": "IPY_MODEL_121c85b6244d4144b9b45c062f90c1d3",
            "value": 248477
          }
        },
        "9b4e2bdd63784feb94fb622df0ca3a77": {
          "model_module": "@jupyter-widgets/controls",
          "model_name": "HTMLModel",
          "model_module_version": "1.5.0",
          "state": {
            "_dom_classes": [],
            "_model_module": "@jupyter-widgets/controls",
            "_model_module_version": "1.5.0",
            "_model_name": "HTMLModel",
            "_view_count": null,
            "_view_module": "@jupyter-widgets/controls",
            "_view_module_version": "1.5.0",
            "_view_name": "HTMLView",
            "description": "",
            "description_tooltip": null,
            "layout": "IPY_MODEL_8b933f4413ba40f8bf867b81afe29a3f",
            "placeholder": "​",
            "style": "IPY_MODEL_68bb4135fcfa42c8a18610e59bcfa842",
            "value": " 243k/243k [00:00&lt;00:00, 547kB/s]"
          }
        },
        "8b86358a0eb547e287034abcca339588": {
          "model_module": "@jupyter-widgets/base",
          "model_name": "LayoutModel",
          "model_module_version": "1.2.0",
          "state": {
            "_model_module": "@jupyter-widgets/base",
            "_model_module_version": "1.2.0",
            "_model_name": "LayoutModel",
            "_view_count": null,
            "_view_module": "@jupyter-widgets/base",
            "_view_module_version": "1.2.0",
            "_view_name": "LayoutView",
            "align_content": null,
            "align_items": null,
            "align_self": null,
            "border": null,
            "bottom": null,
            "display": null,
            "flex": null,
            "flex_flow": null,
            "grid_area": null,
            "grid_auto_columns": null,
            "grid_auto_flow": null,
            "grid_auto_rows": null,
            "grid_column": null,
            "grid_gap": null,
            "grid_row": null,
            "grid_template_areas": null,
            "grid_template_columns": null,
            "grid_template_rows": null,
            "height": null,
            "justify_content": null,
            "justify_items": null,
            "left": null,
            "margin": null,
            "max_height": null,
            "max_width": null,
            "min_height": null,
            "min_width": null,
            "object_fit": null,
            "object_position": null,
            "order": null,
            "overflow": null,
            "overflow_x": null,
            "overflow_y": null,
            "padding": null,
            "right": null,
            "top": null,
            "visibility": null,
            "width": null
          }
        },
        "b59d748a62f045ffae12d6405a5aa481": {
          "model_module": "@jupyter-widgets/base",
          "model_name": "LayoutModel",
          "model_module_version": "1.2.0",
          "state": {
            "_model_module": "@jupyter-widgets/base",
            "_model_module_version": "1.2.0",
            "_model_name": "LayoutModel",
            "_view_count": null,
            "_view_module": "@jupyter-widgets/base",
            "_view_module_version": "1.2.0",
            "_view_name": "LayoutView",
            "align_content": null,
            "align_items": null,
            "align_self": null,
            "border": null,
            "bottom": null,
            "display": null,
            "flex": null,
            "flex_flow": null,
            "grid_area": null,
            "grid_auto_columns": null,
            "grid_auto_flow": null,
            "grid_auto_rows": null,
            "grid_column": null,
            "grid_gap": null,
            "grid_row": null,
            "grid_template_areas": null,
            "grid_template_columns": null,
            "grid_template_rows": null,
            "height": null,
            "justify_content": null,
            "justify_items": null,
            "left": null,
            "margin": null,
            "max_height": null,
            "max_width": null,
            "min_height": null,
            "min_width": null,
            "object_fit": null,
            "object_position": null,
            "order": null,
            "overflow": null,
            "overflow_x": null,
            "overflow_y": null,
            "padding": null,
            "right": null,
            "top": null,
            "visibility": null,
            "width": null
          }
        },
        "1be91f08c201470eb7079b8e727ba986": {
          "model_module": "@jupyter-widgets/controls",
          "model_name": "DescriptionStyleModel",
          "model_module_version": "1.5.0",
          "state": {
            "_model_module": "@jupyter-widgets/controls",
            "_model_module_version": "1.5.0",
            "_model_name": "DescriptionStyleModel",
            "_view_count": null,
            "_view_module": "@jupyter-widgets/base",
            "_view_module_version": "1.2.0",
            "_view_name": "StyleView",
            "description_width": ""
          }
        },
        "7cdb7a3d551a4f948912af513c7abff0": {
          "model_module": "@jupyter-widgets/base",
          "model_name": "LayoutModel",
          "model_module_version": "1.2.0",
          "state": {
            "_model_module": "@jupyter-widgets/base",
            "_model_module_version": "1.2.0",
            "_model_name": "LayoutModel",
            "_view_count": null,
            "_view_module": "@jupyter-widgets/base",
            "_view_module_version": "1.2.0",
            "_view_name": "LayoutView",
            "align_content": null,
            "align_items": null,
            "align_self": null,
            "border": null,
            "bottom": null,
            "display": null,
            "flex": null,
            "flex_flow": null,
            "grid_area": null,
            "grid_auto_columns": null,
            "grid_auto_flow": null,
            "grid_auto_rows": null,
            "grid_column": null,
            "grid_gap": null,
            "grid_row": null,
            "grid_template_areas": null,
            "grid_template_columns": null,
            "grid_template_rows": null,
            "height": null,
            "justify_content": null,
            "justify_items": null,
            "left": null,
            "margin": null,
            "max_height": null,
            "max_width": null,
            "min_height": null,
            "min_width": null,
            "object_fit": null,
            "object_position": null,
            "order": null,
            "overflow": null,
            "overflow_x": null,
            "overflow_y": null,
            "padding": null,
            "right": null,
            "top": null,
            "visibility": null,
            "width": null
          }
        },
        "121c85b6244d4144b9b45c062f90c1d3": {
          "model_module": "@jupyter-widgets/controls",
          "model_name": "ProgressStyleModel",
          "model_module_version": "1.5.0",
          "state": {
            "_model_module": "@jupyter-widgets/controls",
            "_model_module_version": "1.5.0",
            "_model_name": "ProgressStyleModel",
            "_view_count": null,
            "_view_module": "@jupyter-widgets/base",
            "_view_module_version": "1.2.0",
            "_view_name": "StyleView",
            "bar_color": null,
            "description_width": ""
          }
        },
        "8b933f4413ba40f8bf867b81afe29a3f": {
          "model_module": "@jupyter-widgets/base",
          "model_name": "LayoutModel",
          "model_module_version": "1.2.0",
          "state": {
            "_model_module": "@jupyter-widgets/base",
            "_model_module_version": "1.2.0",
            "_model_name": "LayoutModel",
            "_view_count": null,
            "_view_module": "@jupyter-widgets/base",
            "_view_module_version": "1.2.0",
            "_view_name": "LayoutView",
            "align_content": null,
            "align_items": null,
            "align_self": null,
            "border": null,
            "bottom": null,
            "display": null,
            "flex": null,
            "flex_flow": null,
            "grid_area": null,
            "grid_auto_columns": null,
            "grid_auto_flow": null,
            "grid_auto_rows": null,
            "grid_column": null,
            "grid_gap": null,
            "grid_row": null,
            "grid_template_areas": null,
            "grid_template_columns": null,
            "grid_template_rows": null,
            "height": null,
            "justify_content": null,
            "justify_items": null,
            "left": null,
            "margin": null,
            "max_height": null,
            "max_width": null,
            "min_height": null,
            "min_width": null,
            "object_fit": null,
            "object_position": null,
            "order": null,
            "overflow": null,
            "overflow_x": null,
            "overflow_y": null,
            "padding": null,
            "right": null,
            "top": null,
            "visibility": null,
            "width": null
          }
        },
        "68bb4135fcfa42c8a18610e59bcfa842": {
          "model_module": "@jupyter-widgets/controls",
          "model_name": "DescriptionStyleModel",
          "model_module_version": "1.5.0",
          "state": {
            "_model_module": "@jupyter-widgets/controls",
            "_model_module_version": "1.5.0",
            "_model_name": "DescriptionStyleModel",
            "_view_count": null,
            "_view_module": "@jupyter-widgets/base",
            "_view_module_version": "1.2.0",
            "_view_name": "StyleView",
            "description_width": ""
          }
        },
        "0d16a1ee7fea47bb806ee7929a26f746": {
          "model_module": "@jupyter-widgets/controls",
          "model_name": "HBoxModel",
          "model_module_version": "1.5.0",
          "state": {
            "_dom_classes": [],
            "_model_module": "@jupyter-widgets/controls",
            "_model_module_version": "1.5.0",
            "_model_name": "HBoxModel",
            "_view_count": null,
            "_view_module": "@jupyter-widgets/controls",
            "_view_module_version": "1.5.0",
            "_view_name": "HBoxView",
            "box_style": "",
            "children": [
              "IPY_MODEL_4866506740704c6b9bb8b73dfa28c786",
              "IPY_MODEL_207c46e343c4404cbd147a068090bd7e",
              "IPY_MODEL_ccd1575d87d9468980b7e867bb69f24a"
            ],
            "layout": "IPY_MODEL_e3ebdb91661342da8458e4f91a7abaa0"
          }
        },
        "4866506740704c6b9bb8b73dfa28c786": {
          "model_module": "@jupyter-widgets/controls",
          "model_name": "HTMLModel",
          "model_module_version": "1.5.0",
          "state": {
            "_dom_classes": [],
            "_model_module": "@jupyter-widgets/controls",
            "_model_module_version": "1.5.0",
            "_model_name": "HTMLModel",
            "_view_count": null,
            "_view_module": "@jupyter-widgets/controls",
            "_view_module_version": "1.5.0",
            "_view_name": "HTMLView",
            "description": "",
            "description_tooltip": null,
            "layout": "IPY_MODEL_54998b2cb7034617bc1fb51224828739",
            "placeholder": "​",
            "style": "IPY_MODEL_9a836328d8524bb29608413f141e448a",
            "value": "Downloading: 100%"
          }
        },
        "207c46e343c4404cbd147a068090bd7e": {
          "model_module": "@jupyter-widgets/controls",
          "model_name": "FloatProgressModel",
          "model_module_version": "1.5.0",
          "state": {
            "_dom_classes": [],
            "_model_module": "@jupyter-widgets/controls",
            "_model_module_version": "1.5.0",
            "_model_name": "FloatProgressModel",
            "_view_count": null,
            "_view_module": "@jupyter-widgets/controls",
            "_view_module_version": "1.5.0",
            "_view_name": "ProgressView",
            "bar_style": "success",
            "description": "",
            "description_tooltip": null,
            "layout": "IPY_MODEL_feeae9d7f55a4cebb0de5ace6d8f4de6",
            "max": 125,
            "min": 0,
            "orientation": "horizontal",
            "style": "IPY_MODEL_e5552b69727e4695a19e1bdb97a35e95",
            "value": 125
          }
        },
        "ccd1575d87d9468980b7e867bb69f24a": {
          "model_module": "@jupyter-widgets/controls",
          "model_name": "HTMLModel",
          "model_module_version": "1.5.0",
          "state": {
            "_dom_classes": [],
            "_model_module": "@jupyter-widgets/controls",
            "_model_module_version": "1.5.0",
            "_model_name": "HTMLModel",
            "_view_count": null,
            "_view_module": "@jupyter-widgets/controls",
            "_view_module_version": "1.5.0",
            "_view_name": "HTMLView",
            "description": "",
            "description_tooltip": null,
            "layout": "IPY_MODEL_ba073f2a755648b8952bbac114e95075",
            "placeholder": "​",
            "style": "IPY_MODEL_c0d6e48f6c91424495f0645d4b1e26ca",
            "value": " 125/125 [00:00&lt;00:00, 3.35kB/s]"
          }
        },
        "e3ebdb91661342da8458e4f91a7abaa0": {
          "model_module": "@jupyter-widgets/base",
          "model_name": "LayoutModel",
          "model_module_version": "1.2.0",
          "state": {
            "_model_module": "@jupyter-widgets/base",
            "_model_module_version": "1.2.0",
            "_model_name": "LayoutModel",
            "_view_count": null,
            "_view_module": "@jupyter-widgets/base",
            "_view_module_version": "1.2.0",
            "_view_name": "LayoutView",
            "align_content": null,
            "align_items": null,
            "align_self": null,
            "border": null,
            "bottom": null,
            "display": null,
            "flex": null,
            "flex_flow": null,
            "grid_area": null,
            "grid_auto_columns": null,
            "grid_auto_flow": null,
            "grid_auto_rows": null,
            "grid_column": null,
            "grid_gap": null,
            "grid_row": null,
            "grid_template_areas": null,
            "grid_template_columns": null,
            "grid_template_rows": null,
            "height": null,
            "justify_content": null,
            "justify_items": null,
            "left": null,
            "margin": null,
            "max_height": null,
            "max_width": null,
            "min_height": null,
            "min_width": null,
            "object_fit": null,
            "object_position": null,
            "order": null,
            "overflow": null,
            "overflow_x": null,
            "overflow_y": null,
            "padding": null,
            "right": null,
            "top": null,
            "visibility": null,
            "width": null
          }
        },
        "54998b2cb7034617bc1fb51224828739": {
          "model_module": "@jupyter-widgets/base",
          "model_name": "LayoutModel",
          "model_module_version": "1.2.0",
          "state": {
            "_model_module": "@jupyter-widgets/base",
            "_model_module_version": "1.2.0",
            "_model_name": "LayoutModel",
            "_view_count": null,
            "_view_module": "@jupyter-widgets/base",
            "_view_module_version": "1.2.0",
            "_view_name": "LayoutView",
            "align_content": null,
            "align_items": null,
            "align_self": null,
            "border": null,
            "bottom": null,
            "display": null,
            "flex": null,
            "flex_flow": null,
            "grid_area": null,
            "grid_auto_columns": null,
            "grid_auto_flow": null,
            "grid_auto_rows": null,
            "grid_column": null,
            "grid_gap": null,
            "grid_row": null,
            "grid_template_areas": null,
            "grid_template_columns": null,
            "grid_template_rows": null,
            "height": null,
            "justify_content": null,
            "justify_items": null,
            "left": null,
            "margin": null,
            "max_height": null,
            "max_width": null,
            "min_height": null,
            "min_width": null,
            "object_fit": null,
            "object_position": null,
            "order": null,
            "overflow": null,
            "overflow_x": null,
            "overflow_y": null,
            "padding": null,
            "right": null,
            "top": null,
            "visibility": null,
            "width": null
          }
        },
        "9a836328d8524bb29608413f141e448a": {
          "model_module": "@jupyter-widgets/controls",
          "model_name": "DescriptionStyleModel",
          "model_module_version": "1.5.0",
          "state": {
            "_model_module": "@jupyter-widgets/controls",
            "_model_module_version": "1.5.0",
            "_model_name": "DescriptionStyleModel",
            "_view_count": null,
            "_view_module": "@jupyter-widgets/base",
            "_view_module_version": "1.2.0",
            "_view_name": "StyleView",
            "description_width": ""
          }
        },
        "feeae9d7f55a4cebb0de5ace6d8f4de6": {
          "model_module": "@jupyter-widgets/base",
          "model_name": "LayoutModel",
          "model_module_version": "1.2.0",
          "state": {
            "_model_module": "@jupyter-widgets/base",
            "_model_module_version": "1.2.0",
            "_model_name": "LayoutModel",
            "_view_count": null,
            "_view_module": "@jupyter-widgets/base",
            "_view_module_version": "1.2.0",
            "_view_name": "LayoutView",
            "align_content": null,
            "align_items": null,
            "align_self": null,
            "border": null,
            "bottom": null,
            "display": null,
            "flex": null,
            "flex_flow": null,
            "grid_area": null,
            "grid_auto_columns": null,
            "grid_auto_flow": null,
            "grid_auto_rows": null,
            "grid_column": null,
            "grid_gap": null,
            "grid_row": null,
            "grid_template_areas": null,
            "grid_template_columns": null,
            "grid_template_rows": null,
            "height": null,
            "justify_content": null,
            "justify_items": null,
            "left": null,
            "margin": null,
            "max_height": null,
            "max_width": null,
            "min_height": null,
            "min_width": null,
            "object_fit": null,
            "object_position": null,
            "order": null,
            "overflow": null,
            "overflow_x": null,
            "overflow_y": null,
            "padding": null,
            "right": null,
            "top": null,
            "visibility": null,
            "width": null
          }
        },
        "e5552b69727e4695a19e1bdb97a35e95": {
          "model_module": "@jupyter-widgets/controls",
          "model_name": "ProgressStyleModel",
          "model_module_version": "1.5.0",
          "state": {
            "_model_module": "@jupyter-widgets/controls",
            "_model_module_version": "1.5.0",
            "_model_name": "ProgressStyleModel",
            "_view_count": null,
            "_view_module": "@jupyter-widgets/base",
            "_view_module_version": "1.2.0",
            "_view_name": "StyleView",
            "bar_color": null,
            "description_width": ""
          }
        },
        "ba073f2a755648b8952bbac114e95075": {
          "model_module": "@jupyter-widgets/base",
          "model_name": "LayoutModel",
          "model_module_version": "1.2.0",
          "state": {
            "_model_module": "@jupyter-widgets/base",
            "_model_module_version": "1.2.0",
            "_model_name": "LayoutModel",
            "_view_count": null,
            "_view_module": "@jupyter-widgets/base",
            "_view_module_version": "1.2.0",
            "_view_name": "LayoutView",
            "align_content": null,
            "align_items": null,
            "align_self": null,
            "border": null,
            "bottom": null,
            "display": null,
            "flex": null,
            "flex_flow": null,
            "grid_area": null,
            "grid_auto_columns": null,
            "grid_auto_flow": null,
            "grid_auto_rows": null,
            "grid_column": null,
            "grid_gap": null,
            "grid_row": null,
            "grid_template_areas": null,
            "grid_template_columns": null,
            "grid_template_rows": null,
            "height": null,
            "justify_content": null,
            "justify_items": null,
            "left": null,
            "margin": null,
            "max_height": null,
            "max_width": null,
            "min_height": null,
            "min_width": null,
            "object_fit": null,
            "object_position": null,
            "order": null,
            "overflow": null,
            "overflow_x": null,
            "overflow_y": null,
            "padding": null,
            "right": null,
            "top": null,
            "visibility": null,
            "width": null
          }
        },
        "c0d6e48f6c91424495f0645d4b1e26ca": {
          "model_module": "@jupyter-widgets/controls",
          "model_name": "DescriptionStyleModel",
          "model_module_version": "1.5.0",
          "state": {
            "_model_module": "@jupyter-widgets/controls",
            "_model_module_version": "1.5.0",
            "_model_name": "DescriptionStyleModel",
            "_view_count": null,
            "_view_module": "@jupyter-widgets/base",
            "_view_module_version": "1.2.0",
            "_view_name": "StyleView",
            "description_width": ""
          }
        },
        "df00c3a7e06648fe9abbab41bbe222a1": {
          "model_module": "@jupyter-widgets/controls",
          "model_name": "HBoxModel",
          "model_module_version": "1.5.0",
          "state": {
            "_dom_classes": [],
            "_model_module": "@jupyter-widgets/controls",
            "_model_module_version": "1.5.0",
            "_model_name": "HBoxModel",
            "_view_count": null,
            "_view_module": "@jupyter-widgets/controls",
            "_view_module_version": "1.5.0",
            "_view_name": "HBoxView",
            "box_style": "",
            "children": [
              "IPY_MODEL_24f2f2f5c47a46e0a8871581c4398036",
              "IPY_MODEL_7e6f33cf9f5d4341bdc14af9dd44e123",
              "IPY_MODEL_1561aeb748724b19a9823bec97456472"
            ],
            "layout": "IPY_MODEL_7ca53bb4e351402cbc13d0e1dc92de97"
          }
        },
        "24f2f2f5c47a46e0a8871581c4398036": {
          "model_module": "@jupyter-widgets/controls",
          "model_name": "HTMLModel",
          "model_module_version": "1.5.0",
          "state": {
            "_dom_classes": [],
            "_model_module": "@jupyter-widgets/controls",
            "_model_module_version": "1.5.0",
            "_model_name": "HTMLModel",
            "_view_count": null,
            "_view_module": "@jupyter-widgets/controls",
            "_view_module_version": "1.5.0",
            "_view_name": "HTMLView",
            "description": "",
            "description_tooltip": null,
            "layout": "IPY_MODEL_34249af541074375bf2b772f71ce653a",
            "placeholder": "​",
            "style": "IPY_MODEL_34dd6b09de7e46ac95d2d72dd4d87246",
            "value": "Downloading: 100%"
          }
        },
        "7e6f33cf9f5d4341bdc14af9dd44e123": {
          "model_module": "@jupyter-widgets/controls",
          "model_name": "FloatProgressModel",
          "model_module_version": "1.5.0",
          "state": {
            "_dom_classes": [],
            "_model_module": "@jupyter-widgets/controls",
            "_model_module_version": "1.5.0",
            "_model_name": "FloatProgressModel",
            "_view_count": null,
            "_view_module": "@jupyter-widgets/controls",
            "_view_module_version": "1.5.0",
            "_view_name": "ProgressView",
            "bar_style": "success",
            "description": "",
            "description_tooltip": null,
            "layout": "IPY_MODEL_d4bf598faa59442fb3c234c652515edc",
            "max": 289,
            "min": 0,
            "orientation": "horizontal",
            "style": "IPY_MODEL_d1c06b055e90411cb2e1fd519742651c",
            "value": 289
          }
        },
        "1561aeb748724b19a9823bec97456472": {
          "model_module": "@jupyter-widgets/controls",
          "model_name": "HTMLModel",
          "model_module_version": "1.5.0",
          "state": {
            "_dom_classes": [],
            "_model_module": "@jupyter-widgets/controls",
            "_model_module_version": "1.5.0",
            "_model_name": "HTMLModel",
            "_view_count": null,
            "_view_module": "@jupyter-widgets/controls",
            "_view_module_version": "1.5.0",
            "_view_name": "HTMLView",
            "description": "",
            "description_tooltip": null,
            "layout": "IPY_MODEL_2b2454b1879849e191f57cb049641400",
            "placeholder": "​",
            "style": "IPY_MODEL_485a62ae77a649c5b267d7a2237812c3",
            "value": " 289/289 [00:00&lt;00:00, 6.09kB/s]"
          }
        },
        "7ca53bb4e351402cbc13d0e1dc92de97": {
          "model_module": "@jupyter-widgets/base",
          "model_name": "LayoutModel",
          "model_module_version": "1.2.0",
          "state": {
            "_model_module": "@jupyter-widgets/base",
            "_model_module_version": "1.2.0",
            "_model_name": "LayoutModel",
            "_view_count": null,
            "_view_module": "@jupyter-widgets/base",
            "_view_module_version": "1.2.0",
            "_view_name": "LayoutView",
            "align_content": null,
            "align_items": null,
            "align_self": null,
            "border": null,
            "bottom": null,
            "display": null,
            "flex": null,
            "flex_flow": null,
            "grid_area": null,
            "grid_auto_columns": null,
            "grid_auto_flow": null,
            "grid_auto_rows": null,
            "grid_column": null,
            "grid_gap": null,
            "grid_row": null,
            "grid_template_areas": null,
            "grid_template_columns": null,
            "grid_template_rows": null,
            "height": null,
            "justify_content": null,
            "justify_items": null,
            "left": null,
            "margin": null,
            "max_height": null,
            "max_width": null,
            "min_height": null,
            "min_width": null,
            "object_fit": null,
            "object_position": null,
            "order": null,
            "overflow": null,
            "overflow_x": null,
            "overflow_y": null,
            "padding": null,
            "right": null,
            "top": null,
            "visibility": null,
            "width": null
          }
        },
        "34249af541074375bf2b772f71ce653a": {
          "model_module": "@jupyter-widgets/base",
          "model_name": "LayoutModel",
          "model_module_version": "1.2.0",
          "state": {
            "_model_module": "@jupyter-widgets/base",
            "_model_module_version": "1.2.0",
            "_model_name": "LayoutModel",
            "_view_count": null,
            "_view_module": "@jupyter-widgets/base",
            "_view_module_version": "1.2.0",
            "_view_name": "LayoutView",
            "align_content": null,
            "align_items": null,
            "align_self": null,
            "border": null,
            "bottom": null,
            "display": null,
            "flex": null,
            "flex_flow": null,
            "grid_area": null,
            "grid_auto_columns": null,
            "grid_auto_flow": null,
            "grid_auto_rows": null,
            "grid_column": null,
            "grid_gap": null,
            "grid_row": null,
            "grid_template_areas": null,
            "grid_template_columns": null,
            "grid_template_rows": null,
            "height": null,
            "justify_content": null,
            "justify_items": null,
            "left": null,
            "margin": null,
            "max_height": null,
            "max_width": null,
            "min_height": null,
            "min_width": null,
            "object_fit": null,
            "object_position": null,
            "order": null,
            "overflow": null,
            "overflow_x": null,
            "overflow_y": null,
            "padding": null,
            "right": null,
            "top": null,
            "visibility": null,
            "width": null
          }
        },
        "34dd6b09de7e46ac95d2d72dd4d87246": {
          "model_module": "@jupyter-widgets/controls",
          "model_name": "DescriptionStyleModel",
          "model_module_version": "1.5.0",
          "state": {
            "_model_module": "@jupyter-widgets/controls",
            "_model_module_version": "1.5.0",
            "_model_name": "DescriptionStyleModel",
            "_view_count": null,
            "_view_module": "@jupyter-widgets/base",
            "_view_module_version": "1.2.0",
            "_view_name": "StyleView",
            "description_width": ""
          }
        },
        "d4bf598faa59442fb3c234c652515edc": {
          "model_module": "@jupyter-widgets/base",
          "model_name": "LayoutModel",
          "model_module_version": "1.2.0",
          "state": {
            "_model_module": "@jupyter-widgets/base",
            "_model_module_version": "1.2.0",
            "_model_name": "LayoutModel",
            "_view_count": null,
            "_view_module": "@jupyter-widgets/base",
            "_view_module_version": "1.2.0",
            "_view_name": "LayoutView",
            "align_content": null,
            "align_items": null,
            "align_self": null,
            "border": null,
            "bottom": null,
            "display": null,
            "flex": null,
            "flex_flow": null,
            "grid_area": null,
            "grid_auto_columns": null,
            "grid_auto_flow": null,
            "grid_auto_rows": null,
            "grid_column": null,
            "grid_gap": null,
            "grid_row": null,
            "grid_template_areas": null,
            "grid_template_columns": null,
            "grid_template_rows": null,
            "height": null,
            "justify_content": null,
            "justify_items": null,
            "left": null,
            "margin": null,
            "max_height": null,
            "max_width": null,
            "min_height": null,
            "min_width": null,
            "object_fit": null,
            "object_position": null,
            "order": null,
            "overflow": null,
            "overflow_x": null,
            "overflow_y": null,
            "padding": null,
            "right": null,
            "top": null,
            "visibility": null,
            "width": null
          }
        },
        "d1c06b055e90411cb2e1fd519742651c": {
          "model_module": "@jupyter-widgets/controls",
          "model_name": "ProgressStyleModel",
          "model_module_version": "1.5.0",
          "state": {
            "_model_module": "@jupyter-widgets/controls",
            "_model_module_version": "1.5.0",
            "_model_name": "ProgressStyleModel",
            "_view_count": null,
            "_view_module": "@jupyter-widgets/base",
            "_view_module_version": "1.2.0",
            "_view_name": "StyleView",
            "bar_color": null,
            "description_width": ""
          }
        },
        "2b2454b1879849e191f57cb049641400": {
          "model_module": "@jupyter-widgets/base",
          "model_name": "LayoutModel",
          "model_module_version": "1.2.0",
          "state": {
            "_model_module": "@jupyter-widgets/base",
            "_model_module_version": "1.2.0",
            "_model_name": "LayoutModel",
            "_view_count": null,
            "_view_module": "@jupyter-widgets/base",
            "_view_module_version": "1.2.0",
            "_view_name": "LayoutView",
            "align_content": null,
            "align_items": null,
            "align_self": null,
            "border": null,
            "bottom": null,
            "display": null,
            "flex": null,
            "flex_flow": null,
            "grid_area": null,
            "grid_auto_columns": null,
            "grid_auto_flow": null,
            "grid_auto_rows": null,
            "grid_column": null,
            "grid_gap": null,
            "grid_row": null,
            "grid_template_areas": null,
            "grid_template_columns": null,
            "grid_template_rows": null,
            "height": null,
            "justify_content": null,
            "justify_items": null,
            "left": null,
            "margin": null,
            "max_height": null,
            "max_width": null,
            "min_height": null,
            "min_width": null,
            "object_fit": null,
            "object_position": null,
            "order": null,
            "overflow": null,
            "overflow_x": null,
            "overflow_y": null,
            "padding": null,
            "right": null,
            "top": null,
            "visibility": null,
            "width": null
          }
        },
        "485a62ae77a649c5b267d7a2237812c3": {
          "model_module": "@jupyter-widgets/controls",
          "model_name": "DescriptionStyleModel",
          "model_module_version": "1.5.0",
          "state": {
            "_model_module": "@jupyter-widgets/controls",
            "_model_module_version": "1.5.0",
            "_model_name": "DescriptionStyleModel",
            "_view_count": null,
            "_view_module": "@jupyter-widgets/base",
            "_view_module_version": "1.2.0",
            "_view_name": "StyleView",
            "description_width": ""
          }
        },
        "74e1b90191044969b4c2aa1b65bc84be": {
          "model_module": "@jupyter-widgets/controls",
          "model_name": "HBoxModel",
          "model_module_version": "1.5.0",
          "state": {
            "_dom_classes": [],
            "_model_module": "@jupyter-widgets/controls",
            "_model_module_version": "1.5.0",
            "_model_name": "HBoxModel",
            "_view_count": null,
            "_view_module": "@jupyter-widgets/controls",
            "_view_module_version": "1.5.0",
            "_view_name": "HBoxView",
            "box_style": "",
            "children": [
              "IPY_MODEL_45c5396f284043cdb856c81a6e28c73a",
              "IPY_MODEL_6ecfcf38e1a7471283eada911f81b304",
              "IPY_MODEL_71ad32d7fe764fbdb2ec483fae047261"
            ],
            "layout": "IPY_MODEL_7d7855a759ff4c468eda123fc197b7e4"
          }
        },
        "45c5396f284043cdb856c81a6e28c73a": {
          "model_module": "@jupyter-widgets/controls",
          "model_name": "HTMLModel",
          "model_module_version": "1.5.0",
          "state": {
            "_dom_classes": [],
            "_model_module": "@jupyter-widgets/controls",
            "_model_module_version": "1.5.0",
            "_model_name": "HTMLModel",
            "_view_count": null,
            "_view_module": "@jupyter-widgets/controls",
            "_view_module_version": "1.5.0",
            "_view_name": "HTMLView",
            "description": "",
            "description_tooltip": null,
            "layout": "IPY_MODEL_6ba4c4e41a054ba99b6da06b268ea1b2",
            "placeholder": "​",
            "style": "IPY_MODEL_fd4ec6b4466f45c6ba8be67d5584226e",
            "value": "Downloading: 100%"
          }
        },
        "6ecfcf38e1a7471283eada911f81b304": {
          "model_module": "@jupyter-widgets/controls",
          "model_name": "FloatProgressModel",
          "model_module_version": "1.5.0",
          "state": {
            "_dom_classes": [],
            "_model_module": "@jupyter-widgets/controls",
            "_model_module_version": "1.5.0",
            "_model_name": "FloatProgressModel",
            "_view_count": null,
            "_view_module": "@jupyter-widgets/controls",
            "_view_module_version": "1.5.0",
            "_view_name": "ProgressView",
            "bar_style": "success",
            "description": "",
            "description_tooltip": null,
            "layout": "IPY_MODEL_6b5335c31013432f8ff54072b8c20b8e",
            "max": 425,
            "min": 0,
            "orientation": "horizontal",
            "style": "IPY_MODEL_3b128924ee804081962247db2f099b80",
            "value": 425
          }
        },
        "71ad32d7fe764fbdb2ec483fae047261": {
          "model_module": "@jupyter-widgets/controls",
          "model_name": "HTMLModel",
          "model_module_version": "1.5.0",
          "state": {
            "_dom_classes": [],
            "_model_module": "@jupyter-widgets/controls",
            "_model_module_version": "1.5.0",
            "_model_name": "HTMLModel",
            "_view_count": null,
            "_view_module": "@jupyter-widgets/controls",
            "_view_module_version": "1.5.0",
            "_view_name": "HTMLView",
            "description": "",
            "description_tooltip": null,
            "layout": "IPY_MODEL_40d91ffcc0144539a7eaa86163e9773b",
            "placeholder": "​",
            "style": "IPY_MODEL_d26433949e154491a4ebe218d3d02179",
            "value": " 425/425 [00:00&lt;00:00, 11.4kB/s]"
          }
        },
        "7d7855a759ff4c468eda123fc197b7e4": {
          "model_module": "@jupyter-widgets/base",
          "model_name": "LayoutModel",
          "model_module_version": "1.2.0",
          "state": {
            "_model_module": "@jupyter-widgets/base",
            "_model_module_version": "1.2.0",
            "_model_name": "LayoutModel",
            "_view_count": null,
            "_view_module": "@jupyter-widgets/base",
            "_view_module_version": "1.2.0",
            "_view_name": "LayoutView",
            "align_content": null,
            "align_items": null,
            "align_self": null,
            "border": null,
            "bottom": null,
            "display": null,
            "flex": null,
            "flex_flow": null,
            "grid_area": null,
            "grid_auto_columns": null,
            "grid_auto_flow": null,
            "grid_auto_rows": null,
            "grid_column": null,
            "grid_gap": null,
            "grid_row": null,
            "grid_template_areas": null,
            "grid_template_columns": null,
            "grid_template_rows": null,
            "height": null,
            "justify_content": null,
            "justify_items": null,
            "left": null,
            "margin": null,
            "max_height": null,
            "max_width": null,
            "min_height": null,
            "min_width": null,
            "object_fit": null,
            "object_position": null,
            "order": null,
            "overflow": null,
            "overflow_x": null,
            "overflow_y": null,
            "padding": null,
            "right": null,
            "top": null,
            "visibility": null,
            "width": null
          }
        },
        "6ba4c4e41a054ba99b6da06b268ea1b2": {
          "model_module": "@jupyter-widgets/base",
          "model_name": "LayoutModel",
          "model_module_version": "1.2.0",
          "state": {
            "_model_module": "@jupyter-widgets/base",
            "_model_module_version": "1.2.0",
            "_model_name": "LayoutModel",
            "_view_count": null,
            "_view_module": "@jupyter-widgets/base",
            "_view_module_version": "1.2.0",
            "_view_name": "LayoutView",
            "align_content": null,
            "align_items": null,
            "align_self": null,
            "border": null,
            "bottom": null,
            "display": null,
            "flex": null,
            "flex_flow": null,
            "grid_area": null,
            "grid_auto_columns": null,
            "grid_auto_flow": null,
            "grid_auto_rows": null,
            "grid_column": null,
            "grid_gap": null,
            "grid_row": null,
            "grid_template_areas": null,
            "grid_template_columns": null,
            "grid_template_rows": null,
            "height": null,
            "justify_content": null,
            "justify_items": null,
            "left": null,
            "margin": null,
            "max_height": null,
            "max_width": null,
            "min_height": null,
            "min_width": null,
            "object_fit": null,
            "object_position": null,
            "order": null,
            "overflow": null,
            "overflow_x": null,
            "overflow_y": null,
            "padding": null,
            "right": null,
            "top": null,
            "visibility": null,
            "width": null
          }
        },
        "fd4ec6b4466f45c6ba8be67d5584226e": {
          "model_module": "@jupyter-widgets/controls",
          "model_name": "DescriptionStyleModel",
          "model_module_version": "1.5.0",
          "state": {
            "_model_module": "@jupyter-widgets/controls",
            "_model_module_version": "1.5.0",
            "_model_name": "DescriptionStyleModel",
            "_view_count": null,
            "_view_module": "@jupyter-widgets/base",
            "_view_module_version": "1.2.0",
            "_view_name": "StyleView",
            "description_width": ""
          }
        },
        "6b5335c31013432f8ff54072b8c20b8e": {
          "model_module": "@jupyter-widgets/base",
          "model_name": "LayoutModel",
          "model_module_version": "1.2.0",
          "state": {
            "_model_module": "@jupyter-widgets/base",
            "_model_module_version": "1.2.0",
            "_model_name": "LayoutModel",
            "_view_count": null,
            "_view_module": "@jupyter-widgets/base",
            "_view_module_version": "1.2.0",
            "_view_name": "LayoutView",
            "align_content": null,
            "align_items": null,
            "align_self": null,
            "border": null,
            "bottom": null,
            "display": null,
            "flex": null,
            "flex_flow": null,
            "grid_area": null,
            "grid_auto_columns": null,
            "grid_auto_flow": null,
            "grid_auto_rows": null,
            "grid_column": null,
            "grid_gap": null,
            "grid_row": null,
            "grid_template_areas": null,
            "grid_template_columns": null,
            "grid_template_rows": null,
            "height": null,
            "justify_content": null,
            "justify_items": null,
            "left": null,
            "margin": null,
            "max_height": null,
            "max_width": null,
            "min_height": null,
            "min_width": null,
            "object_fit": null,
            "object_position": null,
            "order": null,
            "overflow": null,
            "overflow_x": null,
            "overflow_y": null,
            "padding": null,
            "right": null,
            "top": null,
            "visibility": null,
            "width": null
          }
        },
        "3b128924ee804081962247db2f099b80": {
          "model_module": "@jupyter-widgets/controls",
          "model_name": "ProgressStyleModel",
          "model_module_version": "1.5.0",
          "state": {
            "_model_module": "@jupyter-widgets/controls",
            "_model_module_version": "1.5.0",
            "_model_name": "ProgressStyleModel",
            "_view_count": null,
            "_view_module": "@jupyter-widgets/base",
            "_view_module_version": "1.2.0",
            "_view_name": "StyleView",
            "bar_color": null,
            "description_width": ""
          }
        },
        "40d91ffcc0144539a7eaa86163e9773b": {
          "model_module": "@jupyter-widgets/base",
          "model_name": "LayoutModel",
          "model_module_version": "1.2.0",
          "state": {
            "_model_module": "@jupyter-widgets/base",
            "_model_module_version": "1.2.0",
            "_model_name": "LayoutModel",
            "_view_count": null,
            "_view_module": "@jupyter-widgets/base",
            "_view_module_version": "1.2.0",
            "_view_name": "LayoutView",
            "align_content": null,
            "align_items": null,
            "align_self": null,
            "border": null,
            "bottom": null,
            "display": null,
            "flex": null,
            "flex_flow": null,
            "grid_area": null,
            "grid_auto_columns": null,
            "grid_auto_flow": null,
            "grid_auto_rows": null,
            "grid_column": null,
            "grid_gap": null,
            "grid_row": null,
            "grid_template_areas": null,
            "grid_template_columns": null,
            "grid_template_rows": null,
            "height": null,
            "justify_content": null,
            "justify_items": null,
            "left": null,
            "margin": null,
            "max_height": null,
            "max_width": null,
            "min_height": null,
            "min_width": null,
            "object_fit": null,
            "object_position": null,
            "order": null,
            "overflow": null,
            "overflow_x": null,
            "overflow_y": null,
            "padding": null,
            "right": null,
            "top": null,
            "visibility": null,
            "width": null
          }
        },
        "d26433949e154491a4ebe218d3d02179": {
          "model_module": "@jupyter-widgets/controls",
          "model_name": "DescriptionStyleModel",
          "model_module_version": "1.5.0",
          "state": {
            "_model_module": "@jupyter-widgets/controls",
            "_model_module_version": "1.5.0",
            "_model_name": "DescriptionStyleModel",
            "_view_count": null,
            "_view_module": "@jupyter-widgets/base",
            "_view_module_version": "1.2.0",
            "_view_name": "StyleView",
            "description_width": ""
          }
        },
        "73c20731f19b4c41a3504cffda64c5b6": {
          "model_module": "@jupyter-widgets/controls",
          "model_name": "HBoxModel",
          "model_module_version": "1.5.0",
          "state": {
            "_dom_classes": [],
            "_model_module": "@jupyter-widgets/controls",
            "_model_module_version": "1.5.0",
            "_model_name": "HBoxModel",
            "_view_count": null,
            "_view_module": "@jupyter-widgets/controls",
            "_view_module_version": "1.5.0",
            "_view_name": "HBoxView",
            "box_style": "",
            "children": [
              "IPY_MODEL_82717781a7024221b208bccf550926fc",
              "IPY_MODEL_33a3f6954b7547f0ac569cb7d700c589",
              "IPY_MODEL_8cfd1a6395c24857a890853db4b8c9de"
            ],
            "layout": "IPY_MODEL_ec46c482b63d40e9aa24af6013bc071e"
          }
        },
        "82717781a7024221b208bccf550926fc": {
          "model_module": "@jupyter-widgets/controls",
          "model_name": "HTMLModel",
          "model_module_version": "1.5.0",
          "state": {
            "_dom_classes": [],
            "_model_module": "@jupyter-widgets/controls",
            "_model_module_version": "1.5.0",
            "_model_name": "HTMLModel",
            "_view_count": null,
            "_view_module": "@jupyter-widgets/controls",
            "_view_module_version": "1.5.0",
            "_view_name": "HTMLView",
            "description": "",
            "description_tooltip": null,
            "layout": "IPY_MODEL_d7fd35bb47d74ec1baf9d226361559a8",
            "placeholder": "​",
            "style": "IPY_MODEL_76d793131b0f4de7a1878e35ef4fd1fb",
            "value": "Downloading: 100%"
          }
        },
        "33a3f6954b7547f0ac569cb7d700c589": {
          "model_module": "@jupyter-widgets/controls",
          "model_name": "FloatProgressModel",
          "model_module_version": "1.5.0",
          "state": {
            "_dom_classes": [],
            "_model_module": "@jupyter-widgets/controls",
            "_model_module_version": "1.5.0",
            "_model_name": "FloatProgressModel",
            "_view_count": null,
            "_view_module": "@jupyter-widgets/controls",
            "_view_module_version": "1.5.0",
            "_view_name": "ProgressView",
            "bar_style": "success",
            "description": "",
            "description_tooltip": null,
            "layout": "IPY_MODEL_d51f5905188e4047b7daa6d8288bcd3a",
            "max": 445025130,
            "min": 0,
            "orientation": "horizontal",
            "style": "IPY_MODEL_7767bbaaea87407ba2ae4031fa17da0e",
            "value": 445025130
          }
        },
        "8cfd1a6395c24857a890853db4b8c9de": {
          "model_module": "@jupyter-widgets/controls",
          "model_name": "HTMLModel",
          "model_module_version": "1.5.0",
          "state": {
            "_dom_classes": [],
            "_model_module": "@jupyter-widgets/controls",
            "_model_module_version": "1.5.0",
            "_model_name": "HTMLModel",
            "_view_count": null,
            "_view_module": "@jupyter-widgets/controls",
            "_view_module_version": "1.5.0",
            "_view_name": "HTMLView",
            "description": "",
            "description_tooltip": null,
            "layout": "IPY_MODEL_25834230c9694284b51567a2fe3e65a2",
            "placeholder": "​",
            "style": "IPY_MODEL_bad478f9dcd34ee8b58486f7c2f0525c",
            "value": " 424M/424M [00:24&lt;00:00, 38.9MB/s]"
          }
        },
        "ec46c482b63d40e9aa24af6013bc071e": {
          "model_module": "@jupyter-widgets/base",
          "model_name": "LayoutModel",
          "model_module_version": "1.2.0",
          "state": {
            "_model_module": "@jupyter-widgets/base",
            "_model_module_version": "1.2.0",
            "_model_name": "LayoutModel",
            "_view_count": null,
            "_view_module": "@jupyter-widgets/base",
            "_view_module_version": "1.2.0",
            "_view_name": "LayoutView",
            "align_content": null,
            "align_items": null,
            "align_self": null,
            "border": null,
            "bottom": null,
            "display": null,
            "flex": null,
            "flex_flow": null,
            "grid_area": null,
            "grid_auto_columns": null,
            "grid_auto_flow": null,
            "grid_auto_rows": null,
            "grid_column": null,
            "grid_gap": null,
            "grid_row": null,
            "grid_template_areas": null,
            "grid_template_columns": null,
            "grid_template_rows": null,
            "height": null,
            "justify_content": null,
            "justify_items": null,
            "left": null,
            "margin": null,
            "max_height": null,
            "max_width": null,
            "min_height": null,
            "min_width": null,
            "object_fit": null,
            "object_position": null,
            "order": null,
            "overflow": null,
            "overflow_x": null,
            "overflow_y": null,
            "padding": null,
            "right": null,
            "top": null,
            "visibility": null,
            "width": null
          }
        },
        "d7fd35bb47d74ec1baf9d226361559a8": {
          "model_module": "@jupyter-widgets/base",
          "model_name": "LayoutModel",
          "model_module_version": "1.2.0",
          "state": {
            "_model_module": "@jupyter-widgets/base",
            "_model_module_version": "1.2.0",
            "_model_name": "LayoutModel",
            "_view_count": null,
            "_view_module": "@jupyter-widgets/base",
            "_view_module_version": "1.2.0",
            "_view_name": "LayoutView",
            "align_content": null,
            "align_items": null,
            "align_self": null,
            "border": null,
            "bottom": null,
            "display": null,
            "flex": null,
            "flex_flow": null,
            "grid_area": null,
            "grid_auto_columns": null,
            "grid_auto_flow": null,
            "grid_auto_rows": null,
            "grid_column": null,
            "grid_gap": null,
            "grid_row": null,
            "grid_template_areas": null,
            "grid_template_columns": null,
            "grid_template_rows": null,
            "height": null,
            "justify_content": null,
            "justify_items": null,
            "left": null,
            "margin": null,
            "max_height": null,
            "max_width": null,
            "min_height": null,
            "min_width": null,
            "object_fit": null,
            "object_position": null,
            "order": null,
            "overflow": null,
            "overflow_x": null,
            "overflow_y": null,
            "padding": null,
            "right": null,
            "top": null,
            "visibility": null,
            "width": null
          }
        },
        "76d793131b0f4de7a1878e35ef4fd1fb": {
          "model_module": "@jupyter-widgets/controls",
          "model_name": "DescriptionStyleModel",
          "model_module_version": "1.5.0",
          "state": {
            "_model_module": "@jupyter-widgets/controls",
            "_model_module_version": "1.5.0",
            "_model_name": "DescriptionStyleModel",
            "_view_count": null,
            "_view_module": "@jupyter-widgets/base",
            "_view_module_version": "1.2.0",
            "_view_name": "StyleView",
            "description_width": ""
          }
        },
        "d51f5905188e4047b7daa6d8288bcd3a": {
          "model_module": "@jupyter-widgets/base",
          "model_name": "LayoutModel",
          "model_module_version": "1.2.0",
          "state": {
            "_model_module": "@jupyter-widgets/base",
            "_model_module_version": "1.2.0",
            "_model_name": "LayoutModel",
            "_view_count": null,
            "_view_module": "@jupyter-widgets/base",
            "_view_module_version": "1.2.0",
            "_view_name": "LayoutView",
            "align_content": null,
            "align_items": null,
            "align_self": null,
            "border": null,
            "bottom": null,
            "display": null,
            "flex": null,
            "flex_flow": null,
            "grid_area": null,
            "grid_auto_columns": null,
            "grid_auto_flow": null,
            "grid_auto_rows": null,
            "grid_column": null,
            "grid_gap": null,
            "grid_row": null,
            "grid_template_areas": null,
            "grid_template_columns": null,
            "grid_template_rows": null,
            "height": null,
            "justify_content": null,
            "justify_items": null,
            "left": null,
            "margin": null,
            "max_height": null,
            "max_width": null,
            "min_height": null,
            "min_width": null,
            "object_fit": null,
            "object_position": null,
            "order": null,
            "overflow": null,
            "overflow_x": null,
            "overflow_y": null,
            "padding": null,
            "right": null,
            "top": null,
            "visibility": null,
            "width": null
          }
        },
        "7767bbaaea87407ba2ae4031fa17da0e": {
          "model_module": "@jupyter-widgets/controls",
          "model_name": "ProgressStyleModel",
          "model_module_version": "1.5.0",
          "state": {
            "_model_module": "@jupyter-widgets/controls",
            "_model_module_version": "1.5.0",
            "_model_name": "ProgressStyleModel",
            "_view_count": null,
            "_view_module": "@jupyter-widgets/base",
            "_view_module_version": "1.2.0",
            "_view_name": "StyleView",
            "bar_color": null,
            "description_width": ""
          }
        },
        "25834230c9694284b51567a2fe3e65a2": {
          "model_module": "@jupyter-widgets/base",
          "model_name": "LayoutModel",
          "model_module_version": "1.2.0",
          "state": {
            "_model_module": "@jupyter-widgets/base",
            "_model_module_version": "1.2.0",
            "_model_name": "LayoutModel",
            "_view_count": null,
            "_view_module": "@jupyter-widgets/base",
            "_view_module_version": "1.2.0",
            "_view_name": "LayoutView",
            "align_content": null,
            "align_items": null,
            "align_self": null,
            "border": null,
            "bottom": null,
            "display": null,
            "flex": null,
            "flex_flow": null,
            "grid_area": null,
            "grid_auto_columns": null,
            "grid_auto_flow": null,
            "grid_auto_rows": null,
            "grid_column": null,
            "grid_gap": null,
            "grid_row": null,
            "grid_template_areas": null,
            "grid_template_columns": null,
            "grid_template_rows": null,
            "height": null,
            "justify_content": null,
            "justify_items": null,
            "left": null,
            "margin": null,
            "max_height": null,
            "max_width": null,
            "min_height": null,
            "min_width": null,
            "object_fit": null,
            "object_position": null,
            "order": null,
            "overflow": null,
            "overflow_x": null,
            "overflow_y": null,
            "padding": null,
            "right": null,
            "top": null,
            "visibility": null,
            "width": null
          }
        },
        "bad478f9dcd34ee8b58486f7c2f0525c": {
          "model_module": "@jupyter-widgets/controls",
          "model_name": "DescriptionStyleModel",
          "model_module_version": "1.5.0",
          "state": {
            "_model_module": "@jupyter-widgets/controls",
            "_model_module_version": "1.5.0",
            "_model_name": "DescriptionStyleModel",
            "_view_count": null,
            "_view_module": "@jupyter-widgets/base",
            "_view_module_version": "1.2.0",
            "_view_name": "StyleView",
            "description_width": ""
          }
        }
      }
    }
  },
  "nbformat": 4,
  "nbformat_minor": 0
}